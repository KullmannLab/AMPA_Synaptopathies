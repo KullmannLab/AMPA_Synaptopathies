{
 "cells": [
  {
   "cell_type": "code",
   "execution_count": 1,
   "metadata": {
    "collapsed": true
   },
   "outputs": [],
   "source": [
    "import os\n",
    "import pandas as pd\n",
    "import matplotlib as mpl\n",
    "from matplotlib import pyplot as plt\n",
    "import numpy as np\n",
    "import seaborn as sns\n",
    "from neo import io\n",
    "import quantities as pq\n",
    "\n",
    "mpl.rcParams['pdf.fonttype'] = 42\n",
    "\n",
    "%matplotlib inline"
   ]
  },
  {
   "cell_type": "code",
   "execution_count": null,
   "metadata": {
    "collapsed": true
   },
   "outputs": [],
   "source": []
  },
  {
   "cell_type": "code",
   "execution_count": 62,
   "metadata": {},
   "outputs": [
    {
     "name": "stderr",
     "output_type": "stream",
     "text": [
      "C:\\ProgramData\\Anaconda3\\lib\\site-packages\\ipykernel_launcher.py:13: SettingWithCopyWarning: \n",
      "A value is trying to be set on a copy of a slice from a DataFrame\n",
      "\n",
      "See the caveats in the documentation: http://pandas.pydata.org/pandas-docs/stable/indexing.html#indexing-view-versus-copy\n",
      "  del sys.path[0]\n"
     ]
    }
   ],
   "source": [
    "# Import the list of files to analyse\n",
    "\n",
    "ramps_df = pd.read_excel('C://Users//cdixon//Documents//DataSynaptopathies//20180410_AMPA_RampDetails.xlsx')\n",
    "ramps_df.dropna(how='all', inplace=True)\n",
    "summary_df = pd.read_excel('C://Users//cdixon//Documents//DataSynaptopathies//2017Electrophysiology/825RigBackup/GluR2_KA_summary060518.xlsx',\n",
    "                              sheetname='Gria1')\n",
    "summary_df['Record'] = summary_df['Record'].astype(str)\n",
    "summary_df['Date'] = summary_df['Date'].astype(str)\n",
    "\n",
    "def make_filenames(summary=summary_df, ramps_df=ramps_df):\n",
    "    summary_df['File'] = 'blank'\n",
    "    for row in range(0, len(summary_df)):\n",
    "        summary_df['File'][row] = summary_df['Date'][row] + '_' + summary_df['Record'][row][:3]\n",
    "\n",
    "make_filenames()\n",
    "ramps_df = pd.merge(ramps_df, summary_df[['Mutant', 'File']], how='inner', on='File')\n",
    "# ramps_df.sort_values('Mutant', inplace=True) # Do this for graphing\n",
    "ramps_df.reset_index(drop=True, inplace=True)\n",
    "\n",
    "# Note: ramps threshold here refers to classifying a ramp as control or drug, not identifying ramps"
   ]
  },
  {
   "cell_type": "code",
   "execution_count": 7,
   "metadata": {
    "scrolled": false
   },
   "outputs": [
    {
     "data": {
      "text/html": [
       "<div>\n",
       "<style>\n",
       "    .dataframe thead tr:only-child th {\n",
       "        text-align: right;\n",
       "    }\n",
       "\n",
       "    .dataframe thead th {\n",
       "        text-align: left;\n",
       "    }\n",
       "\n",
       "    .dataframe tbody tr th {\n",
       "        vertical-align: top;\n",
       "    }\n",
       "</style>\n",
       "<table border=\"1\" class=\"dataframe\">\n",
       "  <thead>\n",
       "    <tr style=\"text-align: right;\">\n",
       "      <th></th>\n",
       "      <th>File</th>\n",
       "      <th>Date</th>\n",
       "      <th>number</th>\n",
       "      <th>ramp threshold</th>\n",
       "      <th>Analysis_start</th>\n",
       "      <th>Analysis_end</th>\n",
       "      <th>Notes</th>\n",
       "      <th>Mutant</th>\n",
       "    </tr>\n",
       "  </thead>\n",
       "  <tbody>\n",
       "    <tr>\n",
       "      <th>0</th>\n",
       "      <td>180405_001</td>\n",
       "      <td>180405.0</td>\n",
       "      <td>001</td>\n",
       "      <td>-1300.0</td>\n",
       "      <td>30.0</td>\n",
       "      <td>90.0</td>\n",
       "      <td>NaN</td>\n",
       "      <td>T646N</td>\n",
       "    </tr>\n",
       "    <tr>\n",
       "      <th>1</th>\n",
       "      <td>180405_002</td>\n",
       "      <td>180405.0</td>\n",
       "      <td>002</td>\n",
       "      <td>-1000.0</td>\n",
       "      <td>25.0</td>\n",
       "      <td>90.0</td>\n",
       "      <td>NaN</td>\n",
       "      <td>T646N</td>\n",
       "    </tr>\n",
       "    <tr>\n",
       "      <th>2</th>\n",
       "      <td>180405_003</td>\n",
       "      <td>180405.0</td>\n",
       "      <td>003</td>\n",
       "      <td>-500.0</td>\n",
       "      <td>25.0</td>\n",
       "      <td>88.0</td>\n",
       "      <td>NaN</td>\n",
       "      <td>T646N</td>\n",
       "    </tr>\n",
       "    <tr>\n",
       "      <th>3</th>\n",
       "      <td>180405_006</td>\n",
       "      <td>180405.0</td>\n",
       "      <td>006</td>\n",
       "      <td>-1000.0</td>\n",
       "      <td>90.0</td>\n",
       "      <td>158.0</td>\n",
       "      <td>NaN</td>\n",
       "      <td>WT</td>\n",
       "    </tr>\n",
       "    <tr>\n",
       "      <th>4</th>\n",
       "      <td>180405_007</td>\n",
       "      <td>180405.0</td>\n",
       "      <td>007</td>\n",
       "      <td>-1000.0</td>\n",
       "      <td>45.0</td>\n",
       "      <td>105.0</td>\n",
       "      <td>NaN</td>\n",
       "      <td>WT</td>\n",
       "    </tr>\n",
       "  </tbody>\n",
       "</table>\n",
       "</div>"
      ],
      "text/plain": [
       "         File      Date number  ramp threshold  Analysis_start  Analysis_end  \\\n",
       "0  180405_001  180405.0    001         -1300.0            30.0          90.0   \n",
       "1  180405_002  180405.0    002         -1000.0            25.0          90.0   \n",
       "2  180405_003  180405.0    003          -500.0            25.0          88.0   \n",
       "3  180405_006  180405.0    006         -1000.0            90.0         158.0   \n",
       "4  180405_007  180405.0    007         -1000.0            45.0         105.0   \n",
       "\n",
       "  Notes Mutant  \n",
       "0   NaN  T646N  \n",
       "1   NaN  T646N  \n",
       "2   NaN  T646N  \n",
       "3   NaN     WT  \n",
       "4   NaN     WT  "
      ]
     },
     "execution_count": 7,
     "metadata": {},
     "output_type": "execute_result"
    }
   ],
   "source": [
    "ramps_df['Mutant'].value_counts()\n",
    "ramps_df.head()"
   ]
  },
  {
   "cell_type": "code",
   "execution_count": 35,
   "metadata": {
    "collapsed": true
   },
   "outputs": [],
   "source": [
    "'''\n",
    "class Cell:\n",
    "    Loads the data for one cell, as defined in the summary dataframe\n",
    "    def __init__(self, filepath, df, row):\n",
    "        start_ms = int(df['Analysis_start'][row]-1)*1000\n",
    "        end_ms = int(df['Analysis_end'][row]+2)*1000\n",
    "        r = io.WinEdrIO(filename=filepath)\n",
    "        seg = r.read_segment(lazy=False, cascade=True,)\n",
    "        I = seg.analogsignals[0]\n",
    "        self.I = I[start_ms:end_ms]         \n",
    "        if end_ms > len(I):\n",
    "            end_ms = len(I)\n",
    "        print('total= ' , len(I), 'start=', start_ms, 'end=', end_ms)\n",
    "        time = seg.analogsignals[0].times # warning: this can extend beyond the length of the recording;\n",
    "        # can lead to len(t) > len(I)\n",
    "        self.time = time[0:(end_ms - start_ms)] # In case the I is shorter than specified; need to keep t the same\n",
    "'''\n",
    "        \n",
    "# This is more flexible not being a class: just use a function and return 2 values (I and t).\n",
    "# That allows the inputs to just be passed independent of the class (which requires you to call the df)\n",
    "\n",
    "def read_currentTime_batch(filepath, df, row):\n",
    "    '''Returns time and current from WinEDR file, trimming the file according to df. Units are extracted; use .values if necessary'''\n",
    "    start_ms = int(df['Analysis_start'][row]-1)*1000\n",
    "    end_ms = int(df['Analysis_end'][row]+2)*1000\n",
    "    r = io.WinEdrIO(filename=filepath)\n",
    "    seg = r.read_segment(lazy=False, cascade=True,)\n",
    "    I = seg.analogsignals[0]\n",
    "    I = I[start_ms:end_ms]         \n",
    "    if end_ms > len(I):\n",
    "        end_ms = len(I)\n",
    "    time = seg.analogsignals[0].times # warning: this can extend beyond the length of the recording;\n",
    "    # can lead to len(t) > len(I)\n",
    "    time = time[0:(end_ms - start_ms)] # This forces the len(I) and len(t) to be the same\n",
    "    return (I, time)\n",
    "    \n",
    "    \n",
    "def read_currentTime_single_file(filepath):\n",
    "    '''reads signal for the whole file; does not require start and end time from dataFrame'''\n",
    "    r = io.WinEdrIO(filename=filepath)\n",
    "    seg = r.read_segment(lazy=False, cascade=True,)\n",
    "    I = seg.analogsignals[0]\n",
    "    time = seg.analogsignals[0].times\n",
    "    return (I, time)\n",
    "\n",
    "\n"
   ]
  },
  {
   "cell_type": "code",
   "execution_count": 123,
   "metadata": {
    "scrolled": false
   },
   "outputs": [
    {
     "name": "stdout",
     "output_type": "stream",
     "text": [
      "Without duplicates:  [3425, 5225, 7730, 9530, 11285, 13085, 21025, 22825, 24186, 25080, 26880, 28947, 30747, 36440, 38240, 40553, 42353, 44359, 46159, 50521, 52021, 52329, 53899, 58088, 59888, 62020, 63820, 69569, 71369, 73251, 75051, 76995, 78795, 83860, 85660, 87414, 89214, 90975, 92775, 98963, 100763, 104699, 106499, 108506, 110306]\n",
      "robust = [3425, 7730, 11285, 21025, 25080, 28947, 36440, 40553, 44359, 58088, 62020, 69569, 73251, 76995, 83860, 87414, 90975, 98963, 104699, 108506]\n"
     ]
    },
    {
     "data": {
      "image/png": "[encoded data removed]",
      "text/plain": [
       "<matplotlib.figure.Figure at 0xdd57518>"
      ]
     },
     "metadata": {},
     "output_type": "display_data"
    },
    {
     "name": "stderr",
     "output_type": "stream",
     "text": [
      "C:\\ProgramData\\Anaconda3\\lib\\site-packages\\ipykernel_launcher.py:70: FutureWarning: elementwise comparison failed; returning scalar instead, but in the future will perform elementwise comparison\n"
     ]
    },
    {
     "data": {
      "image/png": "[encoded data removed]",
      "text/plain": [
       "<matplotlib.figure.Figure at 0xc3a8160>"
      ]
     },
     "metadata": {},
     "output_type": "display_data"
    },
    {
     "name": "stdout",
     "output_type": "stream",
     "text": [
      "RI =  -0.140901\n"
     ]
    }
   ],
   "source": [
    "# Task list:\n",
    "\n",
    "\n",
    "\n",
    "\n",
    "def process_cell(I, time, drug_threshold, filename):\n",
    "    '''Suitable for individual or batch processing of ramp files'''\n",
    "    jumps = find_jumps(data=I) #allow default jump threshold to be 50. Not the same as drug threshold\n",
    "    ramp_starts = ramp_start_robust(jumps)\n",
    "    print('robust =', ramp_starts)\n",
    "    \n",
    "    c_ramp_starts, d_ramp_starts = control_or_drug(I, drug_threshold, ramp_starts) \n",
    "    # print ('time len=', len(time), 'I len=', len(I))\n",
    "    plot_trace(time, I, filename, c_ramp_starts, d_ramp_starts)\n",
    "    subtracted = subtracted_ramp(I, ramp_starts, drug_threshold)\n",
    "    RI = rectification(subtracted)\n",
    "    \n",
    "    # this needs to be fed data from frame when used for batch\n",
    "    graph_final_ramps(I, filename, '', subtracted, c_ramp_starts, d_ramp_starts, RI)#Is this really graphing new data???\n",
    "    save_ramp_data(filename, I, time, subtracted, c_ramp_starts, d_ramp_starts)\n",
    "    # df['RI'][row] = RI\n",
    "    # Need to add return values?\n",
    "    # Save c_ramp_starts, d_ramp_starts\n",
    "    \n",
    "    print('RI = ', RI)\n",
    "    return subtracted, c_ramp_starts, d_ramp_starts\n",
    "    \n",
    "\n",
    "filepath = '180607_007.EDR'  # currently in this folder, full path not needed\n",
    "filename = '180607_007'\n",
    "drug_threshold = ramps_df['ramp threshold'][ramps_df['File'] == filename].values[0]\n",
    "\n",
    "I, time = read_currentTime_single_file(filepath)\n",
    "subtracted, c_ramp_starts, d_ramp_starts = process_cell(I, time, drug_threshold, filename)\n",
    "    "
   ]
  },
  {
   "cell_type": "code",
   "execution_count": 118,
   "metadata": {},
   "outputs": [
    {
     "name": "stdout",
     "output_type": "stream",
     "text": [
      "[46479, 53531, 58523, 83549, 88723, 92155]\n"
     ]
    },
    {
     "data": {
      "text/html": [
       "<div>\n",
       "<style>\n",
       "    .dataframe thead tr:only-child th {\n",
       "        text-align: right;\n",
       "    }\n",
       "\n",
       "    .dataframe thead th {\n",
       "        text-align: left;\n",
       "    }\n",
       "\n",
       "    .dataframe tbody tr th {\n",
       "        vertical-align: top;\n",
       "    }\n",
       "</style>\n",
       "<table border=\"1\" class=\"dataframe\">\n",
       "  <thead>\n",
       "    <tr style=\"text-align: right;\">\n",
       "      <th></th>\n",
       "      <th>Subtracted</th>\n",
       "      <th>Drug</th>\n",
       "      <th>Control</th>\n",
       "    </tr>\n",
       "  </thead>\n",
       "  <tbody>\n",
       "    <tr>\n",
       "      <th>0</th>\n",
       "      <td>-203.959290</td>\n",
       "      <td>-1109.517456</td>\n",
       "      <td>-905.558167</td>\n",
       "    </tr>\n",
       "    <tr>\n",
       "      <th>1</th>\n",
       "      <td>-208.028259</td>\n",
       "      <td>-1121.520996</td>\n",
       "      <td>-913.492737</td>\n",
       "    </tr>\n",
       "    <tr>\n",
       "      <th>2</th>\n",
       "      <td>-195.007446</td>\n",
       "      <td>-1110.738159</td>\n",
       "      <td>-915.730713</td>\n",
       "    </tr>\n",
       "    <tr>\n",
       "      <th>3</th>\n",
       "      <td>-203.450562</td>\n",
       "      <td>-1117.960571</td>\n",
       "      <td>-914.510010</td>\n",
       "    </tr>\n",
       "    <tr>\n",
       "      <th>4</th>\n",
       "      <td>-208.740356</td>\n",
       "      <td>-1128.743530</td>\n",
       "      <td>-920.003174</td>\n",
       "    </tr>\n",
       "    <tr>\n",
       "      <th>5</th>\n",
       "      <td>-208.333435</td>\n",
       "      <td>-1120.605469</td>\n",
       "      <td>-912.272034</td>\n",
       "    </tr>\n",
       "    <tr>\n",
       "      <th>6</th>\n",
       "      <td>-211.995544</td>\n",
       "      <td>-1126.098633</td>\n",
       "      <td>-914.103088</td>\n",
       "    </tr>\n",
       "    <tr>\n",
       "      <th>7</th>\n",
       "      <td>-199.483337</td>\n",
       "      <td>-1126.403809</td>\n",
       "      <td>-926.920471</td>\n",
       "    </tr>\n",
       "    <tr>\n",
       "      <th>8</th>\n",
       "      <td>-215.352478</td>\n",
       "      <td>-1128.845215</td>\n",
       "      <td>-913.492737</td>\n",
       "    </tr>\n",
       "    <tr>\n",
       "      <th>9</th>\n",
       "      <td>-216.369751</td>\n",
       "      <td>-1132.100464</td>\n",
       "      <td>-915.730713</td>\n",
       "    </tr>\n",
       "    <tr>\n",
       "      <th>10</th>\n",
       "      <td>-221.455994</td>\n",
       "      <td>-1138.203979</td>\n",
       "      <td>-916.747986</td>\n",
       "    </tr>\n",
       "    <tr>\n",
       "      <th>11</th>\n",
       "      <td>-218.505920</td>\n",
       "      <td>-1124.877930</td>\n",
       "      <td>-906.372009</td>\n",
       "    </tr>\n",
       "    <tr>\n",
       "      <th>12</th>\n",
       "      <td>-215.454163</td>\n",
       "      <td>-1135.660767</td>\n",
       "      <td>-920.206604</td>\n",
       "    </tr>\n",
       "    <tr>\n",
       "      <th>13</th>\n",
       "      <td>-217.793823</td>\n",
       "      <td>-1131.083130</td>\n",
       "      <td>-913.289307</td>\n",
       "    </tr>\n",
       "    <tr>\n",
       "      <th>14</th>\n",
       "      <td>-212.911072</td>\n",
       "      <td>-1127.624512</td>\n",
       "      <td>-914.713440</td>\n",
       "    </tr>\n",
       "    <tr>\n",
       "      <th>15</th>\n",
       "      <td>-203.857544</td>\n",
       "      <td>-1128.743530</td>\n",
       "      <td>-924.885986</td>\n",
       "    </tr>\n",
       "    <tr>\n",
       "      <th>16</th>\n",
       "      <td>-224.100891</td>\n",
       "      <td>-1131.490112</td>\n",
       "      <td>-907.389221</td>\n",
       "    </tr>\n",
       "    <tr>\n",
       "      <th>17</th>\n",
       "      <td>-205.790283</td>\n",
       "      <td>-1127.624512</td>\n",
       "      <td>-921.834229</td>\n",
       "    </tr>\n",
       "    <tr>\n",
       "      <th>18</th>\n",
       "      <td>-213.114563</td>\n",
       "      <td>-1128.438354</td>\n",
       "      <td>-915.323792</td>\n",
       "    </tr>\n",
       "    <tr>\n",
       "      <th>19</th>\n",
       "      <td>-193.786682</td>\n",
       "      <td>-1117.248535</td>\n",
       "      <td>-923.461853</td>\n",
       "    </tr>\n",
       "    <tr>\n",
       "      <th>20</th>\n",
       "      <td>-216.980103</td>\n",
       "      <td>-1120.503784</td>\n",
       "      <td>-903.523682</td>\n",
       "    </tr>\n",
       "    <tr>\n",
       "      <th>21</th>\n",
       "      <td>-213.114563</td>\n",
       "      <td>-1128.438354</td>\n",
       "      <td>-915.323792</td>\n",
       "    </tr>\n",
       "    <tr>\n",
       "      <th>22</th>\n",
       "      <td>-206.807556</td>\n",
       "      <td>-1122.334839</td>\n",
       "      <td>-915.527283</td>\n",
       "    </tr>\n",
       "    <tr>\n",
       "      <th>23</th>\n",
       "      <td>-210.469666</td>\n",
       "      <td>-1121.114136</td>\n",
       "      <td>-910.644470</td>\n",
       "    </tr>\n",
       "    <tr>\n",
       "      <th>24</th>\n",
       "      <td>-212.504089</td>\n",
       "      <td>-1126.200317</td>\n",
       "      <td>-913.696228</td>\n",
       "    </tr>\n",
       "    <tr>\n",
       "      <th>25</th>\n",
       "      <td>-227.559448</td>\n",
       "      <td>-1129.252075</td>\n",
       "      <td>-901.692627</td>\n",
       "    </tr>\n",
       "    <tr>\n",
       "      <th>26</th>\n",
       "      <td>-216.471375</td>\n",
       "      <td>-1123.453735</td>\n",
       "      <td>-906.982361</td>\n",
       "    </tr>\n",
       "    <tr>\n",
       "      <th>27</th>\n",
       "      <td>-212.402466</td>\n",
       "      <td>-1132.405640</td>\n",
       "      <td>-920.003174</td>\n",
       "    </tr>\n",
       "    <tr>\n",
       "      <th>28</th>\n",
       "      <td>-214.029968</td>\n",
       "      <td>-1131.388306</td>\n",
       "      <td>-917.358337</td>\n",
       "    </tr>\n",
       "    <tr>\n",
       "      <th>29</th>\n",
       "      <td>-213.216248</td>\n",
       "      <td>-1129.964233</td>\n",
       "      <td>-916.747986</td>\n",
       "    </tr>\n",
       "    <tr>\n",
       "      <th>...</th>\n",
       "      <td>...</td>\n",
       "      <td>...</td>\n",
       "      <td>...</td>\n",
       "    </tr>\n",
       "    <tr>\n",
       "      <th>3770</th>\n",
       "      <td>-202.128113</td>\n",
       "      <td>-1104.838013</td>\n",
       "      <td>-902.709900</td>\n",
       "    </tr>\n",
       "    <tr>\n",
       "      <th>3771</th>\n",
       "      <td>-198.771240</td>\n",
       "      <td>-1094.970703</td>\n",
       "      <td>-896.199463</td>\n",
       "    </tr>\n",
       "    <tr>\n",
       "      <th>3772</th>\n",
       "      <td>-189.107361</td>\n",
       "      <td>-1090.596558</td>\n",
       "      <td>-901.489197</td>\n",
       "    </tr>\n",
       "    <tr>\n",
       "      <th>3773</th>\n",
       "      <td>-187.683167</td>\n",
       "      <td>-1087.951660</td>\n",
       "      <td>-900.268494</td>\n",
       "    </tr>\n",
       "    <tr>\n",
       "      <th>3774</th>\n",
       "      <td>-195.007385</td>\n",
       "      <td>-1094.055176</td>\n",
       "      <td>-899.047791</td>\n",
       "    </tr>\n",
       "    <tr>\n",
       "      <th>3775</th>\n",
       "      <td>-182.291687</td>\n",
       "      <td>-1091.715454</td>\n",
       "      <td>-909.423767</td>\n",
       "    </tr>\n",
       "    <tr>\n",
       "      <th>3776</th>\n",
       "      <td>-203.959167</td>\n",
       "      <td>-1092.020630</td>\n",
       "      <td>-888.061462</td>\n",
       "    </tr>\n",
       "    <tr>\n",
       "      <th>3777</th>\n",
       "      <td>-214.335144</td>\n",
       "      <td>-1094.462036</td>\n",
       "      <td>-880.126892</td>\n",
       "    </tr>\n",
       "    <tr>\n",
       "      <th>3778</th>\n",
       "      <td>-206.604065</td>\n",
       "      <td>-1094.462036</td>\n",
       "      <td>-887.857971</td>\n",
       "    </tr>\n",
       "    <tr>\n",
       "      <th>3779</th>\n",
       "      <td>-219.624878</td>\n",
       "      <td>-1098.734497</td>\n",
       "      <td>-879.109619</td>\n",
       "    </tr>\n",
       "    <tr>\n",
       "      <th>3780</th>\n",
       "      <td>-207.316223</td>\n",
       "      <td>-1106.160522</td>\n",
       "      <td>-898.844299</td>\n",
       "    </tr>\n",
       "    <tr>\n",
       "      <th>3781</th>\n",
       "      <td>-226.338806</td>\n",
       "      <td>-1105.244995</td>\n",
       "      <td>-878.906189</td>\n",
       "    </tr>\n",
       "    <tr>\n",
       "      <th>3782</th>\n",
       "      <td>-210.673096</td>\n",
       "      <td>-1093.444824</td>\n",
       "      <td>-882.771729</td>\n",
       "    </tr>\n",
       "    <tr>\n",
       "      <th>3783</th>\n",
       "      <td>-219.014587</td>\n",
       "      <td>-1104.634644</td>\n",
       "      <td>-885.620056</td>\n",
       "    </tr>\n",
       "    <tr>\n",
       "      <th>3784</th>\n",
       "      <td>-216.166199</td>\n",
       "      <td>-1101.786255</td>\n",
       "      <td>-885.620056</td>\n",
       "    </tr>\n",
       "    <tr>\n",
       "      <th>3785</th>\n",
       "      <td>-210.469666</td>\n",
       "      <td>-1099.751831</td>\n",
       "      <td>-889.282166</td>\n",
       "    </tr>\n",
       "    <tr>\n",
       "      <th>3786</th>\n",
       "      <td>-212.504089</td>\n",
       "      <td>-1109.110474</td>\n",
       "      <td>-896.606384</td>\n",
       "    </tr>\n",
       "    <tr>\n",
       "      <th>3787</th>\n",
       "      <td>-215.555908</td>\n",
       "      <td>-1099.548340</td>\n",
       "      <td>-883.992432</td>\n",
       "    </tr>\n",
       "    <tr>\n",
       "      <th>3788</th>\n",
       "      <td>-216.471436</td>\n",
       "      <td>-1098.022461</td>\n",
       "      <td>-881.551025</td>\n",
       "    </tr>\n",
       "    <tr>\n",
       "      <th>3789</th>\n",
       "      <td>-205.586792</td>\n",
       "      <td>-1092.020630</td>\n",
       "      <td>-886.433838</td>\n",
       "    </tr>\n",
       "    <tr>\n",
       "      <th>3790</th>\n",
       "      <td>-204.366150</td>\n",
       "      <td>-1087.341309</td>\n",
       "      <td>-882.975159</td>\n",
       "    </tr>\n",
       "    <tr>\n",
       "      <th>3791</th>\n",
       "      <td>-216.471436</td>\n",
       "      <td>-1097.412109</td>\n",
       "      <td>-880.940674</td>\n",
       "    </tr>\n",
       "    <tr>\n",
       "      <th>3792</th>\n",
       "      <td>-221.354309</td>\n",
       "      <td>-1099.446655</td>\n",
       "      <td>-878.092346</td>\n",
       "    </tr>\n",
       "    <tr>\n",
       "      <th>3793</th>\n",
       "      <td>-219.218018</td>\n",
       "      <td>-1103.210449</td>\n",
       "      <td>-883.992432</td>\n",
       "    </tr>\n",
       "    <tr>\n",
       "      <th>3794</th>\n",
       "      <td>-217.183533</td>\n",
       "      <td>-1100.158691</td>\n",
       "      <td>-882.975159</td>\n",
       "    </tr>\n",
       "    <tr>\n",
       "      <th>3795</th>\n",
       "      <td>-204.874695</td>\n",
       "      <td>-1093.546509</td>\n",
       "      <td>-888.671814</td>\n",
       "    </tr>\n",
       "    <tr>\n",
       "      <th>3796</th>\n",
       "      <td>-230.102661</td>\n",
       "      <td>-1109.822632</td>\n",
       "      <td>-879.719971</td>\n",
       "    </tr>\n",
       "    <tr>\n",
       "      <th>3797</th>\n",
       "      <td>-222.269775</td>\n",
       "      <td>-1094.665527</td>\n",
       "      <td>-872.395752</td>\n",
       "    </tr>\n",
       "    <tr>\n",
       "      <th>3798</th>\n",
       "      <td>-207.316101</td>\n",
       "      <td>-1097.208618</td>\n",
       "      <td>-889.892517</td>\n",
       "    </tr>\n",
       "    <tr>\n",
       "      <th>3799</th>\n",
       "      <td>-212.809326</td>\n",
       "      <td>-1091.918945</td>\n",
       "      <td>-879.109619</td>\n",
       "    </tr>\n",
       "  </tbody>\n",
       "</table>\n",
       "<p>3800 rows × 3 columns</p>\n",
       "</div>"
      ],
      "text/plain": [
       "      Subtracted         Drug     Control\n",
       "0    -203.959290 -1109.517456 -905.558167\n",
       "1    -208.028259 -1121.520996 -913.492737\n",
       "2    -195.007446 -1110.738159 -915.730713\n",
       "3    -203.450562 -1117.960571 -914.510010\n",
       "4    -208.740356 -1128.743530 -920.003174\n",
       "5    -208.333435 -1120.605469 -912.272034\n",
       "6    -211.995544 -1126.098633 -914.103088\n",
       "7    -199.483337 -1126.403809 -926.920471\n",
       "8    -215.352478 -1128.845215 -913.492737\n",
       "9    -216.369751 -1132.100464 -915.730713\n",
       "10   -221.455994 -1138.203979 -916.747986\n",
       "11   -218.505920 -1124.877930 -906.372009\n",
       "12   -215.454163 -1135.660767 -920.206604\n",
       "13   -217.793823 -1131.083130 -913.289307\n",
       "14   -212.911072 -1127.624512 -914.713440\n",
       "15   -203.857544 -1128.743530 -924.885986\n",
       "16   -224.100891 -1131.490112 -907.389221\n",
       "17   -205.790283 -1127.624512 -921.834229\n",
       "18   -213.114563 -1128.438354 -915.323792\n",
       "19   -193.786682 -1117.248535 -923.461853\n",
       "20   -216.980103 -1120.503784 -903.523682\n",
       "21   -213.114563 -1128.438354 -915.323792\n",
       "22   -206.807556 -1122.334839 -915.527283\n",
       "23   -210.469666 -1121.114136 -910.644470\n",
       "24   -212.504089 -1126.200317 -913.696228\n",
       "25   -227.559448 -1129.252075 -901.692627\n",
       "26   -216.471375 -1123.453735 -906.982361\n",
       "27   -212.402466 -1132.405640 -920.003174\n",
       "28   -214.029968 -1131.388306 -917.358337\n",
       "29   -213.216248 -1129.964233 -916.747986\n",
       "...          ...          ...         ...\n",
       "3770 -202.128113 -1104.838013 -902.709900\n",
       "3771 -198.771240 -1094.970703 -896.199463\n",
       "3772 -189.107361 -1090.596558 -901.489197\n",
       "3773 -187.683167 -1087.951660 -900.268494\n",
       "3774 -195.007385 -1094.055176 -899.047791\n",
       "3775 -182.291687 -1091.715454 -909.423767\n",
       "3776 -203.959167 -1092.020630 -888.061462\n",
       "3777 -214.335144 -1094.462036 -880.126892\n",
       "3778 -206.604065 -1094.462036 -887.857971\n",
       "3779 -219.624878 -1098.734497 -879.109619\n",
       "3780 -207.316223 -1106.160522 -898.844299\n",
       "3781 -226.338806 -1105.244995 -878.906189\n",
       "3782 -210.673096 -1093.444824 -882.771729\n",
       "3783 -219.014587 -1104.634644 -885.620056\n",
       "3784 -216.166199 -1101.786255 -885.620056\n",
       "3785 -210.469666 -1099.751831 -889.282166\n",
       "3786 -212.504089 -1109.110474 -896.606384\n",
       "3787 -215.555908 -1099.548340 -883.992432\n",
       "3788 -216.471436 -1098.022461 -881.551025\n",
       "3789 -205.586792 -1092.020630 -886.433838\n",
       "3790 -204.366150 -1087.341309 -882.975159\n",
       "3791 -216.471436 -1097.412109 -880.940674\n",
       "3792 -221.354309 -1099.446655 -878.092346\n",
       "3793 -219.218018 -1103.210449 -883.992432\n",
       "3794 -217.183533 -1100.158691 -882.975159\n",
       "3795 -204.874695 -1093.546509 -888.671814\n",
       "3796 -230.102661 -1109.822632 -879.719971\n",
       "3797 -222.269775 -1094.665527 -872.395752\n",
       "3798 -207.316101 -1097.208618 -889.892517\n",
       "3799 -212.809326 -1091.918945 -879.109619\n",
       "\n",
       "[3800 rows x 3 columns]"
      ]
     },
     "execution_count": 118,
     "metadata": {},
     "output_type": "execute_result"
    }
   ],
   "source": [
    "\n",
    "    \n",
    "    \n",
    "def save_ramp_data(filename, I, time, subtracted, c_ramp_starts, d_ramp_starts):\n",
    "    # dump the 3 different ramps into a CSV and save it\n",
    "    # Need to use the ramp starts to pull out the full value of the ramp\n",
    "    \n",
    "    sub = pd.DataFrame(subtracted, columns=['Subtracted'])\n",
    "    drug = pd.DataFrame(average_ramps(I, d_ramp_starts), columns=['Drug'])\n",
    "    con = pd.DataFrame(average_ramps(I, c_ramp_starts), columns=['Control'])\n",
    "    rampsSummary = pd.concat([sub, drug, con], axis=1)\n",
    "    save_as = filename + 'RampSummary.csv'\n",
    "    rampsSummary.to_csv(save_as)\n",
    "    return rampsSummary\n",
    "    \n",
    "    \n",
    "# Workflow to process a single cell\n",
    "\n",
    "\n",
    "save_ramp_data(filename, I, time, subtracted, c_ramp_starts, d_ramp_starts)\n"
   ]
  },
  {
   "cell_type": "code",
   "execution_count": 96,
   "metadata": {},
   "outputs": [
    {
     "data": {
      "text/plain": [
       "[46479, 53531, 58523, 83549, 88723, 92155]"
      ]
     },
     "execution_count": 96,
     "metadata": {},
     "output_type": "execute_result"
    }
   ],
   "source": [
    "d_ramp_starts"
   ]
  },
  {
   "cell_type": "code",
   "execution_count": 92,
   "metadata": {},
   "outputs": [
    {
     "data": {
      "text/plain": [
       "pandas.core.frame.DataFrame"
      ]
     },
     "execution_count": 92,
     "metadata": {},
     "output_type": "execute_result"
    }
   ],
   "source": [
    "type(pd.DataFrame(subtracted))"
   ]
  },
  {
   "cell_type": "code",
   "execution_count": 140,
   "metadata": {
    "scrolled": false
   },
   "outputs": [
    {
     "name": "stdout",
     "output_type": "stream",
     "text": [
      "Processing row  0\n",
      "total=  103792 start= 29000 end= 92000\n",
      "Found these jumps:  [1756, 3556, 6939, 8739, 10992, 12792, 18416, 20216, 22097, 23897, 25842, 27642, 34707, 36507, 38759, 40559, 42691, 44491, 51427, 53227, 54670, 56470, 58476, 60276]\n",
      "Without duplicates:  [1756, 3556, 6939, 8739, 10992, 12792, 18416, 20216, 22097, 23897, 25842, 27642, 34707, 36507, 38759, 40559, 42691, 44491, 51427, 53227, 54670, 56470, 58476, 60276]\n",
      "robust = [1756, 6939, 10992, 18416, 22097, 25842, 34707, 38759, 42691, 51427, 54670, 58476]\n",
      "time len= 63000 I len= 63000\n"
     ]
    },
    {
     "name": "stderr",
     "output_type": "stream",
     "text": [
      "C:\\ProgramData\\Anaconda3\\lib\\site-packages\\ipykernel_launcher.py:69: FutureWarning: elementwise comparison failed; returning scalar instead, but in the future will perform elementwise comparison\n"
     ]
    },
    {
     "data": {
      "image/png": "[encoded data removed]",
      "text/plain": [
       "<matplotlib.figure.Figure at 0xac85a90>"
      ]
     },
     "metadata": {},
     "output_type": "display_data"
    },
    {
     "data": {
      "image/png": "[encoded data removed]",
      "text/plain": [
       "<matplotlib.figure.Figure at 0xd344d68>"
      ]
     },
     "metadata": {},
     "output_type": "display_data"
    },
    {
     "name": "stderr",
     "output_type": "stream",
     "text": [
      "C:\\ProgramData\\Anaconda3\\lib\\site-packages\\ipykernel_launcher.py:20: SettingWithCopyWarning: \n",
      "A value is trying to be set on a copy of a slice from a DataFrame\n",
      "\n",
      "See the caveats in the documentation: http://pandas.pydata.org/pandas-docs/stable/indexing.html#indexing-view-versus-copy\n"
     ]
    },
    {
     "ename": "ValueError",
     "evalue": "Length of values does not match length of index",
     "output_type": "error",
     "traceback": [
      "\u001b[1;31m---------------------------------------------------------------------------\u001b[0m",
      "\u001b[1;31mValueError\u001b[0m                                Traceback (most recent call last)",
      "\u001b[1;32m<ipython-input-140-1f0556fabdd4>\u001b[0m in \u001b[0;36m<module>\u001b[1;34m()\u001b[0m\n\u001b[0;32m     23\u001b[0m     \u001b[0mdf\u001b[0m\u001b[1;33m.\u001b[0m\u001b[0mto_csv\u001b[0m\u001b[1;33m(\u001b[0m\u001b[1;34m'ramps_results_withRampStarts.csv'\u001b[0m\u001b[1;33m)\u001b[0m\u001b[1;33m\u001b[0m\u001b[0m\n\u001b[0;32m     24\u001b[0m \u001b[1;33m\u001b[0m\u001b[0m\n\u001b[1;32m---> 25\u001b[1;33m \u001b[0mbatch_process\u001b[0m\u001b[1;33m(\u001b[0m\u001b[1;33m)\u001b[0m\u001b[1;33m\u001b[0m\u001b[0m\n\u001b[0m\u001b[0;32m     26\u001b[0m \u001b[1;33m\u001b[0m\u001b[0m\n\u001b[0;32m     27\u001b[0m \u001b[1;31m# Change the graph so that it still saves, but also outputs to a plt matrix (len(files)) then saves that as pdf.\u001b[0m\u001b[1;33m\u001b[0m\u001b[1;33m\u001b[0m\u001b[0m\n",
      "\u001b[1;32m<ipython-input-140-1f0556fabdd4>\u001b[0m in \u001b[0;36mbatch_process\u001b[1;34m(df, jump_threshold)\u001b[0m\n\u001b[0;32m     19\u001b[0m         \u001b[0mgraph_final_ramps\u001b[0m\u001b[1;33m(\u001b[0m\u001b[0mcell\u001b[0m\u001b[1;33m.\u001b[0m\u001b[0mI\u001b[0m\u001b[1;33m,\u001b[0m \u001b[0mdf\u001b[0m\u001b[1;33m[\u001b[0m\u001b[1;34m'File'\u001b[0m\u001b[1;33m]\u001b[0m\u001b[1;33m[\u001b[0m\u001b[0mrow\u001b[0m\u001b[1;33m]\u001b[0m\u001b[1;33m,\u001b[0m \u001b[0mdf\u001b[0m\u001b[1;33m[\u001b[0m\u001b[1;34m'Mutant'\u001b[0m\u001b[1;33m]\u001b[0m\u001b[1;33m[\u001b[0m\u001b[0mrow\u001b[0m\u001b[1;33m]\u001b[0m\u001b[1;33m,\u001b[0m \u001b[0msubtracted\u001b[0m\u001b[1;33m,\u001b[0m \u001b[0mc_ramp_starts\u001b[0m\u001b[1;33m,\u001b[0m \u001b[0md_ramp_starts\u001b[0m\u001b[1;33m,\u001b[0m \u001b[0mRI\u001b[0m\u001b[1;33m)\u001b[0m\u001b[1;31m#Is this really graphing new data???\u001b[0m\u001b[1;33m\u001b[0m\u001b[0m\n\u001b[0;32m     20\u001b[0m         \u001b[0mdf\u001b[0m\u001b[1;33m[\u001b[0m\u001b[1;34m'RI'\u001b[0m\u001b[1;33m]\u001b[0m\u001b[1;33m[\u001b[0m\u001b[0mrow\u001b[0m\u001b[1;33m]\u001b[0m \u001b[1;33m=\u001b[0m \u001b[0mRI\u001b[0m\u001b[1;33m\u001b[0m\u001b[0m\n\u001b[1;32m---> 21\u001b[1;33m         \u001b[0mdf\u001b[0m\u001b[1;33m[\u001b[0m\u001b[1;34m'RampsFound'\u001b[0m\u001b[1;33m]\u001b[0m \u001b[1;33m=\u001b[0m \u001b[0mramp_starts\u001b[0m\u001b[1;33m\u001b[0m\u001b[0m\n\u001b[0m\u001b[0;32m     22\u001b[0m         \u001b[0mprint\u001b[0m\u001b[1;33m(\u001b[0m\u001b[0mfilename\u001b[0m\u001b[1;33m,\u001b[0m \u001b[1;34m'processed'\u001b[0m\u001b[1;33m)\u001b[0m\u001b[1;33m\u001b[0m\u001b[0m\n\u001b[0;32m     23\u001b[0m     \u001b[0mdf\u001b[0m\u001b[1;33m.\u001b[0m\u001b[0mto_csv\u001b[0m\u001b[1;33m(\u001b[0m\u001b[1;34m'ramps_results_withRampStarts.csv'\u001b[0m\u001b[1;33m)\u001b[0m\u001b[1;33m\u001b[0m\u001b[0m\n",
      "\u001b[1;32mC:\\ProgramData\\Anaconda3\\lib\\site-packages\\pandas\\core\\frame.py\u001b[0m in \u001b[0;36m__setitem__\u001b[1;34m(self, key, value)\u001b[0m\n\u001b[0;32m   2427\u001b[0m         \u001b[1;32melse\u001b[0m\u001b[1;33m:\u001b[0m\u001b[1;33m\u001b[0m\u001b[0m\n\u001b[0;32m   2428\u001b[0m             \u001b[1;31m# set column\u001b[0m\u001b[1;33m\u001b[0m\u001b[1;33m\u001b[0m\u001b[0m\n\u001b[1;32m-> 2429\u001b[1;33m             \u001b[0mself\u001b[0m\u001b[1;33m.\u001b[0m\u001b[0m_set_item\u001b[0m\u001b[1;33m(\u001b[0m\u001b[0mkey\u001b[0m\u001b[1;33m,\u001b[0m \u001b[0mvalue\u001b[0m\u001b[1;33m)\u001b[0m\u001b[1;33m\u001b[0m\u001b[0m\n\u001b[0m\u001b[0;32m   2430\u001b[0m \u001b[1;33m\u001b[0m\u001b[0m\n\u001b[0;32m   2431\u001b[0m     \u001b[1;32mdef\u001b[0m \u001b[0m_setitem_slice\u001b[0m\u001b[1;33m(\u001b[0m\u001b[0mself\u001b[0m\u001b[1;33m,\u001b[0m \u001b[0mkey\u001b[0m\u001b[1;33m,\u001b[0m \u001b[0mvalue\u001b[0m\u001b[1;33m)\u001b[0m\u001b[1;33m:\u001b[0m\u001b[1;33m\u001b[0m\u001b[0m\n",
      "\u001b[1;32mC:\\ProgramData\\Anaconda3\\lib\\site-packages\\pandas\\core\\frame.py\u001b[0m in \u001b[0;36m_set_item\u001b[1;34m(self, key, value)\u001b[0m\n\u001b[0;32m   2493\u001b[0m \u001b[1;33m\u001b[0m\u001b[0m\n\u001b[0;32m   2494\u001b[0m         \u001b[0mself\u001b[0m\u001b[1;33m.\u001b[0m\u001b[0m_ensure_valid_index\u001b[0m\u001b[1;33m(\u001b[0m\u001b[0mvalue\u001b[0m\u001b[1;33m)\u001b[0m\u001b[1;33m\u001b[0m\u001b[0m\n\u001b[1;32m-> 2495\u001b[1;33m         \u001b[0mvalue\u001b[0m \u001b[1;33m=\u001b[0m \u001b[0mself\u001b[0m\u001b[1;33m.\u001b[0m\u001b[0m_sanitize_column\u001b[0m\u001b[1;33m(\u001b[0m\u001b[0mkey\u001b[0m\u001b[1;33m,\u001b[0m \u001b[0mvalue\u001b[0m\u001b[1;33m)\u001b[0m\u001b[1;33m\u001b[0m\u001b[0m\n\u001b[0m\u001b[0;32m   2496\u001b[0m         \u001b[0mNDFrame\u001b[0m\u001b[1;33m.\u001b[0m\u001b[0m_set_item\u001b[0m\u001b[1;33m(\u001b[0m\u001b[0mself\u001b[0m\u001b[1;33m,\u001b[0m \u001b[0mkey\u001b[0m\u001b[1;33m,\u001b[0m \u001b[0mvalue\u001b[0m\u001b[1;33m)\u001b[0m\u001b[1;33m\u001b[0m\u001b[0m\n\u001b[0;32m   2497\u001b[0m \u001b[1;33m\u001b[0m\u001b[0m\n",
      "\u001b[1;32mC:\\ProgramData\\Anaconda3\\lib\\site-packages\\pandas\\core\\frame.py\u001b[0m in \u001b[0;36m_sanitize_column\u001b[1;34m(self, key, value, broadcast)\u001b[0m\n\u001b[0;32m   2664\u001b[0m \u001b[1;33m\u001b[0m\u001b[0m\n\u001b[0;32m   2665\u001b[0m             \u001b[1;31m# turn me into an ndarray\u001b[0m\u001b[1;33m\u001b[0m\u001b[1;33m\u001b[0m\u001b[0m\n\u001b[1;32m-> 2666\u001b[1;33m             \u001b[0mvalue\u001b[0m \u001b[1;33m=\u001b[0m \u001b[0m_sanitize_index\u001b[0m\u001b[1;33m(\u001b[0m\u001b[0mvalue\u001b[0m\u001b[1;33m,\u001b[0m \u001b[0mself\u001b[0m\u001b[1;33m.\u001b[0m\u001b[0mindex\u001b[0m\u001b[1;33m,\u001b[0m \u001b[0mcopy\u001b[0m\u001b[1;33m=\u001b[0m\u001b[1;32mFalse\u001b[0m\u001b[1;33m)\u001b[0m\u001b[1;33m\u001b[0m\u001b[0m\n\u001b[0m\u001b[0;32m   2667\u001b[0m             \u001b[1;32mif\u001b[0m \u001b[1;32mnot\u001b[0m \u001b[0misinstance\u001b[0m\u001b[1;33m(\u001b[0m\u001b[0mvalue\u001b[0m\u001b[1;33m,\u001b[0m \u001b[1;33m(\u001b[0m\u001b[0mnp\u001b[0m\u001b[1;33m.\u001b[0m\u001b[0mndarray\u001b[0m\u001b[1;33m,\u001b[0m \u001b[0mIndex\u001b[0m\u001b[1;33m)\u001b[0m\u001b[1;33m)\u001b[0m\u001b[1;33m:\u001b[0m\u001b[1;33m\u001b[0m\u001b[0m\n\u001b[0;32m   2668\u001b[0m                 \u001b[1;32mif\u001b[0m \u001b[0misinstance\u001b[0m\u001b[1;33m(\u001b[0m\u001b[0mvalue\u001b[0m\u001b[1;33m,\u001b[0m \u001b[0mlist\u001b[0m\u001b[1;33m)\u001b[0m \u001b[1;32mand\u001b[0m \u001b[0mlen\u001b[0m\u001b[1;33m(\u001b[0m\u001b[0mvalue\u001b[0m\u001b[1;33m)\u001b[0m \u001b[1;33m>\u001b[0m \u001b[1;36m0\u001b[0m\u001b[1;33m:\u001b[0m\u001b[1;33m\u001b[0m\u001b[0m\n",
      "\u001b[1;32mC:\\ProgramData\\Anaconda3\\lib\\site-packages\\pandas\\core\\series.py\u001b[0m in \u001b[0;36m_sanitize_index\u001b[1;34m(data, index, copy)\u001b[0m\n\u001b[0;32m   2877\u001b[0m \u001b[1;33m\u001b[0m\u001b[0m\n\u001b[0;32m   2878\u001b[0m     \u001b[1;32mif\u001b[0m \u001b[0mlen\u001b[0m\u001b[1;33m(\u001b[0m\u001b[0mdata\u001b[0m\u001b[1;33m)\u001b[0m \u001b[1;33m!=\u001b[0m \u001b[0mlen\u001b[0m\u001b[1;33m(\u001b[0m\u001b[0mindex\u001b[0m\u001b[1;33m)\u001b[0m\u001b[1;33m:\u001b[0m\u001b[1;33m\u001b[0m\u001b[0m\n\u001b[1;32m-> 2879\u001b[1;33m         \u001b[1;32mraise\u001b[0m \u001b[0mValueError\u001b[0m\u001b[1;33m(\u001b[0m\u001b[1;34m'Length of values does not match length of '\u001b[0m \u001b[1;34m'index'\u001b[0m\u001b[1;33m)\u001b[0m\u001b[1;33m\u001b[0m\u001b[0m\n\u001b[0m\u001b[0;32m   2880\u001b[0m \u001b[1;33m\u001b[0m\u001b[0m\n\u001b[0;32m   2881\u001b[0m     \u001b[1;32mif\u001b[0m \u001b[0misinstance\u001b[0m\u001b[1;33m(\u001b[0m\u001b[0mdata\u001b[0m\u001b[1;33m,\u001b[0m \u001b[0mPeriodIndex\u001b[0m\u001b[1;33m)\u001b[0m\u001b[1;33m:\u001b[0m\u001b[1;33m\u001b[0m\u001b[0m\n",
      "\u001b[1;31mValueError\u001b[0m: Length of values does not match length of index"
     ]
    }
   ],
   "source": [
    "# This needs refactoring\n",
    "# Break into Process Cell independent of Batch process\n",
    "# Also need to export subtracted ramp values as a csv for each cell\n",
    "\n",
    "def batch_process(df=ramps_df, jump_threshold=50):\n",
    "    df['RI'] = ''\n",
    "    for row in range(0, len(df)): #len(df)\n",
    "        print('Processing row ', row)\n",
    "        filename = df['File'][row] + '.EDR'\n",
    "        filepath = 'C:\\\\Users\\\\cdixon\\\\Documents\\\\DataSynaptopathies\\\\2018\\\\Glu\\\\' + filename\n",
    "        cell = Cell(filepath, df, row)\n",
    "        jumps = find_jumps(data=cell.I, threshold=jump_threshold)\n",
    "        ramp_starts = ramp_start_robust(jumps)\n",
    "        print('robust =', ramp_starts)\n",
    "        drug_threshold = df['ramp threshold'][row]\n",
    "        c_ramp_starts, d_ramp_starts = control_or_drug(cell.I, drug_threshold, ramp_starts) #this is not changing for the iterator\n",
    "        print ('time len=', len(cell.time), 'I len=', len(cell.I))\n",
    "        plot_trace(cell.time, cell.I, filename, c_ramp_starts, d_ramp_starts)\n",
    "        subtracted = subtracted_ramp(cell.I, ramp_starts, drug_threshold)\n",
    "        RI = rectification(subtracted) # \n",
    "        graph_final_ramps(cell.I, df['File'][row], df['Mutant'][row], subtracted, c_ramp_starts, d_ramp_starts, RI)#Is this really graphing new data???\n",
    "        df['RI'][row] = RI\n",
    "        print(filename, 'processed')\n",
    "    df.to_excel('ramps_results.xlsx')\n",
    "\n",
    "batch_process()\n",
    "\n",
    "# Change the graph so that it still saves, but also outputs to a plt matrix (len(files)) then saves that as pdf.\n",
    "# Make the data reader slice based on the specification file\n",
    "#robust segment finder sometimes finds 2 overlapping segments. Need to skip more data points?"
   ]
  },
  {
   "cell_type": "markdown",
   "metadata": {},
   "source": [
    "## Plotting data for visual inspection\n",
    "User must choose threshold for control and drug periods and confirm appropriate data period.\n",
    "\n",
    "After cutting out ramps, visually check that ramps are correctly identified, classified and averaged"
   ]
  },
  {
   "cell_type": "code",
   "execution_count": 21,
   "metadata": {
    "collapsed": true,
    "scrolled": true
   },
   "outputs": [],
   "source": [
    "#plot data\n",
    "def plot_trace(time, I, filename, c_ramp_starts, d_ramp_starts):\n",
    "    '''Plots the entire file by default.\n",
    "    Ramps are highlighted if the ramp identification functions have already been run'''\n",
    "    try:\n",
    "        plt.plot(time, I)\n",
    "    except ValueError:\n",
    "        print (\"ValueError while plotting\")\n",
    "        pass\n",
    "    plt.xlabel('Time (s)')\n",
    "    plt.ylabel('Current (pA)')\n",
    "    #plt.ylim(yscale) # Need to add a tuple to input\n",
    "    plt.xlim(0, len(time)/1000)\n",
    "    plt.title('Filename: %s' %filename)\n",
    "    try:\n",
    "        highlight_ramps(c_ramp_starts, color = 'b')\n",
    "        highlight_ramps(d_ramp_starts, color = 'g')\n",
    "    except NameError:\n",
    "        pass\n",
    "    return plt.show()\n",
    "\n",
    "#Consider writing a function to identify the max and min in a sensible way? Median of the points either end of ramps?\n",
    "\n",
    "# Remove the exceptions from the main function and add them in here"
   ]
  },
  {
   "cell_type": "code",
   "execution_count": 46,
   "metadata": {
    "collapsed": true
   },
   "outputs": [],
   "source": [
    "\n",
    "def find_jumps(data, threshold=50):\n",
    "    '''returns a list of timepoints at which a large neg jump (amplitude defined by threshold) occured across 1ms\n",
    "    Threshold needs to be a positive number, even though it is a negative jump'''\n",
    "    jumps = []\n",
    "    for point in range(0, len(data)-2):\n",
    "        if int(data[point]) > (int(data[point+1])+threshold):\n",
    "            jumps.append(point)\n",
    "    # print('Found these jumps: ', jumps)\n",
    "    return jumps\n",
    "\n",
    "\n",
    "def ramp_start(jumps):\n",
    "    '''Identify adjacent pairs of start and end coordinates for ramps of 1800ms duration\n",
    "    Requires points exactly 1800ms apart'''\n",
    "    x = 0\n",
    "    ramps = []\n",
    "    while x < len(jumps)-1:\n",
    "        if jumps[x]+1800 == jumps[x+1]:\n",
    "            ramps.append(jumps[x])\n",
    "        x = x+1\n",
    "    return(ramps)\n",
    "\n",
    "\n",
    "def highlight_ramps(ramp_starts, color = 'red'):\n",
    "    '''Called in graph function to give visual feedback on where the ramps are identified'''\n",
    "    for r in ramp_starts:\n",
    "        plt.axvspan(r/1000, (r/1000)+1.8, color = color, alpha = 0.3)\n"
   ]
  },
  {
   "cell_type": "code",
   "execution_count": 45,
   "metadata": {},
   "outputs": [
    {
     "name": "stdout",
     "output_type": "stream",
     "text": [
      "Without duplicates:  [42, 485, 705, 966, 1686, 2175, 2423, 2913, 3188, 3341, 3624, 4011, 4549, 5366, 6101, 6368, 7074, 7961, 10725, 10831, 11941, 13740, 14826, 16136, 22508, 22690, 24514, 26314, 31245, 32253, 34053, 36187, 37987, 46479, 48279, 53531, 55331, 58523, 60323, 63017, 65448, 66357, 66576, 67205, 67409, 67570, 67808, 69370, 69759, 70179, 70428, 71245, 73050, 73279, 73700, 73880, 73989, 75158, 75376, 75586, 75806, 76152, 76431, 78094, 78231, 78528, 79248, 79858, 80698, 81111, 83371, 83549, 85349, 88723, 90523, 92155, 92366, 93955, 94446, 94723, 99383, 99767, 101567, 101698, 102590, 102825, 103200, 104994, 105447, 105565, 105750]\n"
     ]
    },
    {
     "data": {
      "text/plain": [
       "[24514,\n",
       " 32253,\n",
       " 36187,\n",
       " 46479,\n",
       " 53531,\n",
       " 58523,\n",
       " 67570,\n",
       " 76431,\n",
       " 83549,\n",
       " 88723,\n",
       " 92155,\n",
       " 99767]"
      ]
     },
     "execution_count": 45,
     "metadata": {},
     "output_type": "execute_result"
    }
   ],
   "source": []
  },
  {
   "cell_type": "code",
   "execution_count": 50,
   "metadata": {},
   "outputs": [
    {
     "name": "stdout",
     "output_type": "stream",
     "text": [
      "Without duplicates:  [1000, 2800, 3000, 3100, 3300, 4800]\n"
     ]
    },
    {
     "data": {
      "text/plain": [
       "[1000, 2800, 3000, 3100, 3300, 4800]"
      ]
     },
     "execution_count": 50,
     "metadata": {},
     "output_type": "execute_result"
    }
   ],
   "source": [
    "###\n",
    "test_jumps1 = [1000, 1001, 1010, 2800, 2801, 3000, 3100, 3300, 4800]\n",
    "# Test that duplicates are removed\n",
    "# Should remove any value that is within 100ms of it's predecessor\n",
    "# Should catch multiple close values\n",
    "    \n",
    "def remove_duplicate_ramps(jumps):\n",
    "    '''remove adjacent jumps that are too close together to be real'''\n",
    "    x = 0\n",
    "    remove = []\n",
    "    while x < len(jumps)-1:\n",
    "        for y in range(1, (len(jumps)-x -1)):\n",
    "            if jumps[x+y] < jumps[x]+100:\n",
    "                remove.append(jumps[x+y])\n",
    "        x = x+1\n",
    "    new_jumps = []\n",
    "    for x in jumps:\n",
    "        if x not in remove:\n",
    "            new_jumps.append(x)\n",
    "    print('Without duplicates: ', new_jumps)\n",
    "    return(new_jumps)\n",
    "\n",
    "remove_duplicate_ramps(test_jumps1)"
   ]
  },
  {
   "cell_type": "code",
   "execution_count": 51,
   "metadata": {},
   "outputs": [
    {
     "name": "stdout",
     "output_type": "stream",
     "text": [
      "Without duplicates:  [1000, 2800, 3000, 3100, 3300, 4800]\n"
     ]
    },
    {
     "data": {
      "text/plain": [
       "[1000, 3000]"
      ]
     },
     "execution_count": 51,
     "metadata": {},
     "output_type": "execute_result"
    }
   ],
   "source": [
    "   \n",
    "\n",
    "\n",
    "test_jumps2 = [1000, 2800, 3000, 3300, 4800]\n",
    "# test to ensure ramps are being found and spurious values ignored\n",
    "# corrent return:\n",
    "# [1000, 3000]\n",
    "# test_jumps1 will return the same\n",
    "\n",
    "def ramp_start_robust(jumps):\n",
    "    '''Identify adjacent pairs of start and end coordinates for ramps of 1800ms duration\n",
    "    Check each additional jump until run out of jumps or ramp is found'''\n",
    "    jumps = remove_duplicate_ramps(jumps)\n",
    "    x = 0\n",
    "    ramps = []\n",
    "    while x < len(jumps)-1:\n",
    "        for y in range(1, (len(jumps)-x)):\n",
    "            if jumps[x]+1800 == jumps[x+y]:\n",
    "                ramps.append(jumps[x])\n",
    "                break #Having found the end of the ramp, move to next x\n",
    "            elif jumps[x]+1800 < jumps[x+y]:\n",
    "                break #This x doesn't have a partner, so try the next x\n",
    "            else:\n",
    "                continue #May still have a partner, so keep trying more y\n",
    "        x = x+1\n",
    "    return(ramps)\n",
    "\n",
    "ramp_start_robust(test_jumps1)"
   ]
  },
  {
   "cell_type": "code",
   "execution_count": 52,
   "metadata": {
    "collapsed": true,
    "scrolled": false
   },
   "outputs": [],
   "source": [
    "\n",
    "def control_or_drug(I, drug_threshold, ramp_starts):\n",
    "    '''Pass in data as I'''\n",
    "    control_ramp_starts = []\n",
    "    drug_ramp_starts = []\n",
    "    for r in ramp_starts:\n",
    "        base = I[r-20].magnitude #use the first 20ms of the file for the baseline\n",
    "        base = base[0]\n",
    "        if base > drug_threshold:\n",
    "            control_ramp_starts.append(r)\n",
    "        else:\n",
    "            drug_ramp_starts.append(r)\n",
    "    return control_ramp_starts, drug_ramp_starts\n",
    "\n",
    "\n",
    "def average_ramps(I, ramp_starts):\n",
    "    '''pass in raw data as I and either drug or control ramp_starts list; will return average of those'''\n",
    "    #Makes the first array before looping over the others that need averaging\n",
    "    x = 1\n",
    "    r = ramp_starts[0]\n",
    "    av_ramp = I[r-1000:r+2800].magnitude\n",
    "    for r in ramp_starts[1:]:\n",
    "        #select I from r-1000 to r+2800 to catch the whole ramp\n",
    "        seg = I[r-1000:r+2800].magnitude\n",
    "        av_ramp = av_ramp + seg\n",
    "        x = x+1\n",
    "    return(av_ramp/x)\n",
    "\n",
    "\n",
    "def subtracted_ramp(I, ramp_starts, drug_threshold):\n",
    "    '''sorts ramps into drug category based on threshold then averages'''\n",
    "    try:\n",
    "        c_ramp_starts, d_ramp_starts = control_or_drug(I, drug_threshold, ramp_starts)\n",
    "        subtracted = average_ramps(I, d_ramp_starts)-average_ramps(I, c_ramp_starts) \n",
    "    except IndexError:\n",
    "        print ('Index error in ramps')\n",
    "        subtracted = 'NaN'\n",
    "    return subtracted\n",
    "\n",
    "\n",
    "#Need to split out a table with the rectification ratio,\n",
    "#1 graph with all 3 lines\n",
    "#Plot the control, drug and subtraction curves\n",
    "\n",
    "def graph_final_ramps(I, recordname, mutant, subtracted, c_ramp_starts, d_ramp_starts, RI):\n",
    "    '''Saves and outputs plot of control drug and subtracted ramps'''\n",
    "    mV_ms = 180/1800\n",
    "    x_ms = np.array(range(0,1800))\n",
    "    x_mV = (x_ms*mV_ms)-104\n",
    "    #-100 because the ramp started at -100, then also -4 to correct for LJP\n",
    "    fig, ax = plt.subplots()\n",
    "    plt.plot(x_mV[2:], subtracted[1002:2800], 'r')\n",
    "    plt.plot(x_mV[2:], average_ramps(I, d_ramp_starts)[1002:2800], 'g')\n",
    "    plt.plot(x_mV[2:], average_ramps(I, c_ramp_starts)[1002:2800], 'b')\n",
    "    plt.axhline(0, color='black', alpha=0.3)\n",
    "    plt.axvline(0, color='black', alpha=0.3)\n",
    "    plt.xlabel('voltage (mV)')\n",
    "    plt.ylabel('current (pA)')\n",
    "    # Maybe need to add a scale factor here? Add to input with default = None\n",
    "    plt.title(recordname + ' ' + mutant + '  RI = ' + str(RI)) #added 8/5/18\n",
    "    save_name = recordname + 'RampGraph.pdf'\n",
    "    plt.savefig(save_name, transparent=True)\n",
    "    return plt.show()\n",
    "\n",
    "#graph_final_ramps()\n",
    "#Write a wrapper code that puts out filename and rect ratio for each cell\n",
    "\n",
    "def rectification(subtracted, pos=40, neg=-70):\n",
    "    '''finds the ratio of currents at specified positive and negative voltages'''\n",
    "    if subtracted == 'NaN':\n",
    "        RI = 'NaN'\n",
    "        print('Not possible to find RI')\n",
    "    else:\n",
    "        pos_xindex = 10*(pos+104)+1000 # *10 needed because ramp gradient is 10mV/ms. 1000 adjusts for baseline at the start\n",
    "        neg_xindex = 10*(neg+104)+1000\n",
    "        pos = subtracted[pos_xindex]\n",
    "        neg = subtracted[neg_xindex]\n",
    "        rectification_index = pos/neg\n",
    "        RI = rectification_index[0]\n",
    "    return RI\n",
    "    \n",
    "#rectification()"
   ]
  },
  {
   "cell_type": "markdown",
   "metadata": {},
   "source": [
    "#No point doing all this until I figure out how to make the text editable in Python\n",
    "\n",
    "ax.spines['left'].set_position('zero')\n",
    "ax.spines['right'].set_color('none')\n",
    "ax.spines['bottom'].set_position('zero')\n",
    "ax.spines['top'].set_color('none')\n",
    "ax.spines['left'].set_smart_bounds(True)\n",
    "ax.spines['bottom'].set_smart_bounds(True)\n",
    "ax.xaxis.set_ticks_position('bottom')\n",
    "ax.yaxis.set_ticks_position('left')"
   ]
  },
  {
   "cell_type": "markdown",
   "metadata": {},
   "source": [
    "## Plot each ramp individually to look for abnormalities\n",
    "\n",
    "Not usually neccessary"
   ]
  },
  {
   "cell_type": "code",
   "execution_count": null,
   "metadata": {
    "collapsed": true
   },
   "outputs": [],
   "source": [
    "#Need to generate a whole pile of plots in one figure\n",
    "#Requires holding it in memory then outputting at the end of the for loop\n",
    "\n",
    "#Number of plots: len(df), 2, x\n",
    "\n",
    "p = 1\n",
    "plt.subplots(len(df), 2, p)\n",
    "\n",
    "#in for loop:\n"
   ]
  },
  {
   "cell_type": "code",
   "execution_count": 16,
   "metadata": {},
   "outputs": [
    {
     "ename": "TypeError",
     "evalue": "control_or_drug() missing 3 required positional arguments: 'I', 'drug_threshold', and 'ramp_starts'",
     "output_type": "error",
     "traceback": [
      "\u001b[1;31m---------------------------------------------------------------------------\u001b[0m",
      "\u001b[1;31mTypeError\u001b[0m                                 Traceback (most recent call last)",
      "\u001b[1;32m<ipython-input-16-dc4cb5430b5c>\u001b[0m in \u001b[0;36m<module>\u001b[1;34m()\u001b[0m\n\u001b[0;32m      2\u001b[0m \u001b[1;31m#Plot each of the ramps identified, based on control or drug\u001b[0m\u001b[1;33m\u001b[0m\u001b[1;33m\u001b[0m\u001b[0m\n\u001b[0;32m      3\u001b[0m \u001b[1;33m\u001b[0m\u001b[0m\n\u001b[1;32m----> 4\u001b[1;33m \u001b[0mc_ramp_starts\u001b[0m\u001b[1;33m,\u001b[0m \u001b[0md_ramp_starts\u001b[0m \u001b[1;33m=\u001b[0m \u001b[0mcontrol_or_drug\u001b[0m\u001b[1;33m(\u001b[0m\u001b[1;33m)\u001b[0m\u001b[1;33m\u001b[0m\u001b[0m\n\u001b[0m\u001b[0;32m      5\u001b[0m \u001b[1;33m\u001b[0m\u001b[0m\n\u001b[0;32m      6\u001b[0m \u001b[0mx\u001b[0m \u001b[1;33m=\u001b[0m \u001b[1;36m1\u001b[0m\u001b[1;33m\u001b[0m\u001b[0m\n",
      "\u001b[1;31mTypeError\u001b[0m: control_or_drug() missing 3 required positional arguments: 'I', 'drug_threshold', and 'ramp_starts'"
     ]
    }
   ],
   "source": [
    "#Extra plots to visually confirm that the subtraction is fine\n",
    "#Plot each of the ramps identified, based on control or drug\n",
    "\n",
    "c_ramp_starts, d_ramp_starts = control_or_drug()\n",
    "\n",
    "x = 1\n",
    "\n",
    "for n in c_ramp_starts:\n",
    "    plt.subplot(3, 6, x)#Need to change this to adjust to the number of control/drug traces\n",
    "    plt.plot(I[n-1000:n+2800], color = 'b')\n",
    "    plt.ylim(-5000, 4000)\n",
    "    x += 1\n",
    "\n",
    "for n in d_ramp_starts:\n",
    "    plt.subplot(3, 6, x)\n",
    "    plt.plot(I[n-1000:n+2800], color = 'g')\n",
    "    plt.ylim(-5000, 4000)\n",
    "    x += 1\n",
    "\n",
    "n = subtracted_ramp()\n",
    "plt.subplot(3,6,x)\n",
    "plt.plot(n, color = 'r')\n",
    "plt.ylim(-5000, 4000)\n",
    "\n"
   ]
  },
  {
   "cell_type": "markdown",
   "metadata": {},
   "source": [
    "\n",
    "## Spare code: Everything below here is not necessary for current functionality"
   ]
  },
  {
   "cell_type": "code",
   "execution_count": null,
   "metadata": {
    "collapsed": true
   },
   "outputs": [],
   "source": []
  },
  {
   "cell_type": "code",
   "execution_count": null,
   "metadata": {
    "collapsed": true
   },
   "outputs": [],
   "source": []
  },
  {
   "cell_type": "code",
   "execution_count": null,
   "metadata": {
    "collapsed": true
   },
   "outputs": [],
   "source": [
    "#plt.figure(figsize=(20,3))\n",
    "#plt.plot(time[0:20000], I[0:20000])\n",
    "\n",
    "sampling_rate = 1000\n",
    "\n",
    "def convert(sec, sampling_rate = sampling_rate):\n",
    "    '''Converts time(s) to number of samples'''\n",
    "    return sec*sampling_rate\n",
    "\n",
    "def section(from_s, to_s, sampling_rate = sampling_rate, time_array = time, data_array = I):\n",
    "    '''Takes a slice of recording defined by start and end times (from_s, to_s)'''\n",
    "    return(time_array[convert(from_s):convert(to_s)], data_array[convert(from_s):convert(to_s)])\n",
    "\n",
    "def plot_section(from_s, to_s, sampling_rate = sampling_rate, time_array = time, data_array = I):\n",
    "    '''Plots a section of recording defined by start and end times (from_s, to_s)'''\n",
    "    plt.xlabel('Time (s)')\n",
    "    plt.ylabel('Current (pA)')\n",
    "    plt.title('Filename: %s' %filename)\n",
    "    return plt.plot(time_array[convert(from_s):convert(to_s)], data_array[convert(from_s):convert(to_s)])\n",
    "\n",
    "plot_section(1, 100)\n"
   ]
  },
  {
   "cell_type": "code",
   "execution_count": null,
   "metadata": {
    "collapsed": true
   },
   "outputs": [],
   "source": [
    "#how to return an array to be subtracted on?\n",
    "av_ramp = []\n",
    "av_ramp = I[0:1000].magnitude\n",
    "av_ramp + I[1000:2000].magnitude\n",
    "av_ramp.shape"
   ]
  },
  {
   "cell_type": "code",
   "execution_count": null,
   "metadata": {
    "collapsed": true
   },
   "outputs": [],
   "source": [
    "I[0].magnitude/2\n"
   ]
  },
  {
   "cell_type": "code",
   "execution_count": null,
   "metadata": {
    "collapsed": true
   },
   "outputs": [],
   "source": [
    "\n",
    "def find_zero(data):\n",
    "    '''returns a list of timepoints at which a large neg jump occured'''\n",
    "    crossings = []'\n",
    "    for point in range(0, len(data)):\n",
    "        if data[point] == 0:\n",
    "            crossings.append(point)\n",
    "    return crossings\n"
   ]
  },
  {
   "cell_type": "code",
   "execution_count": null,
   "metadata": {
    "collapsed": true
   },
   "outputs": [],
   "source": []
  },
  {
   "cell_type": "code",
   "execution_count": null,
   "metadata": {
    "collapsed": true
   },
   "outputs": [],
   "source": []
  },
  {
   "cell_type": "code",
   "execution_count": null,
   "metadata": {
    "collapsed": true,
    "scrolled": true
   },
   "outputs": [],
   "source": [
    "base = np.mean(I[1:500])\n",
    "print (base)\n",
    "test_section = section(50, 60)\n",
    "\n",
    "#ugly brute force approach to find zeros\n",
    "\n",
    "def zero_crossing(base, data = I):\n",
    "    mask = []\n",
    "    for point in I:\n",
    "        if -1 <= point[0] <= 0 :\n",
    "            mask.append[point]\n",
    "        return mask\n",
    "        \n",
    "zero_crossing(test_section)\n",
    "    \n",
    "\n",
    "    "
   ]
  },
  {
   "cell_type": "markdown",
   "metadata": {
    "collapsed": true,
    "scrolled": true
   },
   "source": [
    "From when i was analysing one at a time:\n",
    "\n",
    "# Identify file\n",
    "filepath = 'C:\\\\Users\\\\cdixon\\\\Documents\\\\DataSynaptopathies\\\\2018\\\\Glu\\\\180320_008.EDR'\n",
    "\n",
    "# Names to use in graphs and outputs\n",
    "# folder = filepath.split('\\\\')[0:-1] #This won't work as it will return a list not a string\n",
    "filename = filepath.split('\\\\')[-1]\n",
    "recordname = filename.split('.')[-2]\n",
    "\n",
    "# read in file\n",
    "# for Neo info see Garcia et al., 2014\n",
    "r = io.WinEdrIO(filename=filepath)\n",
    "seg = r.read_segment(lazy=False, cascade=True,)\n",
    "\n",
    "# make data series\n",
    "time = seg.analogsignals[0].times\n",
    "I = seg.analogsignals[0]"
   ]
  },
  {
   "cell_type": "code",
   "execution_count": null,
   "metadata": {
    "collapsed": true
   },
   "outputs": [],
   "source": [
    "\n"
   ]
  },
  {
   "cell_type": "code",
   "execution_count": null,
   "metadata": {
    "collapsed": true
   },
   "outputs": [],
   "source": [
    "#strip units from the array using magnitude attribute\n",
    "\n",
    "a = I.magnitude\n",
    "pA = pd.DataFrame(a)\n",
    "\n",
    "#add time as the index value\n",
    "#filter to find first instance of jump\n",
    "#make a list of the jump time points\n",
    "#iterate over list, pulling out chunks of data for each ramp\n",
    "#Classify each ramp into High or Low baseline\n",
    "#average each high and each low pile\n",
    "#graph the averages on top of each other:\n",
    "#convert x axis from time into voltage using the v/s algorithm + ljp X offset"
   ]
  },
  {
   "cell_type": "code",
   "execution_count": null,
   "metadata": {
    "collapsed": true
   },
   "outputs": [],
   "source": [
    "base.magnitude"
   ]
  },
  {
   "cell_type": "code",
   "execution_count": null,
   "metadata": {
    "collapsed": true
   },
   "outputs": [],
   "source": [
    "d = pA.diff(1)"
   ]
  },
  {
   "cell_type": "code",
   "execution_count": null,
   "metadata": {
    "collapsed": true
   },
   "outputs": [],
   "source": []
  },
  {
   "cell_type": "code",
   "execution_count": null,
   "metadata": {
    "collapsed": true
   },
   "outputs": [],
   "source": []
  },
  {
   "cell_type": "code",
   "execution_count": null,
   "metadata": {
    "collapsed": true
   },
   "outputs": [],
   "source": []
  },
  {
   "cell_type": "code",
   "execution_count": null,
   "metadata": {
    "collapsed": true
   },
   "outputs": [],
   "source": []
  },
  {
   "cell_type": "code",
   "execution_count": null,
   "metadata": {
    "collapsed": true
   },
   "outputs": [],
   "source": []
  },
  {
   "cell_type": "code",
   "execution_count": null,
   "metadata": {
    "collapsed": true
   },
   "outputs": [],
   "source": []
  },
  {
   "cell_type": "code",
   "execution_count": null,
   "metadata": {
    "collapsed": true
   },
   "outputs": [],
   "source": []
  },
  {
   "cell_type": "code",
   "execution_count": null,
   "metadata": {
    "collapsed": true
   },
   "outputs": [],
   "source": []
  },
  {
   "cell_type": "code",
   "execution_count": null,
   "metadata": {
    "collapsed": true
   },
   "outputs": [],
   "source": []
  },
  {
   "cell_type": "code",
   "execution_count": null,
   "metadata": {
    "collapsed": true
   },
   "outputs": [],
   "source": []
  },
  {
   "cell_type": "code",
   "execution_count": null,
   "metadata": {
    "collapsed": true
   },
   "outputs": [],
   "source": []
  },
  {
   "cell_type": "code",
   "execution_count": null,
   "metadata": {
    "collapsed": true
   },
   "outputs": [],
   "source": [
    "siglist = seg.analogsignals\n",
    "time_points = siglist[0].times\n",
    "#avg = np.mean(siglist, axis=0) # Average over signals of Segment\n",
    "\n",
    "plt.figure()\n",
    "#plt.plot(time_points, avg)\n",
    "plt.plot(time_points, siglist[0])\n",
    "\n",
    "time_points = seg.analogsignals[0].times\n",
    "data_points = seg.analogsignals[0]\n",
    "plt.figure()\n",
    "plt.plot(time_points, data_points)"
   ]
  },
  {
   "cell_type": "code",
   "execution_count": null,
   "metadata": {
    "collapsed": true
   },
   "outputs": [],
   "source": [
    "Y = (seg.analogsignals[0])\n",
    "X = siglist[0].times"
   ]
  },
  {
   "cell_type": "code",
   "execution_count": null,
   "metadata": {
    "collapsed": true
   },
   "outputs": [],
   "source": []
  },
  {
   "cell_type": "code",
   "execution_count": null,
   "metadata": {
    "collapsed": true
   },
   "outputs": [],
   "source": []
  },
  {
   "cell_type": "code",
   "execution_count": null,
   "metadata": {
    "collapsed": true
   },
   "outputs": [],
   "source": []
  },
  {
   "cell_type": "code",
   "execution_count": null,
   "metadata": {
    "collapsed": true
   },
   "outputs": [],
   "source": [
    "import math\n",
    "\n",
    "import matplotlib.pyplot as plt\n",
    "\n",
    "class AnnoteFinder(object):\n",
    "    \"\"\"callback for matplotlib to display an annotation when points are\n",
    "    clicked on.  The point which is closest to the click and within\n",
    "    xtol and ytol is identified.\n",
    "    \n",
    "    Register this function like this:\n",
    "    \n",
    "    scatter(xdata, ydata)\n",
    "    af = AnnoteFinder(xdata, ydata, annotes)\n",
    "    connect('button_press_event', af)\n",
    "    \"\"\"\n",
    "\n",
    "    def __init__(self, xdata, ydata, annotes, ax=None, xtol=None, ytol=None):\n",
    "        self.data = list(zip(xdata, ydata, annotes))\n",
    "        if xtol is None:\n",
    "            xtol = ((max(xdata) - min(xdata))/float(len(xdata)))/2\n",
    "        if ytol is None:\n",
    "            ytol = ((max(ydata) - min(ydata))/float(len(ydata)))/2\n",
    "        self.xtol = xtol\n",
    "        self.ytol = ytol\n",
    "        if ax is None:\n",
    "            self.ax = plt.gca()\n",
    "        else:\n",
    "            self.ax = ax\n",
    "        self.drawnAnnotations = {}\n",
    "        self.links = []\n",
    "\n",
    "    def distance(self, x1, x2, y1, y2):\n",
    "        \"\"\"\n",
    "        return the distance between two points\n",
    "        \"\"\"\n",
    "        return(math.sqrt((x1 - x2)**2 + (y1 - y2)**2))\n",
    "\n",
    "    def __call__(self, event):\n",
    "\n",
    "        if event.inaxes:\n",
    "\n",
    "            clickX = event.xdata\n",
    "            clickY = event.ydata\n",
    "            if (self.ax is None) or (self.ax is event.inaxes):\n",
    "                annotes = []\n",
    "                # print(event.xdata, event.ydata)\n",
    "                for x, y, a in self.data:\n",
    "                    # print(x, y, a)\n",
    "                    if ((clickX-self.xtol < x < clickX+self.xtol) and\n",
    "                            (clickY-self.ytol < y < clickY+self.ytol)):\n",
    "                        annotes.append(\n",
    "                            (self.distance(x, clickX, y, clickY), x, y, a))\n",
    "                if annotes:\n",
    "                    annotes.sort()\n",
    "                    distance, x, y, annote = annotes[0]\n",
    "                    self.drawAnnote(event.inaxes, x, y, annote)\n",
    "                    for l in self.links:\n",
    "                        l.drawSpecificAnnote(annote)\n",
    "\n",
    "    def drawAnnote(self, ax, x, y, annote):\n",
    "        \"\"\"\n",
    "        Draw the annotation on the plot\n",
    "        \"\"\"\n",
    "        if (x, y) in self.drawnAnnotations:\n",
    "            markers = self.drawnAnnotations[(x, y)]\n",
    "            for m in markers:\n",
    "                m.set_visible(not m.get_visible())\n",
    "            self.ax.figure.canvas.draw_idle()\n",
    "        else:\n",
    "            t = ax.text(x, y, \" - %s\" % (annote),)\n",
    "            m = ax.scatter([x], [y], marker='d', c='r', zorder=100)\n",
    "            self.drawnAnnotations[(x, y)] = (t, m)\n",
    "            self.ax.figure.canvas.draw_idle()\n",
    "\n",
    "    def drawSpecificAnnote(self, annote):\n",
    "        annotesToDraw = [(x, y, a) for x, y, a in self.data if a == annote]\n",
    "        for x, y, a in annotesToDraw:\n",
    "            self.drawAnnote(self.ax, x, y, a)"
   ]
  },
  {
   "cell_type": "code",
   "execution_count": null,
   "metadata": {
    "collapsed": true
   },
   "outputs": [],
   "source": [
    "#x = range(10)\n",
    "#y = range(10)\n",
    "#annotes = ['a', 'b', 'c', 'd', 'e', 'f', 'g', 'h', 'i', 'j']\n",
    "\n",
    "fig, ax = plt.subplots()\n",
    "ax.scatter(x,y)\n",
    "af =  AnnoteFinder(x,y, annotes, ax=ax)\n",
    "fig.canvas.mpl_connect('button_press_event', af)\n",
    "plt.show()"
   ]
  },
  {
   "cell_type": "markdown",
   "metadata": {
    "collapsed": true
   },
   "source": [
    "http://jonathansoma.com/lede/data-studio/matplotlib/exporting-from-matplotlib-to-open-in-adobe-illustrator/"
   ]
  },
  {
   "cell_type": "code",
   "execution_count": null,
   "metadata": {
    "collapsed": true
   },
   "outputs": [],
   "source": []
  }
 ],
 "metadata": {
  "kernelspec": {
   "display_name": "Python 3",
   "language": "python",
   "name": "python3"
  },
  "language_info": {
   "codemirror_mode": {
    "name": "ipython",
    "version": 3
   },
   "file_extension": ".py",
   "mimetype": "text/x-python",
   "name": "python",
   "nbconvert_exporter": "python",
   "pygments_lexer": "ipython3",
   "version": "3.6.1"
  }
 },
 "nbformat": 4,
 "nbformat_minor": 2
}
