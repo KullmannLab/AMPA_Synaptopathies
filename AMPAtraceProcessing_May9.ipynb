{
 "cells": [
  {
   "cell_type": "code",
   "execution_count": 89,
   "metadata": {
    "collapsed": true
   },
   "outputs": [],
   "source": [
    "import os\n",
    "import pandas as pd\n",
    "import matplotlib as mpl\n",
    "from matplotlib import pyplot as plt\n",
    "import numpy as np\n",
    "import seaborn as sns\n",
    "from neo import io\n",
    "import quantities as pq\n",
    "\n",
    "mpl.rcParams['pdf.fonttype'] = 42\n",
    "\n",
    "%matplotlib inline"
   ]
  },
  {
   "cell_type": "code",
   "execution_count": null,
   "metadata": {
    "collapsed": true
   },
   "outputs": [],
   "source": []
  },
  {
   "cell_type": "code",
   "execution_count": 122,
   "metadata": {},
   "outputs": [
    {
     "name": "stderr",
     "output_type": "stream",
     "text": [
      "C:\\ProgramData\\Anaconda3\\lib\\site-packages\\ipykernel_launcher.py:13: SettingWithCopyWarning: \n",
      "A value is trying to be set on a copy of a slice from a DataFrame\n",
      "\n",
      "See the caveats in the documentation: http://pandas.pydata.org/pandas-docs/stable/indexing.html#indexing-view-versus-copy\n",
      "  del sys.path[0]\n"
     ]
    }
   ],
   "source": [
    "# Import the list of files to analyse\n",
    "\n",
    "ramps_df = pd.read_excel('C://Users//cdixon//Documents//DataSynaptopathies//20180410_AMPA_RampDetails.xlsx')\n",
    "ramps_df.dropna(how='all', inplace=True)\n",
    "summary_df = pd.read_excel('C://Users//cdixon//Documents//DataSynaptopathies//2017Electrophysiology/825RigBackup/GluR2_KA_summary100418.xlsx',\n",
    "                              sheetname='Gria1')\n",
    "summary_df['Record'] = summary_df['Record'].astype(str)\n",
    "summary_df['Date'] = summary_df['Date'].astype(str)\n",
    "\n",
    "def make_filenames(summary=summary_df, ramps_df=ramps_df):\n",
    "    summary_df['File'] = 'blank'\n",
    "    for row in range(0, len(summary_df)):\n",
    "        summary_df['File'][row] = summary_df['Date'][row] + '_' + summary_df['Record'][row][:3]\n",
    "\n",
    "make_filenames()\n",
    "ramps_df = pd.merge(ramps_df, summary_df[['Mutant', 'File']], how='inner', on='File')\n",
    "ramps_df.sort_values('Mutant', inplace=True) # Do this for graphing\n",
    "ramps_df.reset_index(drop=True, inplace=True)"
   ]
  },
  {
   "cell_type": "code",
   "execution_count": 58,
   "metadata": {
    "collapsed": true
   },
   "outputs": [
    {
     "data": {
      "text/html": [
       "<div>\n",
       "<style>\n",
       "    .dataframe thead tr:only-child th {\n",
       "        text-align: right;\n",
       "    }\n",
       "\n",
       "    .dataframe thead th {\n",
       "        text-align: left;\n",
       "    }\n",
       "\n",
       "    .dataframe tbody tr th {\n",
       "        vertical-align: top;\n",
       "    }\n",
       "</style>\n",
       "<table border=\"1\" class=\"dataframe\">\n",
       "  <thead>\n",
       "    <tr style=\"text-align: right;\">\n",
       "      <th></th>\n",
       "      <th>File</th>\n",
       "      <th>Date</th>\n",
       "      <th>number</th>\n",
       "      <th>ramp threshold</th>\n",
       "      <th>Analysis_start</th>\n",
       "      <th>Analysis_end</th>\n",
       "      <th>Notes</th>\n",
       "      <th>Mutant</th>\n",
       "    </tr>\n",
       "  </thead>\n",
       "  <tbody>\n",
       "    <tr>\n",
       "      <th>0</th>\n",
       "      <td>180405_001</td>\n",
       "      <td>180405.0</td>\n",
       "      <td>1.0</td>\n",
       "      <td>-1300.0</td>\n",
       "      <td>30.0</td>\n",
       "      <td>90.0</td>\n",
       "      <td>NaN</td>\n",
       "      <td>T646N</td>\n",
       "    </tr>\n",
       "    <tr>\n",
       "      <th>1</th>\n",
       "      <td>180405_002</td>\n",
       "      <td>180405.0</td>\n",
       "      <td>2.0</td>\n",
       "      <td>-1000.0</td>\n",
       "      <td>25.0</td>\n",
       "      <td>90.0</td>\n",
       "      <td>NaN</td>\n",
       "      <td>T646N</td>\n",
       "    </tr>\n",
       "    <tr>\n",
       "      <th>2</th>\n",
       "      <td>180405_003</td>\n",
       "      <td>180405.0</td>\n",
       "      <td>3.0</td>\n",
       "      <td>-500.0</td>\n",
       "      <td>25.0</td>\n",
       "      <td>88.0</td>\n",
       "      <td>NaN</td>\n",
       "      <td>T646N</td>\n",
       "    </tr>\n",
       "    <tr>\n",
       "      <th>3</th>\n",
       "      <td>180405_006</td>\n",
       "      <td>180405.0</td>\n",
       "      <td>6.0</td>\n",
       "      <td>-1000.0</td>\n",
       "      <td>90.0</td>\n",
       "      <td>158.0</td>\n",
       "      <td>NaN</td>\n",
       "      <td>WT</td>\n",
       "    </tr>\n",
       "    <tr>\n",
       "      <th>4</th>\n",
       "      <td>180405_007</td>\n",
       "      <td>180405.0</td>\n",
       "      <td>7.0</td>\n",
       "      <td>-1000.0</td>\n",
       "      <td>45.0</td>\n",
       "      <td>105.0</td>\n",
       "      <td>NaN</td>\n",
       "      <td>WT</td>\n",
       "    </tr>\n",
       "    <tr>\n",
       "      <th>5</th>\n",
       "      <td>180405_009</td>\n",
       "      <td>180405.0</td>\n",
       "      <td>9.0</td>\n",
       "      <td>-1000.0</td>\n",
       "      <td>70.0</td>\n",
       "      <td>135.0</td>\n",
       "      <td>NaN</td>\n",
       "      <td>GRIA1</td>\n",
       "    </tr>\n",
       "    <tr>\n",
       "      <th>6</th>\n",
       "      <td>180405_010</td>\n",
       "      <td>180405.0</td>\n",
       "      <td>10.0</td>\n",
       "      <td>-500.0</td>\n",
       "      <td>20.0</td>\n",
       "      <td>110.0</td>\n",
       "      <td>NaN</td>\n",
       "      <td>GRIA1</td>\n",
       "    </tr>\n",
       "    <tr>\n",
       "      <th>7</th>\n",
       "      <td>180405_011</td>\n",
       "      <td>180405.0</td>\n",
       "      <td>11.0</td>\n",
       "      <td>-1500.0</td>\n",
       "      <td>35.0</td>\n",
       "      <td>125.0</td>\n",
       "      <td>NaN</td>\n",
       "      <td>A639S</td>\n",
       "    </tr>\n",
       "    <tr>\n",
       "      <th>8</th>\n",
       "      <td>180405_012</td>\n",
       "      <td>180405.0</td>\n",
       "      <td>12.0</td>\n",
       "      <td>-1000.0</td>\n",
       "      <td>33.0</td>\n",
       "      <td>100.0</td>\n",
       "      <td>NaN</td>\n",
       "      <td>A639S</td>\n",
       "    </tr>\n",
       "    <tr>\n",
       "      <th>9</th>\n",
       "      <td>180411_001</td>\n",
       "      <td>180411.0</td>\n",
       "      <td>1.0</td>\n",
       "      <td>-1500.0</td>\n",
       "      <td>70.0</td>\n",
       "      <td>140.0</td>\n",
       "      <td>NaN</td>\n",
       "      <td>T646N</td>\n",
       "    </tr>\n",
       "    <tr>\n",
       "      <th>10</th>\n",
       "      <td>180411_003</td>\n",
       "      <td>180411.0</td>\n",
       "      <td>3.0</td>\n",
       "      <td>-1500.0</td>\n",
       "      <td>20.0</td>\n",
       "      <td>55.0</td>\n",
       "      <td>Rs problems with 2nd half</td>\n",
       "      <td>T646N</td>\n",
       "    </tr>\n",
       "    <tr>\n",
       "      <th>11</th>\n",
       "      <td>180411_005</td>\n",
       "      <td>180411.0</td>\n",
       "      <td>5.0</td>\n",
       "      <td>-1500.0</td>\n",
       "      <td>22.0</td>\n",
       "      <td>88.0</td>\n",
       "      <td>NaN</td>\n",
       "      <td>T646N</td>\n",
       "    </tr>\n",
       "    <tr>\n",
       "      <th>12</th>\n",
       "      <td>180411_007</td>\n",
       "      <td>180411.0</td>\n",
       "      <td>7.0</td>\n",
       "      <td>-500.0</td>\n",
       "      <td>21.0</td>\n",
       "      <td>85.0</td>\n",
       "      <td>NaN</td>\n",
       "      <td>T646N</td>\n",
       "    </tr>\n",
       "    <tr>\n",
       "      <th>13</th>\n",
       "      <td>180411_008</td>\n",
       "      <td>180411.0</td>\n",
       "      <td>8.0</td>\n",
       "      <td>-1500.0</td>\n",
       "      <td>50.0</td>\n",
       "      <td>127.0</td>\n",
       "      <td>NaN</td>\n",
       "      <td>W788L</td>\n",
       "    </tr>\n",
       "    <tr>\n",
       "      <th>14</th>\n",
       "      <td>180411_009</td>\n",
       "      <td>180411.0</td>\n",
       "      <td>9.0</td>\n",
       "      <td>-1000.0</td>\n",
       "      <td>18.0</td>\n",
       "      <td>73.0</td>\n",
       "      <td>NaN</td>\n",
       "      <td>W788L</td>\n",
       "    </tr>\n",
       "    <tr>\n",
       "      <th>15</th>\n",
       "      <td>180411_010</td>\n",
       "      <td>180411.0</td>\n",
       "      <td>10.0</td>\n",
       "      <td>-1000.0</td>\n",
       "      <td>19.0</td>\n",
       "      <td>98.0</td>\n",
       "      <td>NaN</td>\n",
       "      <td>W788L</td>\n",
       "    </tr>\n",
       "    <tr>\n",
       "      <th>16</th>\n",
       "      <td>180411_011</td>\n",
       "      <td>180411.0</td>\n",
       "      <td>11.0</td>\n",
       "      <td>-400.0</td>\n",
       "      <td>32.0</td>\n",
       "      <td>100.0</td>\n",
       "      <td>NaN</td>\n",
       "      <td>W788L</td>\n",
       "    </tr>\n",
       "    <tr>\n",
       "      <th>17</th>\n",
       "      <td>180411_012</td>\n",
       "      <td>180411.0</td>\n",
       "      <td>12.0</td>\n",
       "      <td>-1500.0</td>\n",
       "      <td>23.0</td>\n",
       "      <td>95.0</td>\n",
       "      <td>NaN</td>\n",
       "      <td>A639S</td>\n",
       "    </tr>\n",
       "    <tr>\n",
       "      <th>18</th>\n",
       "      <td>180411_013</td>\n",
       "      <td>180411.0</td>\n",
       "      <td>13.0</td>\n",
       "      <td>-1500.0</td>\n",
       "      <td>74.0</td>\n",
       "      <td>106.0</td>\n",
       "      <td>Ignore first set (Rs)</td>\n",
       "      <td>A639S</td>\n",
       "    </tr>\n",
       "    <tr>\n",
       "      <th>19</th>\n",
       "      <td>180411_015</td>\n",
       "      <td>180411.0</td>\n",
       "      <td>15.0</td>\n",
       "      <td>-1000.0</td>\n",
       "      <td>20.0</td>\n",
       "      <td>89.0</td>\n",
       "      <td>NaN</td>\n",
       "      <td>A639S</td>\n",
       "    </tr>\n",
       "    <tr>\n",
       "      <th>20</th>\n",
       "      <td>180411_016</td>\n",
       "      <td>180411.0</td>\n",
       "      <td>16.0</td>\n",
       "      <td>-1500.0</td>\n",
       "      <td>20.0</td>\n",
       "      <td>98.0</td>\n",
       "      <td>NaN</td>\n",
       "      <td>WT</td>\n",
       "    </tr>\n",
       "    <tr>\n",
       "      <th>21</th>\n",
       "      <td>180411_018</td>\n",
       "      <td>180411.0</td>\n",
       "      <td>18.0</td>\n",
       "      <td>-1500.0</td>\n",
       "      <td>20.0</td>\n",
       "      <td>160.0</td>\n",
       "      <td>NaN</td>\n",
       "      <td>WT</td>\n",
       "    </tr>\n",
       "    <tr>\n",
       "      <th>22</th>\n",
       "      <td>180411_019</td>\n",
       "      <td>180411.0</td>\n",
       "      <td>19.0</td>\n",
       "      <td>-500.0</td>\n",
       "      <td>21.0</td>\n",
       "      <td>85.0</td>\n",
       "      <td>NaN</td>\n",
       "      <td>GRIA1</td>\n",
       "    </tr>\n",
       "    <tr>\n",
       "      <th>23</th>\n",
       "      <td>180411_020</td>\n",
       "      <td>180411.0</td>\n",
       "      <td>20.0</td>\n",
       "      <td>-1500.0</td>\n",
       "      <td>32.0</td>\n",
       "      <td>94.0</td>\n",
       "      <td>NaN</td>\n",
       "      <td>GRIA1</td>\n",
       "    </tr>\n",
       "    <tr>\n",
       "      <th>24</th>\n",
       "      <td>180320_003</td>\n",
       "      <td>180320.0</td>\n",
       "      <td>3.0</td>\n",
       "      <td>-1000.0</td>\n",
       "      <td>132.0</td>\n",
       "      <td>300.0</td>\n",
       "      <td>NaN</td>\n",
       "      <td>WT</td>\n",
       "    </tr>\n",
       "    <tr>\n",
       "      <th>25</th>\n",
       "      <td>180320_005</td>\n",
       "      <td>180320.0</td>\n",
       "      <td>5.0</td>\n",
       "      <td>-150.0</td>\n",
       "      <td>35.0</td>\n",
       "      <td>92.0</td>\n",
       "      <td>NaN</td>\n",
       "      <td>WT</td>\n",
       "    </tr>\n",
       "    <tr>\n",
       "      <th>26</th>\n",
       "      <td>180320_006</td>\n",
       "      <td>180320.0</td>\n",
       "      <td>6.0</td>\n",
       "      <td>-1000.0</td>\n",
       "      <td>40.0</td>\n",
       "      <td>126.0</td>\n",
       "      <td>NaN</td>\n",
       "      <td>WT</td>\n",
       "    </tr>\n",
       "    <tr>\n",
       "      <th>27</th>\n",
       "      <td>180320_008</td>\n",
       "      <td>180320.0</td>\n",
       "      <td>8.0</td>\n",
       "      <td>-400.0</td>\n",
       "      <td>127.0</td>\n",
       "      <td>177.0</td>\n",
       "      <td>NaN</td>\n",
       "      <td>GRIA1</td>\n",
       "    </tr>\n",
       "    <tr>\n",
       "      <th>28</th>\n",
       "      <td>180320_009</td>\n",
       "      <td>180320.0</td>\n",
       "      <td>9.0</td>\n",
       "      <td>-1000.0</td>\n",
       "      <td>55.0</td>\n",
       "      <td>148.0</td>\n",
       "      <td>NaN</td>\n",
       "      <td>GRIA1</td>\n",
       "    </tr>\n",
       "    <tr>\n",
       "      <th>29</th>\n",
       "      <td>180320_010</td>\n",
       "      <td>180320.0</td>\n",
       "      <td>10.0</td>\n",
       "      <td>-2000.0</td>\n",
       "      <td>45.0</td>\n",
       "      <td>122.0</td>\n",
       "      <td>NaN</td>\n",
       "      <td>W788L</td>\n",
       "    </tr>\n",
       "    <tr>\n",
       "      <th>30</th>\n",
       "      <td>180320_011</td>\n",
       "      <td>180320.0</td>\n",
       "      <td>11.0</td>\n",
       "      <td>-2000.0</td>\n",
       "      <td>45.0</td>\n",
       "      <td>105.0</td>\n",
       "      <td>NaN</td>\n",
       "      <td>W788L</td>\n",
       "    </tr>\n",
       "    <tr>\n",
       "      <th>31</th>\n",
       "      <td>180320_012</td>\n",
       "      <td>180320.0</td>\n",
       "      <td>12.0</td>\n",
       "      <td>-500.0</td>\n",
       "      <td>26.0</td>\n",
       "      <td>172.0</td>\n",
       "      <td>NaN</td>\n",
       "      <td>W788L</td>\n",
       "    </tr>\n",
       "    <tr>\n",
       "      <th>32</th>\n",
       "      <td>180320_013</td>\n",
       "      <td>180320.0</td>\n",
       "      <td>13.0</td>\n",
       "      <td>-500.0</td>\n",
       "      <td>40.0</td>\n",
       "      <td>116.0</td>\n",
       "      <td>NaN</td>\n",
       "      <td>A639S</td>\n",
       "    </tr>\n",
       "    <tr>\n",
       "      <th>33</th>\n",
       "      <td>180320_014</td>\n",
       "      <td>180320.0</td>\n",
       "      <td>14.0</td>\n",
       "      <td>-300.0</td>\n",
       "      <td>35.0</td>\n",
       "      <td>111.0</td>\n",
       "      <td>NaN</td>\n",
       "      <td>A639S</td>\n",
       "    </tr>\n",
       "    <tr>\n",
       "      <th>34</th>\n",
       "      <td>180328_001</td>\n",
       "      <td>180328.0</td>\n",
       "      <td>1.0</td>\n",
       "      <td>-1000.0</td>\n",
       "      <td>40.0</td>\n",
       "      <td>118.0</td>\n",
       "      <td>NaN</td>\n",
       "      <td>GRIA1</td>\n",
       "    </tr>\n",
       "    <tr>\n",
       "      <th>35</th>\n",
       "      <td>180328_002</td>\n",
       "      <td>180328.0</td>\n",
       "      <td>2.0</td>\n",
       "      <td>-300.0</td>\n",
       "      <td>67.0</td>\n",
       "      <td>146.0</td>\n",
       "      <td>NaN</td>\n",
       "      <td>GRIA1</td>\n",
       "    </tr>\n",
       "    <tr>\n",
       "      <th>36</th>\n",
       "      <td>180328_003</td>\n",
       "      <td>180328.0</td>\n",
       "      <td>3.0</td>\n",
       "      <td>-500.0</td>\n",
       "      <td>21.0</td>\n",
       "      <td>93.0</td>\n",
       "      <td>NaN</td>\n",
       "      <td>GRIA1</td>\n",
       "    </tr>\n",
       "    <tr>\n",
       "      <th>37</th>\n",
       "      <td>180328_004</td>\n",
       "      <td>180328.0</td>\n",
       "      <td>4.0</td>\n",
       "      <td>-1000.0</td>\n",
       "      <td>60.0</td>\n",
       "      <td>180.0</td>\n",
       "      <td>Two cells but got rid of b because of Rs</td>\n",
       "      <td>T646N</td>\n",
       "    </tr>\n",
       "    <tr>\n",
       "      <th>38</th>\n",
       "      <td>180328_004</td>\n",
       "      <td>180328.0</td>\n",
       "      <td>4.0</td>\n",
       "      <td>-1000.0</td>\n",
       "      <td>60.0</td>\n",
       "      <td>180.0</td>\n",
       "      <td>Two cells but got rid of b because of Rs</td>\n",
       "      <td>T646N</td>\n",
       "    </tr>\n",
       "    <tr>\n",
       "      <th>39</th>\n",
       "      <td>180328_006</td>\n",
       "      <td>180328.0</td>\n",
       "      <td>6.0</td>\n",
       "      <td>-2000.0</td>\n",
       "      <td>2.0</td>\n",
       "      <td>60.0</td>\n",
       "      <td>NaN</td>\n",
       "      <td>A639S</td>\n",
       "    </tr>\n",
       "    <tr>\n",
       "      <th>40</th>\n",
       "      <td>180328_007</td>\n",
       "      <td>180328.0</td>\n",
       "      <td>7.0</td>\n",
       "      <td>-500.0</td>\n",
       "      <td>1.0</td>\n",
       "      <td>70.0</td>\n",
       "      <td>NaN</td>\n",
       "      <td>A639S</td>\n",
       "    </tr>\n",
       "    <tr>\n",
       "      <th>41</th>\n",
       "      <td>180328_008</td>\n",
       "      <td>180328.0</td>\n",
       "      <td>8.0</td>\n",
       "      <td>-800.0</td>\n",
       "      <td>1.0</td>\n",
       "      <td>74.0</td>\n",
       "      <td>NaN</td>\n",
       "      <td>A639S</td>\n",
       "    </tr>\n",
       "  </tbody>\n",
       "</table>\n",
       "</div>"
      ],
      "text/plain": [
       "          File      Date  number  ramp threshold  Analysis_start  \\\n",
       "0   180405_001  180405.0     1.0         -1300.0            30.0   \n",
       "1   180405_002  180405.0     2.0         -1000.0            25.0   \n",
       "2   180405_003  180405.0     3.0          -500.0            25.0   \n",
       "3   180405_006  180405.0     6.0         -1000.0            90.0   \n",
       "4   180405_007  180405.0     7.0         -1000.0            45.0   \n",
       "5   180405_009  180405.0     9.0         -1000.0            70.0   \n",
       "6   180405_010  180405.0    10.0          -500.0            20.0   \n",
       "7   180405_011  180405.0    11.0         -1500.0            35.0   \n",
       "8   180405_012  180405.0    12.0         -1000.0            33.0   \n",
       "9   180411_001  180411.0     1.0         -1500.0            70.0   \n",
       "10  180411_003  180411.0     3.0         -1500.0            20.0   \n",
       "11  180411_005  180411.0     5.0         -1500.0            22.0   \n",
       "12  180411_007  180411.0     7.0          -500.0            21.0   \n",
       "13  180411_008  180411.0     8.0         -1500.0            50.0   \n",
       "14  180411_009  180411.0     9.0         -1000.0            18.0   \n",
       "15  180411_010  180411.0    10.0         -1000.0            19.0   \n",
       "16  180411_011  180411.0    11.0          -400.0            32.0   \n",
       "17  180411_012  180411.0    12.0         -1500.0            23.0   \n",
       "18  180411_013  180411.0    13.0         -1500.0            74.0   \n",
       "19  180411_015  180411.0    15.0         -1000.0            20.0   \n",
       "20  180411_016  180411.0    16.0         -1500.0            20.0   \n",
       "21  180411_018  180411.0    18.0         -1500.0            20.0   \n",
       "22  180411_019  180411.0    19.0          -500.0            21.0   \n",
       "23  180411_020  180411.0    20.0         -1500.0            32.0   \n",
       "24  180320_003  180320.0     3.0         -1000.0           132.0   \n",
       "25  180320_005  180320.0     5.0          -150.0            35.0   \n",
       "26  180320_006  180320.0     6.0         -1000.0            40.0   \n",
       "27  180320_008  180320.0     8.0          -400.0           127.0   \n",
       "28  180320_009  180320.0     9.0         -1000.0            55.0   \n",
       "29  180320_010  180320.0    10.0         -2000.0            45.0   \n",
       "30  180320_011  180320.0    11.0         -2000.0            45.0   \n",
       "31  180320_012  180320.0    12.0          -500.0            26.0   \n",
       "32  180320_013  180320.0    13.0          -500.0            40.0   \n",
       "33  180320_014  180320.0    14.0          -300.0            35.0   \n",
       "34  180328_001  180328.0     1.0         -1000.0            40.0   \n",
       "35  180328_002  180328.0     2.0          -300.0            67.0   \n",
       "36  180328_003  180328.0     3.0          -500.0            21.0   \n",
       "37  180328_004  180328.0     4.0         -1000.0            60.0   \n",
       "38  180328_004  180328.0     4.0         -1000.0            60.0   \n",
       "39  180328_006  180328.0     6.0         -2000.0             2.0   \n",
       "40  180328_007  180328.0     7.0          -500.0             1.0   \n",
       "41  180328_008  180328.0     8.0          -800.0             1.0   \n",
       "\n",
       "    Analysis_end                                     Notes Mutant  \n",
       "0           90.0                                       NaN  T646N  \n",
       "1           90.0                                       NaN  T646N  \n",
       "2           88.0                                       NaN  T646N  \n",
       "3          158.0                                       NaN     WT  \n",
       "4          105.0                                       NaN     WT  \n",
       "5          135.0                                       NaN  GRIA1  \n",
       "6          110.0                                       NaN  GRIA1  \n",
       "7          125.0                                       NaN  A639S  \n",
       "8          100.0                                       NaN  A639S  \n",
       "9          140.0                                       NaN  T646N  \n",
       "10          55.0                 Rs problems with 2nd half  T646N  \n",
       "11          88.0                                       NaN  T646N  \n",
       "12          85.0                                       NaN  T646N  \n",
       "13         127.0                                       NaN  W788L  \n",
       "14          73.0                                       NaN  W788L  \n",
       "15          98.0                                       NaN  W788L  \n",
       "16         100.0                                       NaN  W788L  \n",
       "17          95.0                                       NaN  A639S  \n",
       "18         106.0                     Ignore first set (Rs)  A639S  \n",
       "19          89.0                                       NaN  A639S  \n",
       "20          98.0                                       NaN     WT  \n",
       "21         160.0                                       NaN     WT  \n",
       "22          85.0                                       NaN  GRIA1  \n",
       "23          94.0                                       NaN  GRIA1  \n",
       "24         300.0                                       NaN     WT  \n",
       "25          92.0                                       NaN     WT  \n",
       "26         126.0                                       NaN     WT  \n",
       "27         177.0                                       NaN  GRIA1  \n",
       "28         148.0                                       NaN  GRIA1  \n",
       "29         122.0                                       NaN  W788L  \n",
       "30         105.0                                       NaN  W788L  \n",
       "31         172.0                                       NaN  W788L  \n",
       "32         116.0                                       NaN  A639S  \n",
       "33         111.0                                       NaN  A639S  \n",
       "34         118.0                                       NaN  GRIA1  \n",
       "35         146.0                                       NaN  GRIA1  \n",
       "36          93.0                                       NaN  GRIA1  \n",
       "37         180.0  Two cells but got rid of b because of Rs  T646N  \n",
       "38         180.0  Two cells but got rid of b because of Rs  T646N  \n",
       "39          60.0                                       NaN  A639S  \n",
       "40          70.0                                       NaN  A639S  \n",
       "41          74.0                                       NaN  A639S  "
      ]
     },
     "execution_count": 58,
     "metadata": {},
     "output_type": "execute_result"
    }
   ],
   "source": [
    "ramps_df"
   ]
  },
  {
   "cell_type": "code",
   "execution_count": 133,
   "metadata": {
    "collapsed": true
   },
   "outputs": [],
   "source": [
    "class Cell:\n",
    "    '''Loads the data for one cell, as defined in the summary dataframe'''\n",
    "    def __init__(self, filepath, df, row):\n",
    "        start_ms = int(df['Analysis_start'][row]-1)*1000\n",
    "        end_ms = int(df['Analysis_end'][row]+2)*1000\n",
    "        r = io.WinEdrIO(filename=filepath)\n",
    "        seg = r.read_segment(lazy=False, cascade=True,)\n",
    "        I = seg.analogsignals[0]\n",
    "        self.I = I[start_ms:end_ms]         \n",
    "        if end_ms > len(I):\n",
    "            end_ms = len(I)\n",
    "        print('total= ' , len(I), 'start=', start_ms, 'end=', end_ms)\n",
    "        time = seg.analogsignals[0].times # warning: this can extend beyond the length of the recording;\n",
    "        # can lead to len(t) > len(I)\n",
    "        self.time = time[0:(end_ms - start_ms)] # In case the I is shorter than specified; need to keep t the same\n",
    "   "
   ]
  },
  {
   "cell_type": "code",
   "execution_count": null,
   "metadata": {
    "collapsed": true
   },
   "outputs": [],
   "source": []
  },
  {
   "cell_type": "code",
   "execution_count": 140,
   "metadata": {
    "scrolled": false
   },
   "outputs": [
    {
     "name": "stdout",
     "output_type": "stream",
     "text": [
      "Processing row  0\n",
      "total=  103792 start= 29000 end= 92000\n",
      "Found these jumps:  [1756, 3556, 6939, 8739, 10992, 12792, 18416, 20216, 22097, 23897, 25842, 27642, 34707, 36507, 38759, 40559, 42691, 44491, 51427, 53227, 54670, 56470, 58476, 60276]\n",
      "Without duplicates:  [1756, 3556, 6939, 8739, 10992, 12792, 18416, 20216, 22097, 23897, 25842, 27642, 34707, 36507, 38759, 40559, 42691, 44491, 51427, 53227, 54670, 56470, 58476, 60276]\n",
      "robust = [1756, 6939, 10992, 18416, 22097, 25842, 34707, 38759, 42691, 51427, 54670, 58476]\n",
      "time len= 63000 I len= 63000\n"
     ]
    },
    {
     "name": "stderr",
     "output_type": "stream",
     "text": [
      "C:\\ProgramData\\Anaconda3\\lib\\site-packages\\ipykernel_launcher.py:69: FutureWarning: elementwise comparison failed; returning scalar instead, but in the future will perform elementwise comparison\n"
     ]
    },
    {
     "data": {
      "image/png": "[encoded data removed]",
      "text/plain": [
       "<matplotlib.figure.Figure at 0xac85a90>"
      ]
     },
     "metadata": {},
     "output_type": "display_data"
    },
    {
     "data": {
      "image/png": "[encoded data removed]",
      "text/plain": [
       "<matplotlib.figure.Figure at 0xd344d68>"
      ]
     },
     "metadata": {},
     "output_type": "display_data"
    },
    {
     "name": "stderr",
     "output_type": "stream",
     "text": [
      "C:\\ProgramData\\Anaconda3\\lib\\site-packages\\ipykernel_launcher.py:20: SettingWithCopyWarning: \n",
      "A value is trying to be set on a copy of a slice from a DataFrame\n",
      "\n",
      "See the caveats in the documentation: http://pandas.pydata.org/pandas-docs/stable/indexing.html#indexing-view-versus-copy\n"
     ]
    },
    {
     "ename": "ValueError",
     "evalue": "Length of values does not match length of index",
     "output_type": "error",
     "traceback": [
      "\u001b[1;31m---------------------------------------------------------------------------\u001b[0m",
      "\u001b[1;31mValueError\u001b[0m                                Traceback (most recent call last)",
      "\u001b[1;32m<ipython-input-140-1f0556fabdd4>\u001b[0m in \u001b[0;36m<module>\u001b[1;34m()\u001b[0m\n\u001b[0;32m     23\u001b[0m     \u001b[0mdf\u001b[0m\u001b[1;33m.\u001b[0m\u001b[0mto_csv\u001b[0m\u001b[1;33m(\u001b[0m\u001b[1;34m'ramps_results_withRampStarts.csv'\u001b[0m\u001b[1;33m)\u001b[0m\u001b[1;33m\u001b[0m\u001b[0m\n\u001b[0;32m     24\u001b[0m \u001b[1;33m\u001b[0m\u001b[0m\n\u001b[1;32m---> 25\u001b[1;33m \u001b[0mbatch_process\u001b[0m\u001b[1;33m(\u001b[0m\u001b[1;33m)\u001b[0m\u001b[1;33m\u001b[0m\u001b[0m\n\u001b[0m\u001b[0;32m     26\u001b[0m \u001b[1;33m\u001b[0m\u001b[0m\n\u001b[0;32m     27\u001b[0m \u001b[1;31m# Change the graph so that it still saves, but also outputs to a plt matrix (len(files)) then saves that as pdf.\u001b[0m\u001b[1;33m\u001b[0m\u001b[1;33m\u001b[0m\u001b[0m\n",
      "\u001b[1;32m<ipython-input-140-1f0556fabdd4>\u001b[0m in \u001b[0;36mbatch_process\u001b[1;34m(df, jump_threshold)\u001b[0m\n\u001b[0;32m     19\u001b[0m         \u001b[0mgraph_final_ramps\u001b[0m\u001b[1;33m(\u001b[0m\u001b[0mcell\u001b[0m\u001b[1;33m.\u001b[0m\u001b[0mI\u001b[0m\u001b[1;33m,\u001b[0m \u001b[0mdf\u001b[0m\u001b[1;33m[\u001b[0m\u001b[1;34m'File'\u001b[0m\u001b[1;33m]\u001b[0m\u001b[1;33m[\u001b[0m\u001b[0mrow\u001b[0m\u001b[1;33m]\u001b[0m\u001b[1;33m,\u001b[0m \u001b[0mdf\u001b[0m\u001b[1;33m[\u001b[0m\u001b[1;34m'Mutant'\u001b[0m\u001b[1;33m]\u001b[0m\u001b[1;33m[\u001b[0m\u001b[0mrow\u001b[0m\u001b[1;33m]\u001b[0m\u001b[1;33m,\u001b[0m \u001b[0msubtracted\u001b[0m\u001b[1;33m,\u001b[0m \u001b[0mc_ramp_starts\u001b[0m\u001b[1;33m,\u001b[0m \u001b[0md_ramp_starts\u001b[0m\u001b[1;33m,\u001b[0m \u001b[0mRI\u001b[0m\u001b[1;33m)\u001b[0m\u001b[1;31m#Is this really graphing new data???\u001b[0m\u001b[1;33m\u001b[0m\u001b[0m\n\u001b[0;32m     20\u001b[0m         \u001b[0mdf\u001b[0m\u001b[1;33m[\u001b[0m\u001b[1;34m'RI'\u001b[0m\u001b[1;33m]\u001b[0m\u001b[1;33m[\u001b[0m\u001b[0mrow\u001b[0m\u001b[1;33m]\u001b[0m \u001b[1;33m=\u001b[0m \u001b[0mRI\u001b[0m\u001b[1;33m\u001b[0m\u001b[0m\n\u001b[1;32m---> 21\u001b[1;33m         \u001b[0mdf\u001b[0m\u001b[1;33m[\u001b[0m\u001b[1;34m'RampsFound'\u001b[0m\u001b[1;33m]\u001b[0m \u001b[1;33m=\u001b[0m \u001b[0mramp_starts\u001b[0m\u001b[1;33m\u001b[0m\u001b[0m\n\u001b[0m\u001b[0;32m     22\u001b[0m         \u001b[0mprint\u001b[0m\u001b[1;33m(\u001b[0m\u001b[0mfilename\u001b[0m\u001b[1;33m,\u001b[0m \u001b[1;34m'processed'\u001b[0m\u001b[1;33m)\u001b[0m\u001b[1;33m\u001b[0m\u001b[0m\n\u001b[0;32m     23\u001b[0m     \u001b[0mdf\u001b[0m\u001b[1;33m.\u001b[0m\u001b[0mto_csv\u001b[0m\u001b[1;33m(\u001b[0m\u001b[1;34m'ramps_results_withRampStarts.csv'\u001b[0m\u001b[1;33m)\u001b[0m\u001b[1;33m\u001b[0m\u001b[0m\n",
      "\u001b[1;32mC:\\ProgramData\\Anaconda3\\lib\\site-packages\\pandas\\core\\frame.py\u001b[0m in \u001b[0;36m__setitem__\u001b[1;34m(self, key, value)\u001b[0m\n\u001b[0;32m   2427\u001b[0m         \u001b[1;32melse\u001b[0m\u001b[1;33m:\u001b[0m\u001b[1;33m\u001b[0m\u001b[0m\n\u001b[0;32m   2428\u001b[0m             \u001b[1;31m# set column\u001b[0m\u001b[1;33m\u001b[0m\u001b[1;33m\u001b[0m\u001b[0m\n\u001b[1;32m-> 2429\u001b[1;33m             \u001b[0mself\u001b[0m\u001b[1;33m.\u001b[0m\u001b[0m_set_item\u001b[0m\u001b[1;33m(\u001b[0m\u001b[0mkey\u001b[0m\u001b[1;33m,\u001b[0m \u001b[0mvalue\u001b[0m\u001b[1;33m)\u001b[0m\u001b[1;33m\u001b[0m\u001b[0m\n\u001b[0m\u001b[0;32m   2430\u001b[0m \u001b[1;33m\u001b[0m\u001b[0m\n\u001b[0;32m   2431\u001b[0m     \u001b[1;32mdef\u001b[0m \u001b[0m_setitem_slice\u001b[0m\u001b[1;33m(\u001b[0m\u001b[0mself\u001b[0m\u001b[1;33m,\u001b[0m \u001b[0mkey\u001b[0m\u001b[1;33m,\u001b[0m \u001b[0mvalue\u001b[0m\u001b[1;33m)\u001b[0m\u001b[1;33m:\u001b[0m\u001b[1;33m\u001b[0m\u001b[0m\n",
      "\u001b[1;32mC:\\ProgramData\\Anaconda3\\lib\\site-packages\\pandas\\core\\frame.py\u001b[0m in \u001b[0;36m_set_item\u001b[1;34m(self, key, value)\u001b[0m\n\u001b[0;32m   2493\u001b[0m \u001b[1;33m\u001b[0m\u001b[0m\n\u001b[0;32m   2494\u001b[0m         \u001b[0mself\u001b[0m\u001b[1;33m.\u001b[0m\u001b[0m_ensure_valid_index\u001b[0m\u001b[1;33m(\u001b[0m\u001b[0mvalue\u001b[0m\u001b[1;33m)\u001b[0m\u001b[1;33m\u001b[0m\u001b[0m\n\u001b[1;32m-> 2495\u001b[1;33m         \u001b[0mvalue\u001b[0m \u001b[1;33m=\u001b[0m \u001b[0mself\u001b[0m\u001b[1;33m.\u001b[0m\u001b[0m_sanitize_column\u001b[0m\u001b[1;33m(\u001b[0m\u001b[0mkey\u001b[0m\u001b[1;33m,\u001b[0m \u001b[0mvalue\u001b[0m\u001b[1;33m)\u001b[0m\u001b[1;33m\u001b[0m\u001b[0m\n\u001b[0m\u001b[0;32m   2496\u001b[0m         \u001b[0mNDFrame\u001b[0m\u001b[1;33m.\u001b[0m\u001b[0m_set_item\u001b[0m\u001b[1;33m(\u001b[0m\u001b[0mself\u001b[0m\u001b[1;33m,\u001b[0m \u001b[0mkey\u001b[0m\u001b[1;33m,\u001b[0m \u001b[0mvalue\u001b[0m\u001b[1;33m)\u001b[0m\u001b[1;33m\u001b[0m\u001b[0m\n\u001b[0;32m   2497\u001b[0m \u001b[1;33m\u001b[0m\u001b[0m\n",
      "\u001b[1;32mC:\\ProgramData\\Anaconda3\\lib\\site-packages\\pandas\\core\\frame.py\u001b[0m in \u001b[0;36m_sanitize_column\u001b[1;34m(self, key, value, broadcast)\u001b[0m\n\u001b[0;32m   2664\u001b[0m \u001b[1;33m\u001b[0m\u001b[0m\n\u001b[0;32m   2665\u001b[0m             \u001b[1;31m# turn me into an ndarray\u001b[0m\u001b[1;33m\u001b[0m\u001b[1;33m\u001b[0m\u001b[0m\n\u001b[1;32m-> 2666\u001b[1;33m             \u001b[0mvalue\u001b[0m \u001b[1;33m=\u001b[0m \u001b[0m_sanitize_index\u001b[0m\u001b[1;33m(\u001b[0m\u001b[0mvalue\u001b[0m\u001b[1;33m,\u001b[0m \u001b[0mself\u001b[0m\u001b[1;33m.\u001b[0m\u001b[0mindex\u001b[0m\u001b[1;33m,\u001b[0m \u001b[0mcopy\u001b[0m\u001b[1;33m=\u001b[0m\u001b[1;32mFalse\u001b[0m\u001b[1;33m)\u001b[0m\u001b[1;33m\u001b[0m\u001b[0m\n\u001b[0m\u001b[0;32m   2667\u001b[0m             \u001b[1;32mif\u001b[0m \u001b[1;32mnot\u001b[0m \u001b[0misinstance\u001b[0m\u001b[1;33m(\u001b[0m\u001b[0mvalue\u001b[0m\u001b[1;33m,\u001b[0m \u001b[1;33m(\u001b[0m\u001b[0mnp\u001b[0m\u001b[1;33m.\u001b[0m\u001b[0mndarray\u001b[0m\u001b[1;33m,\u001b[0m \u001b[0mIndex\u001b[0m\u001b[1;33m)\u001b[0m\u001b[1;33m)\u001b[0m\u001b[1;33m:\u001b[0m\u001b[1;33m\u001b[0m\u001b[0m\n\u001b[0;32m   2668\u001b[0m                 \u001b[1;32mif\u001b[0m \u001b[0misinstance\u001b[0m\u001b[1;33m(\u001b[0m\u001b[0mvalue\u001b[0m\u001b[1;33m,\u001b[0m \u001b[0mlist\u001b[0m\u001b[1;33m)\u001b[0m \u001b[1;32mand\u001b[0m \u001b[0mlen\u001b[0m\u001b[1;33m(\u001b[0m\u001b[0mvalue\u001b[0m\u001b[1;33m)\u001b[0m \u001b[1;33m>\u001b[0m \u001b[1;36m0\u001b[0m\u001b[1;33m:\u001b[0m\u001b[1;33m\u001b[0m\u001b[0m\n",
      "\u001b[1;32mC:\\ProgramData\\Anaconda3\\lib\\site-packages\\pandas\\core\\series.py\u001b[0m in \u001b[0;36m_sanitize_index\u001b[1;34m(data, index, copy)\u001b[0m\n\u001b[0;32m   2877\u001b[0m \u001b[1;33m\u001b[0m\u001b[0m\n\u001b[0;32m   2878\u001b[0m     \u001b[1;32mif\u001b[0m \u001b[0mlen\u001b[0m\u001b[1;33m(\u001b[0m\u001b[0mdata\u001b[0m\u001b[1;33m)\u001b[0m \u001b[1;33m!=\u001b[0m \u001b[0mlen\u001b[0m\u001b[1;33m(\u001b[0m\u001b[0mindex\u001b[0m\u001b[1;33m)\u001b[0m\u001b[1;33m:\u001b[0m\u001b[1;33m\u001b[0m\u001b[0m\n\u001b[1;32m-> 2879\u001b[1;33m         \u001b[1;32mraise\u001b[0m \u001b[0mValueError\u001b[0m\u001b[1;33m(\u001b[0m\u001b[1;34m'Length of values does not match length of '\u001b[0m \u001b[1;34m'index'\u001b[0m\u001b[1;33m)\u001b[0m\u001b[1;33m\u001b[0m\u001b[0m\n\u001b[0m\u001b[0;32m   2880\u001b[0m \u001b[1;33m\u001b[0m\u001b[0m\n\u001b[0;32m   2881\u001b[0m     \u001b[1;32mif\u001b[0m \u001b[0misinstance\u001b[0m\u001b[1;33m(\u001b[0m\u001b[0mdata\u001b[0m\u001b[1;33m,\u001b[0m \u001b[0mPeriodIndex\u001b[0m\u001b[1;33m)\u001b[0m\u001b[1;33m:\u001b[0m\u001b[1;33m\u001b[0m\u001b[0m\n",
      "\u001b[1;31mValueError\u001b[0m: Length of values does not match length of index"
     ]
    }
   ],
   "source": [
    "# This needs refactoring\n",
    "# Break into Process Cell independent of Batch process\n",
    "# Also need to export subtracted ramp values as a csv for each cell\n",
    "\n",
    "def batch_process(df=ramps_df, jump_threshold=50):\n",
    "    df['RI'] = ''\n",
    "    for row in range(0, len(df)): #len(df)\n",
    "        print('Processing row ', row)\n",
    "        filename = df['File'][row] + '.EDR'\n",
    "        filepath = 'C:\\\\Users\\\\cdixon\\\\Documents\\\\DataSynaptopathies\\\\2018\\\\Glu\\\\' + filename\n",
    "        cell = Cell(filepath, df, row)\n",
    "        jumps = find_jumps(data=cell.I, threshold=jump_threshold)\n",
    "        ramp_starts = ramp_start_robust(jumps)\n",
    "        print('robust =', ramp_starts)\n",
    "        drug_threshold = df['ramp threshold'][row]\n",
    "        c_ramp_starts, d_ramp_starts = control_or_drug(cell.I, drug_threshold, ramp_starts) #this is not changing for the iterator\n",
    "        print ('time len=', len(cell.time), 'I len=', len(cell.I))\n",
    "        plot_trace(cell.time, cell.I, filename, c_ramp_starts, d_ramp_starts)\n",
    "        subtracted = subtracted_ramp(cell.I, ramp_starts, drug_threshold)\n",
    "        RI = rectification(subtracted) # \n",
    "        graph_final_ramps(cell.I, df['File'][row], df['Mutant'][row], subtracted, c_ramp_starts, d_ramp_starts, RI)#Is this really graphing new data???\n",
    "        df['RI'][row] = RI\n",
    "        print(filename, 'processed')\n",
    "    df.to_excel('ramps_results.xlsx')\n",
    "\n",
    "batch_process()\n",
    "\n",
    "# Change the graph so that it still saves, but also outputs to a plt matrix (len(files)) then saves that as pdf.\n",
    "# Make the data reader slice based on the specification file\n",
    "#robust segment finder sometimes finds 2 overlapping segments. Need to skip more data points?"
   ]
  },
  {
   "cell_type": "markdown",
   "metadata": {},
   "source": [
    "## Plotting data for visual inspection\n",
    "User must choose threshold for control and drug periods and confirm appropriate data period.\n",
    "\n",
    "After cutting out ramps, visually check that ramps are correctly identified, classified and averaged"
   ]
  },
  {
   "cell_type": "code",
   "execution_count": 61,
   "metadata": {
    "collapsed": true,
    "scrolled": true
   },
   "outputs": [],
   "source": [
    "#plot data\n",
    "def plot_trace(time, I, filename, c_ramp_starts, d_ramp_starts):\n",
    "    '''Plots the entire file by default. File can be subsectioned by passing an xscale tuple.\n",
    "        Ramps are highlighted if the ramp identification functions have already been run'''\n",
    "    try:\n",
    "        plt.plot(time, I)\n",
    "    except ValueError:\n",
    "        print (\"ValueError while plotting\")\n",
    "        pass\n",
    "    plt.xlabel('Time (s)')\n",
    "    plt.ylabel('Current (pA)')\n",
    "    #plt.ylim(yscale)\n",
    "    plt.xlim(0, len(time)/1000)\n",
    "    plt.title('Filename: %s' %filename)\n",
    "    try:\n",
    "        highlight_ramps(c_ramp_starts, color = 'b')\n",
    "        highlight_ramps(d_ramp_starts, color = 'g')\n",
    "    except NameError:\n",
    "        pass\n",
    "    return plt.show()\n",
    "\n",
    "#Consider writing a function to identify the max and min in a sensible way? Median of the points either end of ramps?\n",
    "\n",
    "# Remove the exceptions from the main function and add them in here"
   ]
  },
  {
   "cell_type": "code",
   "execution_count": 99,
   "metadata": {
    "collapsed": true
   },
   "outputs": [],
   "source": [
    "\n",
    "def find_jumps(data, threshold=50):\n",
    "    '''returns a list of timepoints at which a large neg jump (amplitude defined by threshold) occured across 1ms'''\n",
    "    jumps = []\n",
    "    for point in range(0, len(data)-2):\n",
    "        if int(data[point]) > (int(data[point+1])+threshold):\n",
    "            jumps.append(point)\n",
    "    print('Found these jumps: ', jumps)\n",
    "    return jumps\n",
    "\n",
    "\n",
    "def ramp_start(jumps):\n",
    "    '''Identify adjacent pairs of start and end coordinates for ramps of 1800ms duration\n",
    "    Requires points exactly 1800ms apart'''\n",
    "    x = 0\n",
    "    ramps = []\n",
    "    while x < len(jumps)-1:\n",
    "        if jumps[x]+1800 == jumps[x+1]:\n",
    "            ramps.append(jumps[x])\n",
    "        x = x+1\n",
    "    return(ramps)\n",
    "\n",
    "\n",
    "def highlight_ramps(ramp_starts, color = 'red'):\n",
    "    '''Called in graph function to give visual feedback on where the ramps are identified'''\n",
    "    for r in ramp_starts:\n",
    "        plt.axvspan(r/1000, (r/1000)+1.8, color = color, alpha = 0.3)\n"
   ]
  },
  {
   "cell_type": "code",
   "execution_count": null,
   "metadata": {
    "collapsed": true
   },
   "outputs": [],
   "source": []
  },
  {
   "cell_type": "code",
   "execution_count": 102,
   "metadata": {},
   "outputs": [
    {
     "name": "stdout",
     "output_type": "stream",
     "text": [
      "Without duplicates:  [1000, 2800, 3000, 3100, 3300, 4800]\n"
     ]
    },
    {
     "data": {
      "text/plain": [
       "[1000, 2800, 3000, 3100, 3300, 4800]"
      ]
     },
     "execution_count": 102,
     "metadata": {},
     "output_type": "execute_result"
    }
   ],
   "source": [
    "###\n",
    "test_jumps1 = [1000, 1001, 1010, 2800, 2801, 3000, 3100, 3300, 4800]\n",
    "# Test that duplicates are removed\n",
    "# Should remove any value that is within 100ms of it's predecessor\n",
    "# Should catch multiple close values\n",
    "    \n",
    "def remove_duplicate_ramps(jumps):\n",
    "    '''remove adjacent jumps that are too close together to be real'''\n",
    "    x = 0\n",
    "    remove = []\n",
    "    while x < len(jumps)-1:\n",
    "        for y in range(1, (len(jumps)-x -1)):\n",
    "            if jumps[x+y] < jumps[x]+100:\n",
    "                remove.append(jumps[x+y])\n",
    "        x = x+1\n",
    "    new_jumps = []\n",
    "    for x in jumps:\n",
    "        if x not in remove:\n",
    "            new_jumps.append(x)\n",
    "    print('Without duplicates: ', new_jumps)\n",
    "    return(new_jumps)\n",
    "\n",
    "remove_duplicate_ramps(test_jumps1)"
   ]
  },
  {
   "cell_type": "code",
   "execution_count": 136,
   "metadata": {},
   "outputs": [
    {
     "name": "stdout",
     "output_type": "stream",
     "text": [
      "Without duplicates:  [1000, 2800, 3000, 3100, 3300, 4800]\n"
     ]
    },
    {
     "data": {
      "text/plain": [
       "[1000, 3000]"
      ]
     },
     "execution_count": 136,
     "metadata": {},
     "output_type": "execute_result"
    }
   ],
   "source": [
    "   \n",
    "\n",
    "\n",
    "test_jumps2 = [1000, 2800, 3000, 3300, 4800]\n",
    "# test to ensure ramps are being found and spurious values ignored\n",
    "# corrent return:\n",
    "# [1000, 3000]\n",
    "# test_jumps1 will return the same\n",
    "\n",
    "def ramp_start_robust(jumps):\n",
    "    '''Identify adjacent pairs of start and end coordinates for ramps of 1800ms duration\n",
    "    Check each additional jump until run out of jumps or ramp is found'''\n",
    "    jumps = remove_duplicate_ramps(jumps)\n",
    "    x = 0\n",
    "    ramps = []\n",
    "    while x < len(jumps)-1:\n",
    "        for y in range(1, (len(jumps)-x)):\n",
    "            if jumps[x]+1800 == jumps[x+y]:\n",
    "                ramps.append(jumps[x])\n",
    "                break #Having found the end of the ramp, move to next x\n",
    "            elif jumps[x]+1800 < jumps[x+y]:\n",
    "                break #This x doesn't have a partner, so try the next x\n",
    "            else:\n",
    "                continue #May still have a partner, so keep trying more y\n",
    "        x = x+1\n",
    "    return(ramps)\n",
    "\n",
    "ramp_start_robust(test_jumps1)"
   ]
  },
  {
   "cell_type": "code",
   "execution_count": 111,
   "metadata": {
    "collapsed": true,
    "scrolled": false
   },
   "outputs": [],
   "source": [
    "\n",
    "def control_or_drug(I, drug_threshold, ramp_starts):\n",
    "    '''Pass in data as I'''\n",
    "    control_ramp_starts = []\n",
    "    drug_ramp_starts = []\n",
    "    for r in ramp_starts:\n",
    "        base = I[r-20].magnitude #use the first 20ms of the file for the baseline\n",
    "        base = base[0]\n",
    "        if base > drug_threshold:\n",
    "            control_ramp_starts.append(r)\n",
    "        else:\n",
    "            drug_ramp_starts.append(r)\n",
    "    return control_ramp_starts, drug_ramp_starts\n",
    "\n",
    "\n",
    "def average_ramps(I, ramp_starts):\n",
    "    '''pass in raw data as I and either drug or control ramp_starts list; will return average of those'''\n",
    "    #Makes the first array before looping over the others that need averaging\n",
    "    x = 1\n",
    "    r = ramp_starts[0]\n",
    "    av_ramp = I[r-1000:r+2800].magnitude\n",
    "    for r in ramp_starts[1:]:\n",
    "        #select I from r-1000 to r+2800 to catch the whole ramp\n",
    "        seg = I[r-1000:r+2800].magnitude\n",
    "        av_ramp = av_ramp + seg\n",
    "        x = x+1\n",
    "    return(av_ramp/x)\n",
    "\n",
    "\n",
    "def subtracted_ramp(I, ramp_starts, drug_threshold):\n",
    "    '''sorts ramps into drug category based on threshold then averages'''\n",
    "    try:\n",
    "        c_ramp_starts, d_ramp_starts = control_or_drug(I, drug_threshold, ramp_starts)\n",
    "        subtracted = average_ramps(I, d_ramp_starts)-average_ramps(I, c_ramp_starts) \n",
    "    except IndexError:\n",
    "        print ('Index error in ramps')\n",
    "        subtracted = 'NaN'\n",
    "    return subtracted\n",
    "\n",
    "\n",
    "#Need to split out a table with the rectification ratio,\n",
    "#1 graph with all 3 lines\n",
    "#Plot the control, drug and subtraction curves\n",
    "\n",
    "def graph_final_ramps(I, recordname, mutant, subtracted, c_ramp_starts, d_ramp_starts, RI):\n",
    "    '''Saves and outputs plot of control drug and subtracted ramps'''\n",
    "    mV_ms = 180/1800\n",
    "    x_ms = np.array(range(0,1800))\n",
    "    x_mV = (x_ms*mV_ms)-104\n",
    "    #-100 because the ramp started at -100, then also -4 to correct for LJP\n",
    "    fig, ax = plt.subplots()\n",
    "    plt.plot(x_mV[2:], subtracted[1002:2800], 'r')\n",
    "    plt.plot(x_mV[2:], average_ramps(I, d_ramp_starts)[1002:2800], 'g')\n",
    "    plt.plot(x_mV[2:], average_ramps(I, c_ramp_starts)[1002:2800], 'b')\n",
    "    plt.axhline(0, color='black', alpha=0.3)\n",
    "    plt.axvline(0, color='black', alpha=0.3)\n",
    "    plt.xlabel('voltage (mV)')\n",
    "    plt.ylabel('current (pA)')\n",
    "    plt.title(recordname + ' ' + mutant + '  RI = ' + str(RI)) #added 8/5/18\n",
    "    save_name = recordname + 'RampGraph.pdf'\n",
    "    plt.savefig(save_name, transparent=True)\n",
    "    return plt.show()\n",
    "\n",
    "#graph_final_ramps()\n",
    "#Write a wrapper code that puts out filename and rect ratio for each cell\n",
    "\n",
    "def rectification(subtracted, pos=40, neg=-70):\n",
    "    '''finds the ratio of currents at specified positive and negative voltages'''\n",
    "    if subtracted == 'NaN':\n",
    "        RI = 'NaN'\n",
    "        print('Not possible to find RI')\n",
    "    else:\n",
    "        pos_xindex = 10*(pos+104)+1000 # *10 needed because mV/ms is 10. 1000 adjusts for baseline at the start\n",
    "        neg_xindex = 10*(neg+104)+1000\n",
    "        pos = subtracted[pos_xindex]\n",
    "        neg = subtracted[neg_xindex]\n",
    "        rectification_index = pos/neg\n",
    "        RI = rectification_index[0]\n",
    "    return RI\n",
    "    \n",
    "#rectification()"
   ]
  },
  {
   "cell_type": "markdown",
   "metadata": {},
   "source": [
    "#No point doing all this until I figure out how to make the text editable in Python\n",
    "\n",
    "ax.spines['left'].set_position('zero')\n",
    "ax.spines['right'].set_color('none')\n",
    "ax.spines['bottom'].set_position('zero')\n",
    "ax.spines['top'].set_color('none')\n",
    "ax.spines['left'].set_smart_bounds(True)\n",
    "ax.spines['bottom'].set_smart_bounds(True)\n",
    "ax.xaxis.set_ticks_position('bottom')\n",
    "ax.yaxis.set_ticks_position('left')"
   ]
  },
  {
   "cell_type": "markdown",
   "metadata": {},
   "source": [
    "## Plot each ramp individually to look for abnormalities\n",
    "\n",
    "Not usually neccessary"
   ]
  },
  {
   "cell_type": "code",
   "execution_count": null,
   "metadata": {
    "collapsed": true
   },
   "outputs": [],
   "source": [
    "#Need to generate a whole pile of plots in one figure\n",
    "#Requires holding it in memory then outputting at the end of the for loop\n",
    "\n",
    "#Number of plots: len(df), 2, x\n",
    "\n",
    "p = 1\n",
    "plt.subplots(len(df), 2, p)\n",
    "\n",
    "#in for loop:\n"
   ]
  },
  {
   "cell_type": "code",
   "execution_count": 16,
   "metadata": {},
   "outputs": [
    {
     "ename": "TypeError",
     "evalue": "control_or_drug() missing 3 required positional arguments: 'I', 'drug_threshold', and 'ramp_starts'",
     "output_type": "error",
     "traceback": [
      "\u001b[1;31m---------------------------------------------------------------------------\u001b[0m",
      "\u001b[1;31mTypeError\u001b[0m                                 Traceback (most recent call last)",
      "\u001b[1;32m<ipython-input-16-dc4cb5430b5c>\u001b[0m in \u001b[0;36m<module>\u001b[1;34m()\u001b[0m\n\u001b[0;32m      2\u001b[0m \u001b[1;31m#Plot each of the ramps identified, based on control or drug\u001b[0m\u001b[1;33m\u001b[0m\u001b[1;33m\u001b[0m\u001b[0m\n\u001b[0;32m      3\u001b[0m \u001b[1;33m\u001b[0m\u001b[0m\n\u001b[1;32m----> 4\u001b[1;33m \u001b[0mc_ramp_starts\u001b[0m\u001b[1;33m,\u001b[0m \u001b[0md_ramp_starts\u001b[0m \u001b[1;33m=\u001b[0m \u001b[0mcontrol_or_drug\u001b[0m\u001b[1;33m(\u001b[0m\u001b[1;33m)\u001b[0m\u001b[1;33m\u001b[0m\u001b[0m\n\u001b[0m\u001b[0;32m      5\u001b[0m \u001b[1;33m\u001b[0m\u001b[0m\n\u001b[0;32m      6\u001b[0m \u001b[0mx\u001b[0m \u001b[1;33m=\u001b[0m \u001b[1;36m1\u001b[0m\u001b[1;33m\u001b[0m\u001b[0m\n",
      "\u001b[1;31mTypeError\u001b[0m: control_or_drug() missing 3 required positional arguments: 'I', 'drug_threshold', and 'ramp_starts'"
     ]
    }
   ],
   "source": [
    "#Extra plots to visually confirm that the subtraction is fine\n",
    "#Plot each of the ramps identified, based on control or drug\n",
    "\n",
    "c_ramp_starts, d_ramp_starts = control_or_drug()\n",
    "\n",
    "x = 1\n",
    "\n",
    "for n in c_ramp_starts:\n",
    "    plt.subplot(3, 6, x)#Need to change this to adjust to the number of control/drug traces\n",
    "    plt.plot(I[n-1000:n+2800], color = 'b')\n",
    "    plt.ylim(-5000, 4000)\n",
    "    x += 1\n",
    "\n",
    "for n in d_ramp_starts:\n",
    "    plt.subplot(3, 6, x)\n",
    "    plt.plot(I[n-1000:n+2800], color = 'g')\n",
    "    plt.ylim(-5000, 4000)\n",
    "    x += 1\n",
    "\n",
    "n = subtracted_ramp()\n",
    "plt.subplot(3,6,x)\n",
    "plt.plot(n, color = 'r')\n",
    "plt.ylim(-5000, 4000)\n",
    "\n"
   ]
  },
  {
   "cell_type": "markdown",
   "metadata": {},
   "source": [
    "\n",
    "## Spare code: Everything below here is not necessary for current functionality"
   ]
  },
  {
   "cell_type": "code",
   "execution_count": null,
   "metadata": {
    "collapsed": true
   },
   "outputs": [],
   "source": []
  },
  {
   "cell_type": "code",
   "execution_count": null,
   "metadata": {
    "collapsed": true
   },
   "outputs": [],
   "source": []
  },
  {
   "cell_type": "code",
   "execution_count": null,
   "metadata": {
    "collapsed": true
   },
   "outputs": [],
   "source": [
    "#plt.figure(figsize=(20,3))\n",
    "#plt.plot(time[0:20000], I[0:20000])\n",
    "\n",
    "sampling_rate = 1000\n",
    "\n",
    "def convert(sec, sampling_rate = sampling_rate):\n",
    "    '''Converts time(s) to number of samples'''\n",
    "    return sec*sampling_rate\n",
    "\n",
    "def section(from_s, to_s, sampling_rate = sampling_rate, time_array = time, data_array = I):\n",
    "    '''Takes a slice of recording defined by start and end times (from_s, to_s)'''\n",
    "    return(time_array[convert(from_s):convert(to_s)], data_array[convert(from_s):convert(to_s)])\n",
    "\n",
    "def plot_section(from_s, to_s, sampling_rate = sampling_rate, time_array = time, data_array = I):\n",
    "    '''Plots a section of recording defined by start and end times (from_s, to_s)'''\n",
    "    plt.xlabel('Time (s)')\n",
    "    plt.ylabel('Current (pA)')\n",
    "    plt.title('Filename: %s' %filename)\n",
    "    return plt.plot(time_array[convert(from_s):convert(to_s)], data_array[convert(from_s):convert(to_s)])\n",
    "\n",
    "plot_section(1, 100)\n"
   ]
  },
  {
   "cell_type": "code",
   "execution_count": null,
   "metadata": {
    "collapsed": true
   },
   "outputs": [],
   "source": [
    "#how to return an array to be subtracted on?\n",
    "av_ramp = []\n",
    "av_ramp = I[0:1000].magnitude\n",
    "av_ramp + I[1000:2000].magnitude\n",
    "av_ramp.shape"
   ]
  },
  {
   "cell_type": "code",
   "execution_count": null,
   "metadata": {
    "collapsed": true
   },
   "outputs": [],
   "source": [
    "I[0].magnitude/2\n"
   ]
  },
  {
   "cell_type": "code",
   "execution_count": null,
   "metadata": {
    "collapsed": true
   },
   "outputs": [],
   "source": [
    "\n",
    "def find_zero(data):\n",
    "    '''returns a list of timepoints at which a large neg jump occured'''\n",
    "    crossings = []'\n",
    "    for point in range(0, len(data)):\n",
    "        if data[point] == 0:\n",
    "            crossings.append(point)\n",
    "    return crossings\n"
   ]
  },
  {
   "cell_type": "code",
   "execution_count": null,
   "metadata": {
    "collapsed": true
   },
   "outputs": [],
   "source": []
  },
  {
   "cell_type": "code",
   "execution_count": null,
   "metadata": {
    "collapsed": true
   },
   "outputs": [],
   "source": []
  },
  {
   "cell_type": "code",
   "execution_count": null,
   "metadata": {
    "collapsed": true,
    "scrolled": true
   },
   "outputs": [],
   "source": [
    "base = np.mean(I[1:500])\n",
    "print (base)\n",
    "test_section = section(50, 60)\n",
    "\n",
    "#ugly brute force approach to find zeros\n",
    "\n",
    "def zero_crossing(base, data = I):\n",
    "    mask = []\n",
    "    for point in I:\n",
    "        if -1 <= point[0] <= 0 :\n",
    "            mask.append[point]\n",
    "        return mask\n",
    "        \n",
    "zero_crossing(test_section)\n",
    "    \n",
    "\n",
    "    "
   ]
  },
  {
   "cell_type": "markdown",
   "metadata": {
    "collapsed": true,
    "scrolled": true
   },
   "source": [
    "From when i was analysing one at a time:\n",
    "\n",
    "# Identify file\n",
    "filepath = 'C:\\\\Users\\\\cdixon\\\\Documents\\\\DataSynaptopathies\\\\2018\\\\Glu\\\\180320_008.EDR'\n",
    "\n",
    "# Names to use in graphs and outputs\n",
    "# folder = filepath.split('\\\\')[0:-1] #This won't work as it will return a list not a string\n",
    "filename = filepath.split('\\\\')[-1]\n",
    "recordname = filename.split('.')[-2]\n",
    "\n",
    "# read in file\n",
    "# for Neo info see Garcia et al., 2014\n",
    "r = io.WinEdrIO(filename=filepath)\n",
    "seg = r.read_segment(lazy=False, cascade=True,)\n",
    "\n",
    "# make data series\n",
    "time = seg.analogsignals[0].times\n",
    "I = seg.analogsignals[0]"
   ]
  },
  {
   "cell_type": "code",
   "execution_count": null,
   "metadata": {
    "collapsed": true
   },
   "outputs": [],
   "source": [
    "\n"
   ]
  },
  {
   "cell_type": "code",
   "execution_count": null,
   "metadata": {
    "collapsed": true
   },
   "outputs": [],
   "source": [
    "#strip units from the array using magnitude attribute\n",
    "\n",
    "a = I.magnitude\n",
    "pA = pd.DataFrame(a)\n",
    "\n",
    "#add time as the index value\n",
    "#filter to find first instance of jump\n",
    "#make a list of the jump time points\n",
    "#iterate over list, pulling out chunks of data for each ramp\n",
    "#Classify each ramp into High or Low baseline\n",
    "#average each high and each low pile\n",
    "#graph the averages on top of each other:\n",
    "#convert x axis from time into voltage using the v/s algorithm + ljp X offset"
   ]
  },
  {
   "cell_type": "code",
   "execution_count": null,
   "metadata": {
    "collapsed": true
   },
   "outputs": [],
   "source": [
    "base.magnitude"
   ]
  },
  {
   "cell_type": "code",
   "execution_count": null,
   "metadata": {
    "collapsed": true
   },
   "outputs": [],
   "source": [
    "d = pA.diff(1)"
   ]
  },
  {
   "cell_type": "code",
   "execution_count": null,
   "metadata": {
    "collapsed": true
   },
   "outputs": [],
   "source": []
  },
  {
   "cell_type": "code",
   "execution_count": null,
   "metadata": {
    "collapsed": true
   },
   "outputs": [],
   "source": []
  },
  {
   "cell_type": "code",
   "execution_count": null,
   "metadata": {
    "collapsed": true
   },
   "outputs": [],
   "source": []
  },
  {
   "cell_type": "code",
   "execution_count": null,
   "metadata": {
    "collapsed": true
   },
   "outputs": [],
   "source": []
  },
  {
   "cell_type": "code",
   "execution_count": null,
   "metadata": {
    "collapsed": true
   },
   "outputs": [],
   "source": []
  },
  {
   "cell_type": "code",
   "execution_count": null,
   "metadata": {
    "collapsed": true
   },
   "outputs": [],
   "source": []
  },
  {
   "cell_type": "code",
   "execution_count": null,
   "metadata": {
    "collapsed": true
   },
   "outputs": [],
   "source": []
  },
  {
   "cell_type": "code",
   "execution_count": null,
   "metadata": {
    "collapsed": true
   },
   "outputs": [],
   "source": []
  },
  {
   "cell_type": "code",
   "execution_count": null,
   "metadata": {
    "collapsed": true
   },
   "outputs": [],
   "source": []
  },
  {
   "cell_type": "code",
   "execution_count": null,
   "metadata": {
    "collapsed": true
   },
   "outputs": [],
   "source": []
  },
  {
   "cell_type": "code",
   "execution_count": null,
   "metadata": {
    "collapsed": true
   },
   "outputs": [],
   "source": []
  },
  {
   "cell_type": "code",
   "execution_count": null,
   "metadata": {
    "collapsed": true
   },
   "outputs": [],
   "source": [
    "siglist = seg.analogsignals\n",
    "time_points = siglist[0].times\n",
    "#avg = np.mean(siglist, axis=0) # Average over signals of Segment\n",
    "\n",
    "plt.figure()\n",
    "#plt.plot(time_points, avg)\n",
    "plt.plot(time_points, siglist[0])\n",
    "\n",
    "time_points = seg.analogsignals[0].times\n",
    "data_points = seg.analogsignals[0]\n",
    "plt.figure()\n",
    "plt.plot(time_points, data_points)"
   ]
  },
  {
   "cell_type": "code",
   "execution_count": null,
   "metadata": {
    "collapsed": true
   },
   "outputs": [],
   "source": [
    "Y = (seg.analogsignals[0])\n",
    "X = siglist[0].times"
   ]
  },
  {
   "cell_type": "code",
   "execution_count": null,
   "metadata": {
    "collapsed": true
   },
   "outputs": [],
   "source": []
  },
  {
   "cell_type": "code",
   "execution_count": null,
   "metadata": {
    "collapsed": true
   },
   "outputs": [],
   "source": []
  },
  {
   "cell_type": "code",
   "execution_count": null,
   "metadata": {
    "collapsed": true
   },
   "outputs": [],
   "source": []
  },
  {
   "cell_type": "code",
   "execution_count": null,
   "metadata": {
    "collapsed": true
   },
   "outputs": [],
   "source": [
    "import math\n",
    "\n",
    "import matplotlib.pyplot as plt\n",
    "\n",
    "class AnnoteFinder(object):\n",
    "    \"\"\"callback for matplotlib to display an annotation when points are\n",
    "    clicked on.  The point which is closest to the click and within\n",
    "    xtol and ytol is identified.\n",
    "    \n",
    "    Register this function like this:\n",
    "    \n",
    "    scatter(xdata, ydata)\n",
    "    af = AnnoteFinder(xdata, ydata, annotes)\n",
    "    connect('button_press_event', af)\n",
    "    \"\"\"\n",
    "\n",
    "    def __init__(self, xdata, ydata, annotes, ax=None, xtol=None, ytol=None):\n",
    "        self.data = list(zip(xdata, ydata, annotes))\n",
    "        if xtol is None:\n",
    "            xtol = ((max(xdata) - min(xdata))/float(len(xdata)))/2\n",
    "        if ytol is None:\n",
    "            ytol = ((max(ydata) - min(ydata))/float(len(ydata)))/2\n",
    "        self.xtol = xtol\n",
    "        self.ytol = ytol\n",
    "        if ax is None:\n",
    "            self.ax = plt.gca()\n",
    "        else:\n",
    "            self.ax = ax\n",
    "        self.drawnAnnotations = {}\n",
    "        self.links = []\n",
    "\n",
    "    def distance(self, x1, x2, y1, y2):\n",
    "        \"\"\"\n",
    "        return the distance between two points\n",
    "        \"\"\"\n",
    "        return(math.sqrt((x1 - x2)**2 + (y1 - y2)**2))\n",
    "\n",
    "    def __call__(self, event):\n",
    "\n",
    "        if event.inaxes:\n",
    "\n",
    "            clickX = event.xdata\n",
    "            clickY = event.ydata\n",
    "            if (self.ax is None) or (self.ax is event.inaxes):\n",
    "                annotes = []\n",
    "                # print(event.xdata, event.ydata)\n",
    "                for x, y, a in self.data:\n",
    "                    # print(x, y, a)\n",
    "                    if ((clickX-self.xtol < x < clickX+self.xtol) and\n",
    "                            (clickY-self.ytol < y < clickY+self.ytol)):\n",
    "                        annotes.append(\n",
    "                            (self.distance(x, clickX, y, clickY), x, y, a))\n",
    "                if annotes:\n",
    "                    annotes.sort()\n",
    "                    distance, x, y, annote = annotes[0]\n",
    "                    self.drawAnnote(event.inaxes, x, y, annote)\n",
    "                    for l in self.links:\n",
    "                        l.drawSpecificAnnote(annote)\n",
    "\n",
    "    def drawAnnote(self, ax, x, y, annote):\n",
    "        \"\"\"\n",
    "        Draw the annotation on the plot\n",
    "        \"\"\"\n",
    "        if (x, y) in self.drawnAnnotations:\n",
    "            markers = self.drawnAnnotations[(x, y)]\n",
    "            for m in markers:\n",
    "                m.set_visible(not m.get_visible())\n",
    "            self.ax.figure.canvas.draw_idle()\n",
    "        else:\n",
    "            t = ax.text(x, y, \" - %s\" % (annote),)\n",
    "            m = ax.scatter([x], [y], marker='d', c='r', zorder=100)\n",
    "            self.drawnAnnotations[(x, y)] = (t, m)\n",
    "            self.ax.figure.canvas.draw_idle()\n",
    "\n",
    "    def drawSpecificAnnote(self, annote):\n",
    "        annotesToDraw = [(x, y, a) for x, y, a in self.data if a == annote]\n",
    "        for x, y, a in annotesToDraw:\n",
    "            self.drawAnnote(self.ax, x, y, a)"
   ]
  },
  {
   "cell_type": "code",
   "execution_count": null,
   "metadata": {
    "collapsed": true
   },
   "outputs": [],
   "source": [
    "#x = range(10)\n",
    "#y = range(10)\n",
    "#annotes = ['a', 'b', 'c', 'd', 'e', 'f', 'g', 'h', 'i', 'j']\n",
    "\n",
    "fig, ax = plt.subplots()\n",
    "ax.scatter(x,y)\n",
    "af =  AnnoteFinder(x,y, annotes, ax=ax)\n",
    "fig.canvas.mpl_connect('button_press_event', af)\n",
    "plt.show()"
   ]
  },
  {
   "cell_type": "markdown",
   "metadata": {
    "collapsed": true
   },
   "source": [
    "http://jonathansoma.com/lede/data-studio/matplotlib/exporting-from-matplotlib-to-open-in-adobe-illustrator/"
   ]
  },
  {
   "cell_type": "code",
   "execution_count": null,
   "metadata": {
    "collapsed": true
   },
   "outputs": [],
   "source": []
  }
 ],
 "metadata": {
  "kernelspec": {
   "display_name": "Python 3",
   "language": "python",
   "name": "python3"
  },
  "language_info": {
   "codemirror_mode": {
    "name": "ipython",
    "version": 3
   },
   "file_extension": ".py",
   "mimetype": "text/x-python",
   "name": "python",
   "nbconvert_exporter": "python",
   "pygments_lexer": "ipython3",
   "version": "3.6.1"
  }
 },
 "nbformat": 4,
 "nbformat_minor": 2
}
