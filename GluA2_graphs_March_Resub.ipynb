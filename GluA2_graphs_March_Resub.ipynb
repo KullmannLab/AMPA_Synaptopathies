{
 "cells": [
  {
   "cell_type": "code",
   "execution_count": 1,
   "metadata": {
    "collapsed": true
   },
   "outputs": [],
   "source": [
    "import pandas as pd\n",
    "import matplotlib.pyplot as plt\n",
    "import matplotlib as mpl\n",
    "import matplotlib.patches as mpatches\n",
    "import numpy as np\n",
    "import seaborn as sns\n",
    "\n",
    "from scipy import stats\n",
    "from statsmodels.sandbox.stats.multicomp import multipletests\n",
    "\n",
    "mpl.rcParams['pdf.fonttype'] = 42\n",
    "\n",
    "%matplotlib inline"
   ]
  },
  {
   "cell_type": "code",
   "execution_count": 281,
   "metadata": {
    "scrolled": false
   },
   "outputs": [],
   "source": [
    "hom_amp_df = pd.read_excel('GluR2_KA_summary211118.xlsx', sheetname='KA 1mM Homomers summary')\n",
    "hom_amp_df.loc[(hom_amp_df['Mutant'] =='PQK528-530Del'), 'Mutant'] = 'P528-530Del'\n",
    "\n",
    "het_amp_df = pd.read_excel('GluR2_KA_summary211118.xlsx', sheetname='KA 1mM Heteromers Summary')\n",
    "\n",
    "het_ramps_df = pd.read_excel('C:\\\\Users\\\\cdixon\\\\Documents\\\\DataSynaptopathies\\\\2018\\\\Glu\\\\ramps_results_Mar18_fullHet.xlsx')\n",
    "het_ramps_df.loc[(het_ramps_df['Mutant'] =='528Del'), 'Mutant'] = 'P528-530Del'\n",
    "\n",
    "hom_ramps_df = pd.read_excel('C:\\\\Users\\\\cdixon\\\\Documents\\\\DataSynaptopathies\\\\2018\\\\Glu\\\\ramps_results_Hom_full.xlsx')\n"
   ]
  },
  {
   "cell_type": "code",
   "execution_count": null,
   "metadata": {},
   "outputs": [],
   "source": []
  },
  {
   "cell_type": "code",
   "execution_count": 282,
   "metadata": {},
   "outputs": [
    {
     "name": "stdout",
     "output_type": "stream",
     "text": [
      "rows:  195\n",
      "WT             25\n",
      "G745V          18\n",
      "I375V          14\n",
      "G609R          13\n",
      "P528-530Del    11\n",
      "G778A          10\n",
      "T646N          10\n",
      "A643T          10\n",
      "A639S          10\n",
      "Q607E          10\n",
      "V647L          10\n",
      "V830M           9\n",
      "W788L           8\n",
      "D611N           8\n",
      "G47E            7\n",
      "P528T           7\n",
      "F644L           6\n",
      "D302G           6\n",
      "GRIA1           1\n",
      "Name: Mutant, dtype: int64\n",
      "rows:  17\n",
      "Q607E    7\n",
      "WT       6\n",
      "D611N    4\n",
      "Name: Mutant, dtype: int64\n",
      "rows:  200\n",
      "WT        28\n",
      "GRIA1     21\n",
      "A639S     19\n",
      "D611N     15\n",
      "528Del    15\n",
      "F644L     14\n",
      "Q607E     12\n",
      "T646N     12\n",
      "I375V     11\n",
      "G609R     11\n",
      "D302G     10\n",
      "W788L     10\n",
      "P528T      9\n",
      "G47E       7\n",
      "V647L      6\n",
      "Name: Mutant, dtype: int64\n",
      "rows:  167\n",
      "GRIA1          19\n",
      "WT             19\n",
      "A639S          18\n",
      "P528-530Del    14\n",
      "D611N          13\n",
      "G609R          11\n",
      "F644L          10\n",
      "Q607E          10\n",
      "T646N          10\n",
      "P528T           9\n",
      "I375V           9\n",
      "D302G           7\n",
      "W788L           7\n",
      "G47E            6\n",
      "V647L           5\n",
      "Name: Mutant, dtype: int64\n"
     ]
    }
   ],
   "source": [
    "for f in [hom_amp_df, hom_ramps_df, het_amp_df, het_ramps_df]:\n",
    "    print('rows: ',len(f))\n",
    "    print(f.Mutant.value_counts())"
   ]
  },
  {
   "cell_type": "code",
   "execution_count": null,
   "metadata": {
    "collapsed": true
   },
   "outputs": [],
   "source": []
  },
  {
   "cell_type": "code",
   "execution_count": null,
   "metadata": {
    "collapsed": true
   },
   "outputs": [],
   "source": []
  },
  {
   "cell_type": "markdown",
   "metadata": {},
   "source": [
    "# Export files (wide data for stats in Prism)"
   ]
  },
  {
   "cell_type": "code",
   "execution_count": null,
   "metadata": {
    "collapsed": true
   },
   "outputs": [],
   "source": [
    "# Exporting data for amplitude and hold: Heteromer experiment\n",
    "\n",
    "File = pd.ExcelWriter('GluR1_prism181121.xlsx')\n",
    "\n",
    "Amp = gluR1_df[['Mutant','KA Amplitude']]\n",
    "Amp = Amp.pivot(columns='Mutant', values='KA Amplitude')\n",
    "AmpG1_prism = Amp.apply(lambda x: pd.Series(x.dropna().values))\n",
    "\n",
    "AmpG1_prism.to_excel(File, sheet_name='G1_Amp', index=False)\n",
    "\n",
    "Hold = gluR1_df[['Mutant', 'KA Holding current']]\n",
    "Hold = Hold.pivot(columns='Mutant', values='KA Holding current')\n",
    "HoldG1_prism = Hold.apply(lambda x: pd.Series(x.dropna().values))\n",
    "\n",
    "HoldG1_prism.to_excel(File, sheet_name='G1_Hold', index=False)\n",
    "\n",
    "File.save()"
   ]
  },
  {
   "cell_type": "code",
   "execution_count": null,
   "metadata": {
    "collapsed": true
   },
   "outputs": [],
   "source": [
    "# Exporting data for amplitude and hold: Homomer experiment\n",
    "\n",
    "# Change this to reflect today's date <---\n",
    "\n",
    "File = pd.ExcelWriter('GluR2_prism181121.xlsx')\n",
    "paper_mutants_G2 = ['WT', 'G609R', 'A639S', 'T646N']\n",
    "\n",
    "Amp = df[['Mutant','KA Amplitude']]\n",
    "Amp = Amp.pivot(columns='Mutant', values='KA Amplitude')\n",
    "AmpG2_prism = Amp.apply(lambda x: pd.Series(x.dropna().values))\n",
    "\n",
    "AmpG2_prism.to_excel(File, sheet_name='G2_Amp_Supp', index=False)\n",
    "\n",
    "AmpG2_prism_paper = AmpG2_prism[paper_mutants_G2]\n",
    "AmpG2_prism_paper.to_excel(File, sheet_name='G2_Amp_paper', index=False)\n",
    "\n",
    "\n",
    "Hold = df[['Mutant', 'KA Holding current']]\n",
    "Hold = Hold.pivot(columns='Mutant', values='KA Holding current')\n",
    "HoldG2_prism = Hold.apply(lambda x: pd.Series(x.dropna().values))\n",
    "\n",
    "HoldG2_prism.to_excel(File, sheet_name='G2_Hold_Supp', index=False)\n",
    "\n",
    "HoldG2_prism_paper = HoldG2_prism[paper_mutants_G2]\n",
    "HoldG2_prism_paper.to_excel(File, sheet_name='G2_Hold_paper', index=False)\n",
    "\n",
    "File.save()"
   ]
  },
  {
   "cell_type": "markdown",
   "metadata": {},
   "source": [
    "# Identify the mutants to include in graphs"
   ]
  },
  {
   "cell_type": "code",
   "execution_count": 283,
   "metadata": {},
   "outputs": [
    {
     "data": {
      "text/plain": [
       "array(['A639S', 'WT', 'W788L', 'F644L', 'G609R', 'V647L', 'G745V', 'V830M',\n",
       "       'G778A', 'P528-530Del', 'I375V', 'P528T', 'A643T', 'T646N', 'G47E',\n",
       "       'D302G', 'Q607E', 'D611N', nan, 'GRIA1'], dtype=object)"
      ]
     },
     "execution_count": 283,
     "metadata": {},
     "output_type": "execute_result"
    }
   ],
   "source": [
    "hom_amp_df['Mutant'].unique()"
   ]
  },
  {
   "cell_type": "code",
   "execution_count": null,
   "metadata": {},
   "outputs": [],
   "source": []
  },
  {
   "cell_type": "code",
   "execution_count": 284,
   "metadata": {},
   "outputs": [
    {
     "data": {
      "text/plain": [
       "array(['WT', 'GRIA1', 'W788L', 'A639S', 'T646N', 'G609R', 'I375V', 'F644L',\n",
       "       'P528T', 'V647L', '528Del', 'G47E', 'D302G', 'Q607E', 'D611N'], dtype=object)"
      ]
     },
     "execution_count": 284,
     "metadata": {},
     "output_type": "execute_result"
    }
   ],
   "source": [
    "het_amp_df['Mutant'].unique()"
   ]
  },
  {
   "cell_type": "code",
   "execution_count": 285,
   "metadata": {},
   "outputs": [],
   "source": [
    "# fix the het mutant labels\n",
    "\n",
    "het_amp_df.loc[het_amp_df['Mutant'] == '528Del', 'Mutant'] = 'P528-530Del'"
   ]
  },
  {
   "cell_type": "code",
   "execution_count": 286,
   "metadata": {
    "collapsed": true
   },
   "outputs": [],
   "source": [
    "# het mutants includes neg and positive control\n",
    "het_mutants = ['WT', 'GRIA1', 'G47E', 'D302G', 'I375V', 'P528T', 'P528-530Del', 'Q607E', 'G609R', 'D611N', \n",
    "                 'A639S', 'F644L', 'T646N', 'V647L',]\n",
    "\n",
    "#dump the mutants that aren't in the list of useful ones\n",
    "hom_amp_df = hom_amp_df[hom_amp_df['Mutant'].isin(homomer_mutants)]\n",
    "#Change the labels to be consistent\n",
    "\n",
    "\n",
    "# We can change this if we decide to rename some columns\n",
    "# Should probably organise this at the data import stage\n",
    "het_labels = ['WT', '—', 'G47E', 'D302G','I375V', 'P528T', 'P528-530Del', 'Q607E', 'G609R', 'D611N', \n",
    "                 'A639S', 'F644L', 'T646N', 'V647L']\n",
    "\n",
    "# Addition of Lurcher; no neg control\n",
    "homomer_mutants = ['WT', 'G47E', 'D302G', 'I375V', 'P528T', 'P528-530Del', 'Q607E', 'G609R', 'D611N', \n",
    "                 'A639S', 'A643T', 'F644L', 'T646N', 'V647L',]\n",
    "\n",
    "all_mutants = ['WT', 'GRIA1', 'G47E', 'D302G', 'I375V', 'P528T', 'P528-530Del', 'Q607E', 'G609R', 'D611N', \n",
    "                 'A639S', 'A643T', 'F644L', 'T646N', 'V647L',]"
   ]
  },
  {
   "cell_type": "code",
   "execution_count": 287,
   "metadata": {
    "scrolled": true
   },
   "outputs": [
    {
     "name": "stdout",
     "output_type": "stream",
     "text": [
      "15\n"
     ]
    },
    {
     "data": {
      "image/png": "[encoded data removed]",
      "text/plain": [
       "<matplotlib.figure.Figure at 0xcda29e8>"
      ]
     },
     "metadata": {},
     "output_type": "display_data"
    }
   ],
   "source": [
    "# Assign a consistent colorscheme:\n",
    "rgb15 = sns.color_palette('hls', n_colors=15)\n",
    "print(len(rgb15))\n",
    "sns.palplot(rgb15)\n",
    "\n",
    "#'Paired' is also good but only 12"
   ]
  },
  {
   "cell_type": "code",
   "execution_count": 288,
   "metadata": {},
   "outputs": [],
   "source": [
    "\n",
    "color_dict = dict(zip(all_mutants, rgb15))"
   ]
  },
  {
   "cell_type": "code",
   "execution_count": 290,
   "metadata": {},
   "outputs": [
    {
     "data": {
      "text/plain": [
       "{'A639S': (0.37119999999999997, 0.33999999999999997, 0.85999999999999999),\n",
       " 'A643T': (0.57919999999999994, 0.33999999999999997, 0.85999999999999999),\n",
       " 'D302G': (0.72479999999999989, 0.85999999999999999, 0.33999999999999997),\n",
       " 'D611N': (0.33999999999999997, 0.51679999999999993, 0.85999999999999999),\n",
       " 'F644L': (0.7871999999999999, 0.33999999999999997, 0.85999999999999999),\n",
       " 'G47E': (0.85999999999999999, 0.78720000000000001, 0.33999999999999997),\n",
       " 'G609R': (0.33999999999999997, 0.72479999999999989, 0.85999999999999999),\n",
       " 'GRIA1': (0.85999999999999999, 0.57919999999999994, 0.33999999999999997),\n",
       " 'I375V': (0.51679999999999993, 0.85999999999999999, 0.33999999999999997),\n",
       " 'P528-530Del': (0.33999999999999997,\n",
       "  0.85999999999999999,\n",
       "  0.57920000000000016),\n",
       " 'P528T': (0.33999999999999997, 0.85999999999999999, 0.37119999999999997),\n",
       " 'Q607E': (0.33999999999999997, 0.85999999999999999, 0.78720000000000012),\n",
       " 'T646N': (0.85999999999999999, 0.33999999999999997, 0.72479999999999956),\n",
       " 'V647L': (0.85999999999999999, 0.33999999999999997, 0.51679999999999948),\n",
       " 'WT': (0.85999999999999999, 0.37119999999999997, 0.33999999999999997)}"
      ]
     },
     "execution_count": 290,
     "metadata": {},
     "output_type": "execute_result"
    }
   ],
   "source": [
    "# use list comprehensions to generate the color list for the het and hom graphs\n",
    "\n",
    "color_dict"
   ]
  },
  {
   "cell_type": "markdown",
   "metadata": {},
   "source": [
    "# Plot homomer data"
   ]
  },
  {
   "cell_type": "code",
   "execution_count": 291,
   "metadata": {},
   "outputs": [
    {
     "data": {
      "text/plain": [
       "Index(['Date', 'Mutant', 'Record', 'KA Holding current', 'KA Amplitude',\n",
       "       'CTZ Holding current', 'CTZ Amplitude', 'Glu Holding current',\n",
       "       'Glu Amplitude', 'KA Holding current.1', 'KA Amplitude.1'],\n",
       "      dtype='object')"
      ]
     },
     "execution_count": 291,
     "metadata": {},
     "output_type": "execute_result"
    }
   ],
   "source": [
    "hom_amp_df.columns"
   ]
  },
  {
   "cell_type": "code",
   "execution_count": 292,
   "metadata": {},
   "outputs": [],
   "source": [
    "# make the errorbar dictionary\n",
    "\n",
    "hom_sem_df = hom_amp_df.groupby('Mutant')['KA Amplitude'].sem()/1000\n",
    "\n",
    "# make a list of errors in the order of the final plot\n",
    "hom_sem_list = []\n",
    "for m in homomer_mutants:\n",
    "    hom_sem_list.append(hom_sem_df[m])\n",
    "    \n",
    "    \n",
    "het_sem_df = het_amp_df.groupby('Mutant')['KA Amplitude'].sem()/1000\n",
    "\n",
    "het_sem_list = []\n",
    "for m in het_mutants:\n",
    "    het_sem_list.append(het_sem_df[m])"
   ]
  },
  {
   "cell_type": "code",
   "execution_count": null,
   "metadata": {},
   "outputs": [],
   "source": []
  },
  {
   "cell_type": "code",
   "execution_count": 296,
   "metadata": {
    "scrolled": false
   },
   "outputs": [
    {
     "data": {
      "image/png": "[encoded data removed]",
      "text/plain": [
       "<matplotlib.figure.Figure at 0xc99f630>"
      ]
     },
     "metadata": {},
     "output_type": "display_data"
    }
   ],
   "source": [
    "\n",
    "def swarmplot_format(ylabel='Amplitude (nA)', fontsize=16, xlabels=het_labels):\n",
    "    sns.set_style(\"ticks\", {\"axes.linewidth\": 1})\n",
    "    plt.xticks(range(len(xlabels)), xlabels, rotation=45, size=fontsize, ha='right')\n",
    "    plt.xlabel('')\n",
    "    plt.yticks(size=fontsize)\n",
    "    plt.ylabel(ylabel, size=fontsize)\n",
    "    sns.despine()\n",
    "    plt.tight_layout()\n",
    "    pass\n",
    "\n",
    "\n",
    "# Make a plot of hom and het amplitude\n",
    "\n",
    "fig = plt.figure(figsize=(8,8))\n",
    "ax1 = plt.subplot(211)\n",
    "\n",
    "sns.barplot(x=hom_amp_df['Mutant'], y=hom_amp_df['KA Amplitude']/1000, ci=None,\n",
    "              order=homomer_mutants, alpha=0.9, palette=color_dict, yerr=hom_sem_list)\n",
    "\n",
    "sns.swarmplot(x=hom_amp_df['Mutant'], y=hom_amp_df['KA Amplitude']/1000, \n",
    "              color='k', order=homomer_mutants)\n",
    "swarmplot_format(fontsize=16, xlabels=homomer_mutants, ylabel='Amplitude (nA)')\n",
    "plt.title('KA-evoked current: GluA2 Homomers', fontsize=16)\n",
    "\n",
    "\n",
    "ax2 = plt.subplot(212)\n",
    "sns.barplot(x=het_amp_df['Mutant'], y=het_amp_df['KA Amplitude']/1000, ci=None,\n",
    "              order=het_mutants, alpha=0.9, palette=color_dict, yerr=het_sem_list)\n",
    "sns.swarmplot(x=het_amp_df['Mutant'], y=het_amp_df['KA Amplitude']/1000, \n",
    "              color='k', order=het_mutants)\n",
    "swarmplot_format(ylabel='Amplitude (nA)', fontsize=16, xlabels=het_labels)\n",
    "plt.title('KA-evoked current: Co-expression with GluA1', fontsize=16)\n",
    "\n",
    "plt.subplots_adjust(hspace=1)\n",
    "\n",
    "\n",
    "plt.savefig('Amplitude_resub_March_Color.pdf', transparent=True)\n",
    "plt.show()\n"
   ]
  },
  {
   "cell_type": "code",
   "execution_count": null,
   "metadata": {
    "scrolled": false
   },
   "outputs": [],
   "source": []
  },
  {
   "cell_type": "markdown",
   "metadata": {},
   "source": [
    "# Heteromer expression data: GluR1 and GluR2"
   ]
  },
  {
   "cell_type": "code",
   "execution_count": null,
   "metadata": {
    "scrolled": false
   },
   "outputs": [],
   "source": [
    "# Use sns.axes_style() to output style parameters\n",
    "\n",
    "\n",
    "#Annotation:\n",
    "\n",
    "y = (gluR1_df['KA Amplitude'][gluR1_df['Mutant']=='GRIA1'].max()/1000)\n",
    "h = y*1.3\n",
    "\n",
    "signif = ['', '**', '****', '**', '**']\n",
    "\n",
    "def sig_stars(h, star_list, color='black', size=24):\n",
    "    for x in range(0, len(star_list)):\n",
    "        plt.text(x, h, star_list[x], ha='center', va='bottom', color=color, size=size)\n",
    "        pass\n",
    "\n",
    "\n",
    "\n",
    "plt.figure(figsize=(12,6))\n",
    "fig = sns.swarmplot(x=gluR1_df['Mutant'], y=(gluR1_df['KA Amplitude']/1000), order=resub_mutants, \n",
    "                    color='black')\n",
    "\n",
    "\n",
    "#fig.map(plt.hist,'Outstate',bins=20,alpha=0.7)\n",
    "\n",
    "\n",
    "\n",
    "#sig_stars(h, signif, color='red', size=20)\n",
    "\n",
    "#fig = sns.boxplot(x=gluR1_df['Mutant'], y=(gluR1_df['KA Amplitude']/1000), order=resub_mutants, \n",
    "                  #saturation=1, width=0.4, boxprops=dict(alpha=.3), showfliers=False)\n",
    "    \n",
    "sns.barplot(x=gluR1_df['Mutant'], y=(gluR1_df['KA Amplitude']/1000), order=resub_mutants, \n",
    "                  saturation=1, )  \n",
    "swarmplot_format()\n",
    "\n",
    "\n",
    "#plt.savefig('181121_KA_amp_hetero_black_small.pdf')\n",
    "\n",
    "\n",
    "# Calculate t-test p-values\n",
    "WT_gluR1_df = gluR1_df[gluR1_df['Mutant'] == 'WT']\n",
    "\n",
    "# the number unpacks the p-value from the returned tuple\n",
    "rawP_gluR1 = gluR1_df.groupby('Mutant')['KA Amplitude'].apply(lambda x: stats.ttest_ind(x, WT_gluR1_df['KA Amplitude'], \n",
    "                                                                              equal_var=False)[1])\n",
    "\n",
    "print(rawP_gluR1)"
   ]
  },
  {
   "cell_type": "code",
   "execution_count": null,
   "metadata": {
    "scrolled": false
   },
   "outputs": [],
   "source": [
    "# Figure out how to add p-values to the graph\n",
    "# turn p value chart into dict and lookup with star function\n",
    "\n",
    "def assign_stars(p):\n",
    "    if p > 0.05:\n",
    "        return 'ns'\n",
    "    elif p > 0.01:\n",
    "        return '*'\n",
    "    elif p > 0.001:\n",
    "        return '**'\n",
    "    else:\n",
    "        return '***'\n",
    "\n",
    "#rawP_gluR1.to_dict()\n",
    "\n",
    "GluR1_res = pd.DataFrame(rawP_gluR1)\n",
    "GluR1_res.columns = ['rawP']\n",
    "GluR1_res['raw_sig'] = GluR1_res.rawP.apply(lambda x: assign_stars(x))\n",
    "GluR1_res['bonferroni_p'] = multipletests(rawP_gluR1, method='bonferroni')[1]\n",
    "GluR1_res['adj_sig'] = GluR1_res.bonferroni_p.apply(lambda x: assign_stars(x))\n",
    "GluR1_res"
   ]
  },
  {
   "cell_type": "code",
   "execution_count": null,
   "metadata": {},
   "outputs": [],
   "source": [
    "ramps_df.head(10)\n"
   ]
  },
  {
   "cell_type": "code",
   "execution_count": null,
   "metadata": {},
   "outputs": [],
   "source": [
    "\n",
    "#ramps_df = ramps_df[ramps_df.Mutant.isin(resub_mutants)]\n",
    "#ramps_df_baby = ramps_df[ramps_df.Mutant != 'V647L']\n",
    "stats.kurtosis(ramps_df['RI'])"
   ]
  },
  {
   "cell_type": "code",
   "execution_count": null,
   "metadata": {
    "scrolled": false
   },
   "outputs": [],
   "source": [
    "ramps_df.groupby('Mutant')['RI'].count()"
   ]
  },
  {
   "cell_type": "code",
   "execution_count": null,
   "metadata": {
    "collapsed": true
   },
   "outputs": [],
   "source": [
    "WT_ramps = ramps_df[ramps_df['Mutant'] == 'WT']\n",
    "\n",
    "# the number unpacks the p-value from the returned tuple\n",
    "rawP = ramps_df.groupby('Mutant')['RI'].apply(lambda x: stats.ttest_ind(x, WT_ramps['RI'], equal_var=False)[1])"
   ]
  },
  {
   "cell_type": "code",
   "execution_count": null,
   "metadata": {},
   "outputs": [],
   "source": [
    "rawP"
   ]
  },
  {
   "cell_type": "code",
   "execution_count": null,
   "metadata": {},
   "outputs": [],
   "source": [
    "print(rawP < 0.05)\n",
    "\n"
   ]
  },
  {
   "cell_type": "code",
   "execution_count": null,
   "metadata": {
    "collapsed": true
   },
   "outputs": [],
   "source": [
    "\n",
    "p_adjusted = multipletests(rawP, method='bonferroni')"
   ]
  },
  {
   "cell_type": "code",
   "execution_count": null,
   "metadata": {},
   "outputs": [],
   "source": [
    "p_adjusted"
   ]
  },
  {
   "cell_type": "code",
   "execution_count": null,
   "metadata": {
    "scrolled": false
   },
   "outputs": [],
   "source": [
    "# ramps RI data\n",
    "\n",
    "plt.figure(figsize=(12,6))\n",
    "fig = sns.swarmplot(x=ramps_df['Mutant'], y=(ramps_df['RI']*-1), order=resub_mutants, \n",
    "                    color='black')\n",
    "sns.barplot(x=ramps_df['Mutant'], y=(ramps_df['RI']*-1), order=resub_mutants, \n",
    "                  saturation=1, )  \n",
    "swarmplot_format(ylabel='RI')\n"
   ]
  },
  {
   "cell_type": "code",
   "execution_count": null,
   "metadata": {},
   "outputs": [],
   "source": [
    "# For supplementary: \n",
    "# Check this: do the labels line up properly?\n",
    "\n",
    "sns.swarmplot(x=gluR1_df['Mutant'], y=(gluR1_df['KA Holding current']/1000), color='k')\n",
    "swarmplot_format(ylabel='Holding current (nA)', fontsize=16, )\n",
    "#plt.savefig('Heteromer_holding_supp3_bw.pdf', transparent=True)"
   ]
  },
  {
   "cell_type": "markdown",
   "metadata": {
    "collapsed": true
   },
   "source": [
    "# Plot the RI against the amplitude"
   ]
  },
  {
   "cell_type": "code",
   "execution_count": null,
   "metadata": {},
   "outputs": [],
   "source": [
    "ramps_df.head(1)"
   ]
  },
  {
   "cell_type": "code",
   "execution_count": null,
   "metadata": {
    "collapsed": true
   },
   "outputs": [],
   "source": [
    "# make a colourscheme for the scatterplot\n",
    "\n",
    "control_wt = 'black'\n",
    "control_pos = 'grey'\n",
    "gate = 'green'\n",
    "linker = 'purple'\n",
    "Nterm = 'blue'\n",
    "Select = 'red'\n",
    "\n",
    "\n",
    "scatter_cmap = {'WT':control_wt, 'GRIA1':control_pos, 'G47E':Nterm, 'D302G':Nterm,'I375V':control, 'P528T':linker, \n",
    "                '528Del':linker, 'Q607E':Select, 'G609R':Select, 'D611N':Select, \n",
    "                 'A639S':gate, 'F644L':gate, 'T646N':gate, 'V647L':gate}\n",
    "\n",
    "# Don't use this: use color_dict"
   ]
  },
  {
   "cell_type": "code",
   "execution_count": null,
   "metadata": {
    "scrolled": true
   },
   "outputs": [],
   "source": []
  },
  {
   "cell_type": "code",
   "execution_count": 256,
   "metadata": {
    "scrolled": true
   },
   "outputs": [
    {
     "data": {
      "image/png": "[encoded data removed]",
      "text/plain": [
       "<matplotlib.figure.Figure at 0xca126a0>"
      ]
     },
     "metadata": {},
     "output_type": "display_data"
    }
   ],
   "source": [
    "for row in range(len(het_ramps_df)):\n",
    "    data = het_ramps_df.iloc[row]\n",
    "    x = data['-70mV I']*-1\n",
    "    y = data['RI']\n",
    "    m = data['Mutant']\n",
    "\n",
    "    if m in color_dict.keys():\n",
    "        c = color_dict[m]\n",
    "        plt.scatter(x,y,color=c,alpha=0.8)\n",
    "\n",
    "    \n",
    "\n",
    "plt.show()"
   ]
  },
  {
   "cell_type": "code",
   "execution_count": null,
   "metadata": {
    "collapsed": true
   },
   "outputs": [],
   "source": []
  },
  {
   "cell_type": "code",
   "execution_count": 260,
   "metadata": {},
   "outputs": [
    {
     "data": {
      "text/html": [
       "<div>\n",
       "<style>\n",
       "    .dataframe thead tr:only-child th {\n",
       "        text-align: right;\n",
       "    }\n",
       "\n",
       "    .dataframe thead th {\n",
       "        text-align: left;\n",
       "    }\n",
       "\n",
       "    .dataframe tbody tr th {\n",
       "        vertical-align: top;\n",
       "    }\n",
       "</style>\n",
       "<table border=\"1\" class=\"dataframe\">\n",
       "  <thead>\n",
       "    <tr style=\"text-align: right;\">\n",
       "      <th></th>\n",
       "      <th>-70mV I</th>\n",
       "      <th>RI</th>\n",
       "    </tr>\n",
       "    <tr>\n",
       "      <th>Mutant</th>\n",
       "      <th></th>\n",
       "      <th></th>\n",
       "    </tr>\n",
       "  </thead>\n",
       "  <tbody>\n",
       "    <tr>\n",
       "      <th>A639S</th>\n",
       "      <td>-1283.597463</td>\n",
       "      <td>-0.403514</td>\n",
       "    </tr>\n",
       "    <tr>\n",
       "      <th>D302G</th>\n",
       "      <td>-295.668858</td>\n",
       "      <td>-0.058419</td>\n",
       "    </tr>\n",
       "    <tr>\n",
       "      <th>D611N</th>\n",
       "      <td>-1475.631682</td>\n",
       "      <td>-0.564678</td>\n",
       "    </tr>\n",
       "  </tbody>\n",
       "</table>\n",
       "</div>"
      ],
      "text/plain": [
       "            -70mV I        RI\n",
       "Mutant                       \n",
       "A639S  -1283.597463 -0.403514\n",
       "D302G   -295.668858 -0.058419\n",
       "D611N  -1475.631682 -0.564678"
      ]
     },
     "execution_count": 260,
     "metadata": {},
     "output_type": "execute_result"
    }
   ],
   "source": [
    "ramps_paper = het_ramps_df[het_ramps_df['Mutant'] != 'W788L']\n",
    "DK_scatter = ramps_paper.groupby('Mutant')[['-70mV I','RI']].mean()\n",
    "DK_scatter.head(3)"
   ]
  },
  {
   "cell_type": "code",
   "execution_count": 261,
   "metadata": {
    "collapsed": true
   },
   "outputs": [],
   "source": [
    "# Need to add in the statistics here. Maybe 528T has a sig reduced RI?\n",
    "\n",
    "DK_error = ramps_paper.groupby('Mutant')[['-70mV I','RI']].sem()"
   ]
  },
  {
   "cell_type": "code",
   "execution_count": 262,
   "metadata": {},
   "outputs": [
    {
     "data": {
      "text/plain": [
       "Index(['-70mV I', 'RI'], dtype='object')"
      ]
     },
     "execution_count": 262,
     "metadata": {},
     "output_type": "execute_result"
    }
   ],
   "source": [
    "DK_error.columns"
   ]
  },
  {
   "cell_type": "code",
   "execution_count": 263,
   "metadata": {},
   "outputs": [
    {
     "data": {
      "image/png": "[encoded data removed]",
      "text/plain": [
       "<matplotlib.figure.Figure at 0xce08748>"
      ]
     },
     "metadata": {},
     "output_type": "display_data"
    }
   ],
   "source": [
    "\n",
    "\n",
    "fig = plt.figure(figsize=(10,10\n",
    "                         ))\n",
    "\n",
    "#plt.scatter(x=DK_scatter['-70mV I']*-1, y=DK_scatter['RI'])\n",
    "plt.xlabel('KA max I (pA)', fontsize=14)\n",
    "plt.ylabel('RI', fontsize=14)\n",
    "plt.xticks(fontsize=14)\n",
    "plt.yticks(fontsize=14)\n",
    "plt.errorbar(x=DK_scatter['-70mV I']*-1, y=DK_scatter['RI'], xerr=DK_error['-70mV I'], \n",
    "             yerr=DK_error['RI'], fmt='o', alpha=1, )\n",
    "\n",
    "#add tags\n",
    "for row in range(len(DK_scatter)):\n",
    "    label = DK_scatter.index[row]\n",
    "    x = DK_scatter['-70mV I'][row]\n",
    "    y = DK_scatter['RI'][row]\n",
    "    plt.text((x*-1)+20,y+0.01,label, fontsize=13)\n",
    "   \n",
    "    \n",
    "sns.despine()\n",
    "plt.savefig('MaxI_vsRI_resub_draft.pdf')\n",
    "plt.show()"
   ]
  },
  {
   "cell_type": "code",
   "execution_count": null,
   "metadata": {},
   "outputs": [],
   "source": [
    "\n",
    "    \n",
    "mutant_order = ['WT', 'G609R', 'A639S', 'T646N']\n",
    "paper_mutants = ['WT', 'GRIA1', 'G609R', 'A639S', 'T646N']\n",
    "\n",
    "df_plot = df[df['Mutant'].isin(paper_mutants)]\n",
    "\n",
    "poster_pal_UCL = {'WT':'#0097a9', 'GRIA1':'#d50032', 'G609R':'#f6be00', 'A639S':'#8f993e', 'T646N':'#500778'} #only used for poster\n",
    "\n",
    "plt.figure(figsize=(3.5,4))\n",
    "fig = sns.swarmplot(x=df_plot['Mutant'], y=(df_plot['KA Amplitude']/1000), order=mutant_order, color='black')\n",
    "swarmplot_format(xlabels=('WT', 'G609R', 'A639S', 'T646N'))\n",
    "\n",
    "\n",
    "#Annotation:\n",
    "\n",
    "y = (df_plot['KA Amplitude'][df_plot['Mutant']=='G609R'].max())/1000\n",
    "h = y*3.5\n",
    "\n",
    "signif = ['', '***', '***', '***']\n",
    "sig_stars(h, signif, color='red', size=20)\n",
    "\n",
    "for label in fig.get_yticklabels()[::2]:\n",
    "    label.set_visible(False)\n",
    "\n",
    "plt.savefig('G2_homomers_paper_small.pdf')\n",
    "plt.show()\n"
   ]
  },
  {
   "cell_type": "code",
   "execution_count": null,
   "metadata": {
    "collapsed": true
   },
   "outputs": [],
   "source": []
  },
  {
   "cell_type": "code",
   "execution_count": null,
   "metadata": {
    "collapsed": true
   },
   "outputs": [],
   "source": [
    "#Take the 2 columns we need to graph\n",
    "Amp = df[['Mutant', 'KA Amplitude']]\n",
    "Hold = df[['Mutant', 'KA Holding current']]"
   ]
  },
  {
   "cell_type": "code",
   "execution_count": null,
   "metadata": {
    "collapsed": true
   },
   "outputs": [],
   "source": [
    "AmpG = Amp.groupby('Mutant')\n",
    "HoldG = Hold.groupby('Mutant')"
   ]
  },
  {
   "cell_type": "code",
   "execution_count": null,
   "metadata": {
    "collapsed": true
   },
   "outputs": [],
   "source": [
    "A = AmpG.agg(['mean', 'sem'])\n",
    "H = HoldG.agg(['mean', 'sem', 'count'])\n",
    "summary = pd.concat([A,H], axis=1).round(0)\n",
    "#concatenate the 2 df, matching the axis(??) then remove the decimals with round"
   ]
  },
  {
   "cell_type": "code",
   "execution_count": null,
   "metadata": {
    "collapsed": true
   },
   "outputs": [],
   "source": []
  },
  {
   "cell_type": "code",
   "execution_count": null,
   "metadata": {
    "collapsed": true,
    "scrolled": true
   },
   "outputs": [],
   "source": [
    "Amean = summary['KA Amplitude', 'mean']\n",
    "Aerr = summary['KA Amplitude', 'sem']\n",
    "fig, ax = plt.subplots(sharex=False, sharey=False)\n",
    "ax1 = plt.subplot(2,1,1)\n",
    "\n",
    "\n",
    "Amean.plot.bar(yerr=Aerr, ax=ax1)\n",
    "# plt.title('KA [1mM] Amplitude')\n",
    "# ax1.set_title('Title!!')\n",
    "\n",
    "ax1.set_ylabel('label')\n",
    "\n",
    "\n",
    "\n",
    "#ax1.xaxis.set_label_text('foo')\n",
    "ax1.xaxis.label.set_visible(False)"
   ]
  },
  {
   "cell_type": "code",
   "execution_count": null,
   "metadata": {
    "collapsed": true
   },
   "outputs": [],
   "source": []
  },
  {
   "cell_type": "code",
   "execution_count": null,
   "metadata": {
    "collapsed": true
   },
   "outputs": [],
   "source": []
  },
  {
   "cell_type": "code",
   "execution_count": null,
   "metadata": {
    "collapsed": true
   },
   "outputs": [],
   "source": []
  },
  {
   "cell_type": "code",
   "execution_count": null,
   "metadata": {
    "collapsed": true
   },
   "outputs": [],
   "source": []
  },
  {
   "cell_type": "code",
   "execution_count": null,
   "metadata": {
    "collapsed": true
   },
   "outputs": [],
   "source": [
    "#Example of how to do statistical annotation\n",
    "\n",
    "tips = sns.load_dataset(\"tips\")\n",
    "sns.boxplot(x=\"day\", y=\"total_bill\", data=tips, palette=\"PRGn\")\n",
    "\n",
    "# statistical annotation\n",
    "x1, x2, x3 = 1, 2, 3   # columns 'Sat' and 'Sun' (first column: 0, see plt.xticks())\n",
    "y, h = tips['total_bill'].max() + 2, 2\n",
    "\n",
    "plt.plot([x1, x1, x2, x2], [y, y+h, y+h, y], lw=1.5, color='black')\n",
    "plt.text((x1+x2)*.5, y+h, \"ns\", ha='center', va='bottom', color='k')\n",
    "\n",
    "plt.show()"
   ]
  },
  {
   "cell_type": "code",
   "execution_count": null,
   "metadata": {
    "collapsed": true
   },
   "outputs": [],
   "source": [
    "# Example from Jonny\n",
    "\n",
    "%matplotlib inline\n",
    "import numpy as np\n",
    "import matplotlib.pyplot as plt\n",
    "import pandas as pd\n",
    "import pickle\n",
    "import scipy.stats as ss\n",
    "\n",
    "#import seaborn as sns\n",
    "\n",
    "def make_bar(ppr1, overlap1, savename, paired_t_test = True):\n",
    "    # Make the figure and axes objects where the chart will go\n",
    "    fig = plt.figure(figsize = (4,5))\n",
    "    ax = fig.add_subplot(111)\n",
    "    \n",
    "    # Plot the points as a scatter, \"np.ones(ppr1.shape)*1\" sets the x coords. (make an array of ones\n",
    "    # and multply by where you want the middle of the bar to be)\n",
    "    ax.scatter(np.ones(ppr1.shape)*1,ppr1,  c = 'white',zorder = 2, s= 40,)\n",
    "    ax.scatter(np.ones(overlap1.shape)*2,overlap1, c =  'white',zorder = 2, s= 40)\n",
    "\n",
    "    # Plot the a bar at the mean of the conditions\n",
    "    ppr_mean = np.mean(ppr1)\n",
    "    overlap_mean = np.mean(overlap1)\n",
    "    ax.bar(0.75,ppr_mean, width=0.5, zorder = 1, facecolor = 'white')\n",
    "    ax.bar(1.75,overlap_mean, width=0.5,zorder = 1, facecolor = 'white')\n",
    "    \n",
    "    # Plot an errorbar around the mean you just worked out\n",
    "    ppr_sem = ss.sem(ppr1)\n",
    "    overlap_sem = ss.sem(overlap1)\n",
    "    ax.errorbar(1,ppr_mean, yerr= ppr_sem, color ='k')\n",
    "    ax.errorbar(2,overlap_mean, yerr= overlap_sem, color ='k')\n",
    "\n",
    "    # Make your 100% line, note the \"zorder\" argument which means draw this first!\n",
    "    #ax.hlines(100,0,3,color = 'k', linestyles= '--',zorder = 1)\n",
    "    \n",
    "    # Plot the pairing lines, by looping through the conditions, x_toplot is just the center of the bar\n",
    "    for i in range(ppr1.shape[0]):\n",
    "        x_toplot = [1,2]\n",
    "        y_toplot = [ppr1[i], overlap1[i]]\n",
    "        ax.plot(x_toplot,y_toplot, 'k')\n",
    "        \n",
    "    # Do some housework - set graph limits...\n",
    "    ax.set_ylim(0)\n",
    "    ax.set_xlim(0.25,2.75)\n",
    "    # ... Remove the right and top lines (stop the plot being a box)\n",
    "    ax.spines['top'].set_visible(False)\n",
    "    ax.spines['right'].set_visible(False)\n",
    "    ax.get_yaxis().tick_left()\n",
    "    ax.get_xaxis().tick_bottom()\n",
    "    \n",
    "    # Add y axis label\n",
    "    ax.set_ylabel('NMDA-AMPA charge ratio', fontsize = 13)\n",
    "    \n",
    "    # Set ticks to just be where you have bars\n",
    "    ax.xaxis.set_ticks([1,2])\n",
    "    # Now change what those ticks are called\n",
    "    labels = [item.get_text() for item in ax.get_xticklabels()]\n",
    "    labels[0] = 'Feed \\n forward'\n",
    "    labels[1] = 'Feed \\n back'\n",
    "    ax.set_xticklabels(labels, fontsize = 13)\n",
    "    \n",
    "    # Do a paired ttest, and annotate the barchart\n",
    "    if paired_t_test:\n",
    "        tt_result = ss.ttest_rel(ppr1,overlap1)\n",
    "        p = tt_result[1]\n",
    "        y_pos = ax.get_ylim()[1]\n",
    "        ax.annotate('p = '+'%s' % float('%.2g' % p), xy= (1,y_pos - 1), fontsize = 13)\n",
    "    \n",
    "    # Save\n",
    "    plt.savefig(savename)\n"
   ]
  },
  {
   "cell_type": "code",
   "execution_count": null,
   "metadata": {
    "collapsed": true
   },
   "outputs": [],
   "source": []
  }
 ],
 "metadata": {
  "kernelspec": {
   "display_name": "Python 3",
   "language": "python",
   "name": "python3"
  },
  "language_info": {
   "codemirror_mode": {
    "name": "ipython",
    "version": 3
   },
   "file_extension": ".py",
   "mimetype": "text/x-python",
   "name": "python",
   "nbconvert_exporter": "python",
   "pygments_lexer": "ipython3",
   "version": "3.6.1"
  }
 },
 "nbformat": 4,
 "nbformat_minor": 2
}
