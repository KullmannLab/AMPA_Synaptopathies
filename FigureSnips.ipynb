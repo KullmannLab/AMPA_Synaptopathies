{
 "cells": [
  {
   "cell_type": "code",
   "execution_count": 2,
   "metadata": {},
   "outputs": [],
   "source": [
    "import os\n",
    "import pandas as pd\n",
    "import matplotlib as mpl\n",
    "from matplotlib import pyplot as plt\n",
    "import numpy as np\n",
    "from neo import io\n",
    "import quantities as pq\n",
    "\n",
    "mpl.rcParams['pdf.fonttype'] = 42\n",
    "\n",
    "%matplotlib inline"
   ]
  },
  {
   "cell_type": "markdown",
   "metadata": {},
   "source": [
    "1 Pass a spreadsheet with information on the cells to plot\n",
    "\n",
    "2 Plot a series of subplots with the waveforms on the same scale"
   ]
  },
  {
   "cell_type": "code",
   "execution_count": 3,
   "metadata": {
    "collapsed": true
   },
   "outputs": [],
   "source": [
    "def read_file(filepath):\n",
    "    '''Reads in one WinEDR recording. Returns current and time'''\n",
    "    r = io.WinEdrIO(filename=filepath)\n",
    "    seg = r.read_segment(lazy=False, cascade=True,)\n",
    "    I = seg.analogsignals[0]\n",
    "    time = seg.analogsignals[0].times\n",
    "    return (I, time)"
   ]
  },
  {
   "cell_type": "code",
   "execution_count": null,
   "metadata": {
    "collapsed": true
   },
   "outputs": [],
   "source": []
  },
  {
   "cell_type": "code",
   "execution_count": 29,
   "metadata": {},
   "outputs": [],
   "source": [
    "def convert(sec, sampling_rate=1000):\n",
    "    '''Converts time(s) to number of samples'''\n",
    "    return sec*sampling_rate\n",
    "\n",
    "def section(from_s, to_s,  time_array, data_array, sampling_rate=1000):\n",
    "    '''Takes a slice of recording defined by start and end times (from_s, to_s)'''\n",
    "    return(time_array[convert(from_s):convert(to_s)], data_array[convert(from_s):convert(to_s)])\n",
    "\n",
    "def plot_section(from_s, to_s, time_array, data_array, sampling_rate=1000,):\n",
    "    '''Plots a section of recording defined by start and end times (from_s, to_s)'''\n",
    "    plt.xlabel('Time (s)')\n",
    "    plt.ylabel('Current (pA)')\n",
    "    plt.title('Filename: %s' %filename)\n",
    "    return plt.plot(time_array[convert(from_s):convert(to_s)], data_array[convert(from_s):convert(to_s)])\n"
   ]
  },
  {
   "cell_type": "code",
   "execution_count": 161,
   "metadata": {
    "collapsed": true
   },
   "outputs": [],
   "source": [
    "# read in the information about waveforms\n",
    "\n",
    "df = pd.read_excel('C://Users//cdixon//Documents//DataSynaptopathies//2017Electrophysiology/825RigBackup/GluR2_KA_summary211118.xlsx',\n",
    "                              sheetname='Hom_figures_choose')\n",
    "\n",
    "df = df[df['Include'] != 'N']\n",
    "df = df[['Filename', 'Date', 'Mutant','Centre of waveform (s)']].dropna()"
   ]
  },
  {
   "cell_type": "code",
   "execution_count": 162,
   "metadata": {},
   "outputs": [],
   "source": [
    "order = ['WT', '—', 'GRIA1' 'G47E', 'D302G','I375V', 'P528T', 'PQK528-530Del', 'P528-530Del', 'Q607E', 'G609R', 'D611N', \n",
    "                 'A639S', 'F644L', 'T646N', 'V647L']\n",
    "\n",
    "sort_dict = dict(zip(order, range(len(order))))\n",
    "\n",
    "df['order'] = [sort_dict[m] for m in df['Mutant']]\n",
    "df = df.sort_values('order')"
   ]
  },
  {
   "cell_type": "code",
   "execution_count": null,
   "metadata": {},
   "outputs": [],
   "source": []
  },
  {
   "cell_type": "code",
   "execution_count": 114,
   "metadata": {},
   "outputs": [],
   "source": []
  },
  {
   "cell_type": "code",
   "execution_count": 163,
   "metadata": {
    "collapsed": true
   },
   "outputs": [],
   "source": [
    "class Waveform:\n",
    "    def __init__(self, filename, centre, duration):\n",
    "        '''centre and duration are in ms; this gives the location of the waveform\n",
    "        and the length of recording to display'''\n",
    "        start = int(centre - duration*0.5)\n",
    "        end = int(centre + duration*0.5) \n",
    "        I, t = read_file(filename)\n",
    "        self.I = I.magnitude[start:end]\n",
    "        self.t = t.magnitude[start:end]\n",
    "        baseline = self.I.max() #could make this a seperate function\n",
    "        self.I = self.I - baseline\n",
    "    "
   ]
  },
  {
   "cell_type": "code",
   "execution_count": null,
   "metadata": {
    "collapsed": true
   },
   "outputs": [],
   "source": []
  },
  {
   "cell_type": "code",
   "execution_count": 164,
   "metadata": {
    "scrolled": true
   },
   "outputs": [
    {
     "data": {
      "image/png": "[encoded data removed]",
      "text/plain": [
       "<matplotlib.figure.Figure at 0xc7dc828>"
      ]
     },
     "metadata": {},
     "output_type": "display_data"
    }
   ],
   "source": [
    "# Need to convert this to an axis; make them share the axes\n",
    "\n",
    "\n",
    "fig, axs = plt.subplots(1, 8, figsize=(12, 2), sharey=True)\n",
    "\n",
    "for i in range(len(df)):\n",
    "    mutant = df.iloc[i, 2]\n",
    "    filename = df.iloc[i,0] + '.EDR'\n",
    "    centre = df.iloc[i,3]*1000\n",
    "    wave = Waveform(filename, centre, 4000)\n",
    "    ax = axs[i]\n",
    "    \n",
    "    ax.plot(wave.t,wave.I)\n",
    "    ax.set_title(mutant)\n",
    "    ax.spines['right'].set_color('none')\n",
    "    ax.spines['top'].set_color('none')\n",
    "    ax.set_xticks(np.arange(int(min(wave.t)), int(max(wave.t)), 1.0))\n",
    "    ax.set_xticklabels(np.arange(int(min(wave.t)), int(max(wave.t)), 1.0), rotation=45)\n",
    "    \n",
    "plt.show()\n",
    "\n",
    "   #np.arange(min(wave.t), max(wave.t) \n",
    "    "
   ]
  },
  {
   "cell_type": "code",
   "execution_count": null,
   "metadata": {},
   "outputs": [],
   "source": []
  },
  {
   "cell_type": "code",
   "execution_count": null,
   "metadata": {
    "collapsed": true
   },
   "outputs": [],
   "source": []
  }
 ],
 "metadata": {
  "kernelspec": {
   "display_name": "Python 3",
   "language": "python",
   "name": "python3"
  },
  "language_info": {
   "codemirror_mode": {
    "name": "ipython",
    "version": 3
   },
   "file_extension": ".py",
   "mimetype": "text/x-python",
   "name": "python",
   "nbconvert_exporter": "python",
   "pygments_lexer": "ipython3",
   "version": "3.6.1"
  }
 },
 "nbformat": 4,
 "nbformat_minor": 2
}
